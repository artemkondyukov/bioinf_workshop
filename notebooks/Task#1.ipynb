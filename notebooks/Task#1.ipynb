{
 "cells": [
  {
   "cell_type": "markdown",
   "metadata": {},
   "source": [
    "# CONSTANTS"
   ]
  },
  {
   "cell_type": "code",
   "execution_count": 12,
   "metadata": {},
   "outputs": [],
   "source": [
    "FASTQC_PATH = \"/home/analytics/distr/FastQC/fastqc\"\n",
    "TRIMMOMATIC_JAR = \"/home/analytics/bin/trimmomatic.jar\""
   ]
  },
  {
   "cell_type": "markdown",
   "metadata": {},
   "source": [
    "# Data fetching"
   ]
  },
  {
   "cell_type": "code",
   "execution_count": 1,
   "metadata": {},
   "outputs": [],
   "source": [
    "!mkdir -p ../data/\n",
    "!wget -P ../data/ ftp://ftp.ncbi.nlm.nih.gov/genomes/genbank/bacteria/Escherichia_coli/all_assembly_versions/GCA_000005845.2_ASM584v2/GCA_000005845.2_ASM584v2_genomic.fna.gz 2> /dev/null\n",
    "!wget -P ../data/ ftp://ftp.ncbi.nlm.nih.gov/genomes/genbank/bacteria/Escherichia_coli/all_assembly_versions/GCA_000005845.2_ASM584v2/GCA_000005845.2_ASM584v2_genomic.gff.gz 2> /dev/null"
   ]
  },
  {
   "cell_type": "code",
   "execution_count": 2,
   "metadata": {},
   "outputs": [],
   "source": [
    "!wget -P ../data/ http://public.dobzhanskycenter.ru/mrayko/amp_res_1.fastq.zip 2> /dev/null\n",
    "!wget -P ../data/ http://public.dobzhanskycenter.ru/mrayko/amp_res_2.fastq.zip 2> /dev/null"
   ]
  },
  {
   "cell_type": "code",
   "execution_count": 3,
   "metadata": {},
   "outputs": [
    {
     "name": "stdout",
     "output_type": "stream",
     "text": [
      "Archive:  ../data/amp_res_1.fastq.zip\n",
      "  inflating: ../data/amp_res_1.fastq  \n",
      "Archive:  ../data/amp_res_2.fastq.zip\n",
      "  inflating: ../data/home/mike/UCSD/BIMM185/Week1/amp_res_2.fastq  \n",
      "  inflating: ../data/amp_res_2.fastq  \n"
     ]
    }
   ],
   "source": [
    "!unzip -o ../data/amp_res_1.fastq.zip -d ../data/\n",
    "!unzip -o ../data/amp_res_2.fastq.zip -d ../data/"
   ]
  },
  {
   "cell_type": "markdown",
   "metadata": {},
   "source": [
    "# FastQC analysis"
   ]
  },
  {
   "cell_type": "code",
   "execution_count": 5,
   "metadata": {
    "scrolled": true
   },
   "outputs": [
    {
     "name": "stdout",
     "output_type": "stream",
     "text": [
      "Analysis complete for amp_res_1.fastq\n",
      "Analysis complete for amp_res_2.fastq\n"
     ]
    }
   ],
   "source": [
    "!$FASTQC_PATH ../data/amp_res_1.fastq ../data/amp_res_2.fastq 2> /dev/null"
   ]
  },
  {
   "cell_type": "code",
   "execution_count": 6,
   "metadata": {},
   "outputs": [],
   "source": [
    "from boto.s3 import connect_to_region\n",
    "from boto import connect_s3\n",
    "from boto.s3.key import Key"
   ]
  },
  {
   "cell_type": "code",
   "execution_count": 7,
   "metadata": {},
   "outputs": [],
   "source": [
    "AWS_S3_ROOT = \"http://bioinf-workshop.s3-website.eu-central-1.amazonaws.com/\"\n",
    "\n",
    "def perform_file_upload(file_, file_name):\n",
    "\n",
    "    conn = connect_to_region(\"eu-central-1\", \n",
    "                             aws_access_key_id=open(\"../.access_key\", \"r\").read().strip(),\n",
    "                             aws_secret_access_key=open(\"../.secret_key\", \"r\").read().strip())\n",
    "\n",
    "    bucket = conn.get_bucket(\"bioinf-workshop\")\n",
    "    key = Key(bucket)\n",
    "    key.key = file_name\n",
    "    key.set_contents_from_string(file_, headers={\"Content-Type\": \"text/html\"})\n",
    "    key.set_acl('public-read')\n",
    "    return AWS_S3_ROOT + file_name # public url to access the uploaded file\n"
   ]
  },
  {
   "cell_type": "code",
   "execution_count": 8,
   "metadata": {},
   "outputs": [],
   "source": [
    "f_1 = perform_file_upload(open(\"../data/amp_res_1_fastqc.html\", \"r\").read(), \"week_1/fastqc_1.html\")\n",
    "f_2 = perform_file_upload(open(\"../data/amp_res_2_fastqc.html\", \"r\").read(), \"week_1/fastqc_2.html\")"
   ]
  },
  {
   "cell_type": "code",
   "execution_count": 9,
   "metadata": {},
   "outputs": [
    {
     "data": {
      "text/html": [
       "\n",
       "        <iframe\n",
       "            width=\"1000\"\n",
       "            height=\"600\"\n",
       "            src=\"http://bioinf-workshop.s3-website.eu-central-1.amazonaws.com/week_1/fastqc_1.html\"\n",
       "            frameborder=\"0\"\n",
       "            allowfullscreen\n",
       "        ></iframe>\n",
       "        "
      ],
      "text/plain": [
       "<IPython.lib.display.IFrame at 0x7fc44c0b2d68>"
      ]
     },
     "execution_count": 9,
     "metadata": {},
     "output_type": "execute_result"
    }
   ],
   "source": [
    "from IPython.display import IFrame\n",
    "\n",
    "IFrame(src=f_1, width=1000, height=600)"
   ]
  },
  {
   "cell_type": "code",
   "execution_count": 10,
   "metadata": {},
   "outputs": [
    {
     "data": {
      "text/html": [
       "\n",
       "        <iframe\n",
       "            width=\"1000\"\n",
       "            height=\"600\"\n",
       "            src=\"http://bioinf-workshop.s3-website.eu-central-1.amazonaws.com/week_1/fastqc_2.html\"\n",
       "            frameborder=\"0\"\n",
       "            allowfullscreen\n",
       "        ></iframe>\n",
       "        "
      ],
      "text/plain": [
       "<IPython.lib.display.IFrame at 0x7fc44c0b2e48>"
      ]
     },
     "execution_count": 10,
     "metadata": {},
     "output_type": "execute_result"
    }
   ],
   "source": [
    "from IPython.display import IFrame\n",
    "\n",
    "IFrame(src=f_2, width=1000, height=600)"
   ]
  },
  {
   "cell_type": "markdown",
   "metadata": {},
   "source": [
    "#### Due to presence of '#', ':' etc it's likely that this fastq file has Phred33 scale."
   ]
  },
  {
   "cell_type": "code",
   "execution_count": 24,
   "metadata": {},
   "outputs": [
    {
     "data": {
      "text/plain": [
       "(58, 35)"
      ]
     },
     "execution_count": 24,
     "metadata": {},
     "output_type": "execute_result"
    }
   ],
   "source": [
    "ord(\":\"), ord(\"#\")"
   ]
  },
  {
   "cell_type": "markdown",
   "metadata": {},
   "source": [
    "There are several problems with raw reads:  \n",
    "* Low quality at the end of reads\n",
    "* Systematic error with forward reads (bubble or something like this)\n",
    "* Severely non-uniform distribution of nucleotides at the start of the reads\n",
    "\n",
    "We can adreess the problems using trimmomatic. After several tries I ended up with the following configuration:\n",
    "* Do not crop adapters, probably these adapters are not usual\n",
    "* Crop 20 nucleotides from the start instead\n",
    "* Use sliding window so as to drop low quality at the end and tile problems\n",
    "* Minimal length = 30 as a 'rule of thumb'"
   ]
  },
  {
   "cell_type": "code",
   "execution_count": 79,
   "metadata": {},
   "outputs": [
    {
     "name": "stdout",
     "output_type": "stream",
     "text": [
      "TrimmomaticPE: Started with arguments: -phred33 -trimlog ../data/trim.log ../data/amp_res_1.fastq ../data/amp_res_2.fastq ../data/amp_res_1_p.fastq ../data/amp_res_1_u.fastq ../data/amp_res_2_p.fastq ../data/amp_res_2_u.fastq HEADCROP:20 SLIDINGWINDOW:4:30 MINLEN:30\n",
      "Multiple cores found: Using 16 threads\n",
      "Input Read Pairs: 455876 Both Surviving: 271424 (59.54%) Forward Only Surviving: 53015 (11.63%) Reverse Only Surviving: 43821 (9.61%) Dropped: 87616 (19.22%)\n",
      "TrimmomaticPE: Completed successfully\n"
     ]
    }
   ],
   "source": [
    "!java -jar $TRIMMOMATIC_JAR PE \\\n",
    "    -phred33 \\\n",
    "    -trimlog ../data/trim.log \\\n",
    "    ../data/amp_res_1.fastq ../data/amp_res_2.fastq \\\n",
    "    ../data/amp_res_1_p.fastq ../data/amp_res_1_u.fastq ../data/amp_res_2_p.fastq ../data/amp_res_2_u.fastq \\\n",
    "    HEADCROP:20 SLIDINGWINDOW:4:30 MINLEN:30"
   ]
  },
  {
   "cell_type": "code",
   "execution_count": 80,
   "metadata": {},
   "outputs": [
    {
     "name": "stdout",
     "output_type": "stream",
     "text": [
      "Analysis complete for amp_res_1_p.fastq\n",
      "Analysis complete for amp_res_2_p.fastq\n"
     ]
    }
   ],
   "source": [
    "!$FASTQC_PATH ../data/amp_res_1_p.fastq ../data/amp_res_2_p.fastq 2> /dev/null"
   ]
  },
  {
   "cell_type": "code",
   "execution_count": 81,
   "metadata": {},
   "outputs": [],
   "source": [
    "f_1 = perform_file_upload(open(\"../data/amp_res_1_p_fastqc.html\", \"r\").read(), \"week_1/fastqc_p_1.html\")\n",
    "f_2 = perform_file_upload(open(\"../data/amp_res_2_p_fastqc.html\", \"r\").read(), \"week_1/fastqc_p_2.html\")"
   ]
  },
  {
   "cell_type": "code",
   "execution_count": 82,
   "metadata": {},
   "outputs": [
    {
     "data": {
      "text/html": [
       "\n",
       "        <iframe\n",
       "            width=\"1000\"\n",
       "            height=\"600\"\n",
       "            src=\"http://bioinf-workshop.s3-website.eu-central-1.amazonaws.com/week_1/fastqc_p_1.html\"\n",
       "            frameborder=\"0\"\n",
       "            allowfullscreen\n",
       "        ></iframe>\n",
       "        "
      ],
      "text/plain": [
       "<IPython.lib.display.IFrame at 0x7fc444ac46a0>"
      ]
     },
     "execution_count": 82,
     "metadata": {},
     "output_type": "execute_result"
    }
   ],
   "source": [
    "from IPython.display import IFrame\n",
    "\n",
    "IFrame(src=f_1, width=1000, height=600)"
   ]
  },
  {
   "cell_type": "code",
   "execution_count": 83,
   "metadata": {},
   "outputs": [
    {
     "data": {
      "text/html": [
       "\n",
       "        <iframe\n",
       "            width=\"1000\"\n",
       "            height=\"600\"\n",
       "            src=\"http://bioinf-workshop.s3-website.eu-central-1.amazonaws.com/week_1/fastqc_p_2.html\"\n",
       "            frameborder=\"0\"\n",
       "            allowfullscreen\n",
       "        ></iframe>\n",
       "        "
      ],
      "text/plain": [
       "<IPython.lib.display.IFrame at 0x7fc444ac4588>"
      ]
     },
     "execution_count": 83,
     "metadata": {},
     "output_type": "execute_result"
    }
   ],
   "source": [
    "from IPython.display import IFrame\n",
    "\n",
    "IFrame(src=f_2, width=1000, height=600)"
   ]
  },
  {
   "cell_type": "markdown",
   "metadata": {},
   "source": [
    "Now reads look suitable for further analysis."
   ]
  }
 ],
 "metadata": {
  "anaconda-cloud": {},
  "kernelspec": {
   "display_name": "Python [conda env:anaconda3]",
   "language": "python",
   "name": "conda-env-anaconda3-py"
  },
  "language_info": {
   "codemirror_mode": {
    "name": "ipython",
    "version": 3
   },
   "file_extension": ".py",
   "mimetype": "text/x-python",
   "name": "python",
   "nbconvert_exporter": "python",
   "pygments_lexer": "ipython3",
   "version": "3.5.4"
  }
 },
 "nbformat": 4,
 "nbformat_minor": 2
}
