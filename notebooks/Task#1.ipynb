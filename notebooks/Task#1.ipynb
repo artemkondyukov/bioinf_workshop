{
 "cells": [
  {
   "cell_type": "markdown",
   "metadata": {},
   "source": [
    "# Data fetching"
   ]
  },
  {
   "cell_type": "code",
   "execution_count": null,
   "metadata": {},
   "outputs": [],
   "source": [
    "!mkdir -p ../data/\n",
    "!wget -P ../data/ ftp://ftp.ncbi.nlm.nih.gov/genomes/genbank/bacteria/Escherichia_coli/all_assembly_versions/GCA_000005845.2_ASM584v2/GCA_000005845.2_ASM584v2_genomic.fna.gz 2> /dev/null\n",
    "!wget -P ../data/ ftp://ftp.ncbi.nlm.nih.gov/genomes/genbank/bacteria/Escherichia_coli/all_assembly_versions/GCA_000005845.2_ASM584v2/GCA_000005845.2_ASM584v2_genomic.gff.gz 2> /dev/null"
   ]
  },
  {
   "cell_type": "code",
   "execution_count": null,
   "metadata": {},
   "outputs": [],
   "source": [
    "!wget -P ../data/ http://public.dobzhanskycenter.ru/mrayko/amp_res_1.fastq.zip 2> /dev/null\n",
    "!wget -P ../data/ http://public.dobzhanskycenter.ru/mrayko/amp_res_2.fastq.zip 2> /dev/null"
   ]
  },
  {
   "cell_type": "code",
   "execution_count": null,
   "metadata": {},
   "outputs": [],
   "source": [
    "!unzip -o ../data/amp_res_1.fastq.zip -d ../data/\n",
    "!unzip -o ../data/amp_res_2.fastq.zip -d ../data/"
   ]
  },
  {
   "cell_type": "markdown",
   "metadata": {},
   "source": [
    "# FastQC analysis"
   ]
  },
  {
   "cell_type": "code",
   "execution_count": null,
   "metadata": {},
   "outputs": [],
   "source": [
    "FASTQC_PATH = \"/home/analytics/distr/FastQC/fastqc\""
   ]
  },
  {
   "cell_type": "code",
   "execution_count": null,
   "metadata": {
    "scrolled": true
   },
   "outputs": [],
   "source": [
    "!$FASTQC_PATH ../data/amp_res_1.fastq ../data/amp_res_2.fastq 2> /dev/null"
   ]
  },
  {
   "cell_type": "code",
   "execution_count": null,
   "metadata": {},
   "outputs": [],
   "source": [
    "from boto.s3 import connect_to_region\n",
    "from boto import connect_s3\n",
    "from boto.s3.key import Key"
   ]
  },
  {
   "cell_type": "code",
   "execution_count": null,
   "metadata": {},
   "outputs": [],
   "source": [
    "AWS_S3_ROOT = \"http://bioinf-workshop.s3-website.eu-central-1.amazonaws.com/\"\n",
    "\n",
    "def perform_file_upload(file_, file_name):\n",
    "\n",
    "    conn = connect_to_region(\"eu-central-1\", \n",
    "                             aws_access_key_id=open(\"../.access_key\", \"r\").read().strip(),\n",
    "                             aws_secret_access_key=open(\"../.secret_key\", \"r\").read().strip())\n",
    "\n",
    "    bucket = conn.get_bucket(\"bioinf-workshop\")\n",
    "    key = Key(bucket)\n",
    "    key.key = file_name\n",
    "    key.set_contents_from_string(file_, headers={\"Content-Type\": \"text/html\"})\n",
    "    key.set_acl('public-read')\n",
    "    return AWS_S3_ROOT + file_name # public url to access the uploaded file\n"
   ]
  },
  {
   "cell_type": "code",
   "execution_count": null,
   "metadata": {},
   "outputs": [],
   "source": [
    "f_1 = perform_file_upload(open(\"../data/amp_res_1_fastqc.html\", \"r\").read(), \"week_1/fastqc_1.html\")\n",
    "f_2 = perform_file_upload(open(\"../data/amp_res_1_fastqc.html\", \"r\").read(), \"week_1/fastqc_2.html\")"
   ]
  },
  {
   "cell_type": "code",
   "execution_count": null,
   "metadata": {},
   "outputs": [],
   "source": [
    "from IPython.display import IFrame\n",
    "\n",
    "IFrame(src=f_1, width=1000, height=600)"
   ]
  },
  {
   "cell_type": "code",
   "execution_count": null,
   "metadata": {},
   "outputs": [],
   "source": [
    "from IPython.display import IFrame\n",
    "\n",
    "IFrame(src=f_2, width=1000, height=600)"
   ]
  }
 ],
 "metadata": {
  "anaconda-cloud": {},
  "kernelspec": {
   "display_name": "Python [conda env:anaconda3]",
   "language": "python",
   "name": "conda-env-anaconda3-py"
  },
  "language_info": {
   "codemirror_mode": {
    "name": "ipython",
    "version": 3
   },
   "file_extension": ".py",
   "mimetype": "text/x-python",
   "name": "python",
   "nbconvert_exporter": "python",
   "pygments_lexer": "ipython3",
   "version": "3.5.4"
  }
 },
 "nbformat": 4,
 "nbformat_minor": 2
}
