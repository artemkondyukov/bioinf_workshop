{
 "cells": [
  {
   "cell_type": "markdown",
   "metadata": {},
   "source": [
    "# Input data"
   ]
  },
  {
   "cell_type": "code",
   "execution_count": 11,
   "metadata": {},
   "outputs": [],
   "source": [
    "!mkdir ../data/week8/"
   ]
  },
  {
   "cell_type": "code",
   "execution_count": 12,
   "metadata": {},
   "outputs": [],
   "source": [
    "!wget -P ../data/week8/ ftp://ftp.sra.ebi.ac.uk/vol1/fastq/SRR941/SRR941816/SRR941816.fastq.gz 2> /dev/null\n",
    "!wget -P ../data/week8/ ftp://ftp.sra.ebi.ac.uk/vol1/fastq/SRR941/SRR941817/SRR941817.fastq.gz 2> /dev/null\n",
    "!wget -P ../data/week8/ ftp://ftp.sra.ebi.ac.uk/vol1/fastq/SRR941/SRR941818/SRR941818.fastq.gz 2> /dev/null\n",
    "!wget -P ../data/week8/  ftp://ftp.sra.ebi.ac.uk/vol1/fastq/SRR941/SRR941819/SRR941819.fastq.gz 2> /dev/null"
   ]
  },
  {
   "cell_type": "code",
   "execution_count": 13,
   "metadata": {},
   "outputs": [],
   "source": [
    "!wget -P ../data/week8/ ftp://ftp.ncbi.nlm.nih.gov/genomes/all/GCF/000/146/045/GCF_000146045.2_R64/GCF_000146045.2_R64_genomic.fna.gz 2> /dev/null\n",
    "!wget -P ../data/week8/ ftp://ftp.ncbi.nlm.nih.gov/genomes/all/GCF/000/146/045/GCF_000146045.2_R64/GCF_000146045.2_R64_genomic.gff.gz 2> /dev/null\n",
    "!wget -P ../data/week8/ ftp://ftp.ncbi.nlm.nih.gov/genomes/all/GCF/000/146/045/GCF_000146045.2_R64/GCF_000146045.2_R64_rna.fna.gz 2> /dev/null"
   ]
  },
  {
   "cell_type": "code",
   "execution_count": 14,
   "metadata": {},
   "outputs": [],
   "source": [
    "!gunzip ../data/week8/GCF_000146045.2_R64_genomic.fna.gz\n",
    "!gunzip ../data/week8/GCF_000146045.2_R64_genomic.gff.gz\n",
    "!gunzip ../data/week8/GCF_000146045.2_R64_rna.fna.gz"
   ]
  },
  {
   "cell_type": "code",
   "execution_count": 23,
   "metadata": {},
   "outputs": [],
   "source": [
    "CUTADAPT       = \"/home/analytics/anaconda3/envs/bioinf/bin/cutadapt\"\n",
    "FASTQC         = \"/home/analytics/distr/FastQC/fastqc\"\n",
    "FEATURE_COUNTS = \"/home/analytics/distr/subread-1.6.3-source/bin/featureCounts\"\n",
    "GFFREAD        = \"/home/analytics/anaconda3/envs/bioinf/bin/gffread\"\n",
    "HISAT          = \"/home/analytics/distr/hisat2-2.1.0/hisat2\" \n",
    "HISAT_BUILD    = \"/home/analytics/distr/hisat2-2.1.0/hisat2-build\"\n",
    "SAMTOOLS       = \"/home/analytics/distr/samtools/samtools\"\n",
    "TRIMMOMATIC    = \"/home/analytics/bin/trimmomatic.jar\""
   ]
  },
  {
   "cell_type": "code",
   "execution_count": 31,
   "metadata": {},
   "outputs": [
    {
     "name": "stdout",
     "output_type": "stream",
     "text": [
      "Analysis complete for SRR941816.fastq.gz\n",
      "Analysis complete for SRR941817.fastq.gz\n",
      "Analysis complete for SRR941818.fastq.gz\n",
      "Analysis complete for SRR941819.fastq.gz\n"
     ]
    }
   ],
   "source": [
    "!$FASTQC ../data/week8/SRR941816.fastq.gz 2> /dev/null\n",
    "!$FASTQC ../data/week8/SRR941817.fastq.gz 2> /dev/null\n",
    "!$FASTQC ../data/week8/SRR941818.fastq.gz 2> /dev/null\n",
    "!$FASTQC ../data/week8/SRR941819.fastq.gz 2> /dev/null"
   ]
  },
  {
   "cell_type": "code",
   "execution_count": 26,
   "metadata": {},
   "outputs": [],
   "source": [
    "from boto.s3 import connect_to_region\n",
    "from boto import connect_s3\n",
    "from boto.s3.key import Key\n",
    "from IPython.display import IFrame\n",
    "\n",
    "AWS_S3_ROOT = \"http://bioinf-workshop.s3-website.eu-central-1.amazonaws.com/\"\n",
    "\n",
    "def perform_file_upload(file_, file_name):\n",
    "\n",
    "    conn = connect_to_region(\"eu-central-1\", \n",
    "                             aws_access_key_id=open(\"../.access_key\", \"r\").read().strip(),\n",
    "                             aws_secret_access_key=open(\"../.secret_key\", \"r\").read().strip())\n",
    "\n",
    "    bucket = conn.get_bucket(\"bioinf-workshop\")\n",
    "    key = Key(bucket)\n",
    "    key.key = file_name\n",
    "    key.set_contents_from_string(file_, headers={\"Content-Type\": \"text/html\"})\n",
    "    key.set_acl('public-read')\n",
    "    return AWS_S3_ROOT + file_name # public url to access the uploaded file"
   ]
  },
  {
   "cell_type": "code",
   "execution_count": 32,
   "metadata": {},
   "outputs": [],
   "source": [
    "f_1 = perform_file_upload(open(\"../data/week8/SRR941816_fastqc.html\", \"r\").read(), \"week_8/fastqc_1.html\")\n",
    "f_2 = perform_file_upload(open(\"../data/week8/SRR941817_fastqc.html\", \"r\").read(), \"week_8/fastqc_2.html\")\n",
    "f_3 = perform_file_upload(open(\"../data/week8/SRR941818_fastqc.html\", \"r\").read(), \"week_8/fastqc_3.html\")\n",
    "f_4 = perform_file_upload(open(\"../data/week8/SRR941819_fastqc.html\", \"r\").read(), \"week_8/fastqc_4.html\")"
   ]
  },
  {
   "cell_type": "code",
   "execution_count": 33,
   "metadata": {},
   "outputs": [
    {
     "data": {
      "text/html": [
       "\n",
       "        <iframe\n",
       "            width=\"1000\"\n",
       "            height=\"600\"\n",
       "            src=\"http://bioinf-workshop.s3-website.eu-central-1.amazonaws.com/week_8/fastqc_1.html\"\n",
       "            frameborder=\"0\"\n",
       "            allowfullscreen\n",
       "        ></iframe>\n",
       "        "
      ],
      "text/plain": [
       "<IPython.lib.display.IFrame at 0x7efe15df52b0>"
      ]
     },
     "execution_count": 33,
     "metadata": {},
     "output_type": "execute_result"
    }
   ],
   "source": [
    "IFrame(src=f_1, width=1000, height=600)"
   ]
  },
  {
   "cell_type": "code",
   "execution_count": 34,
   "metadata": {},
   "outputs": [
    {
     "data": {
      "text/html": [
       "\n",
       "        <iframe\n",
       "            width=\"1000\"\n",
       "            height=\"600\"\n",
       "            src=\"http://bioinf-workshop.s3-website.eu-central-1.amazonaws.com/week_8/fastqc_2.html\"\n",
       "            frameborder=\"0\"\n",
       "            allowfullscreen\n",
       "        ></iframe>\n",
       "        "
      ],
      "text/plain": [
       "<IPython.lib.display.IFrame at 0x7efe15df50b8>"
      ]
     },
     "execution_count": 34,
     "metadata": {},
     "output_type": "execute_result"
    }
   ],
   "source": [
    "IFrame(src=f_2, width=1000, height=600)"
   ]
  },
  {
   "cell_type": "code",
   "execution_count": 35,
   "metadata": {},
   "outputs": [
    {
     "data": {
      "text/html": [
       "\n",
       "        <iframe\n",
       "            width=\"1000\"\n",
       "            height=\"600\"\n",
       "            src=\"http://bioinf-workshop.s3-website.eu-central-1.amazonaws.com/week_8/fastqc_3.html\"\n",
       "            frameborder=\"0\"\n",
       "            allowfullscreen\n",
       "        ></iframe>\n",
       "        "
      ],
      "text/plain": [
       "<IPython.lib.display.IFrame at 0x7efe15df5438>"
      ]
     },
     "execution_count": 35,
     "metadata": {},
     "output_type": "execute_result"
    }
   ],
   "source": [
    "IFrame(src=f_3, width=1000, height=600)"
   ]
  },
  {
   "cell_type": "code",
   "execution_count": 36,
   "metadata": {},
   "outputs": [
    {
     "data": {
      "text/html": [
       "\n",
       "        <iframe\n",
       "            width=\"1000\"\n",
       "            height=\"600\"\n",
       "            src=\"http://bioinf-workshop.s3-website.eu-central-1.amazonaws.com/week_8/fastqc_4.html\"\n",
       "            frameborder=\"0\"\n",
       "            allowfullscreen\n",
       "        ></iframe>\n",
       "        "
      ],
      "text/plain": [
       "<IPython.lib.display.IFrame at 0x7efe15df55f8>"
      ]
     },
     "execution_count": 36,
     "metadata": {},
     "output_type": "execute_result"
    }
   ],
   "source": [
    "IFrame(src=f_4, width=1000, height=600)"
   ]
  },
  {
   "cell_type": "code",
   "execution_count": 57,
   "metadata": {},
   "outputs": [
    {
     "name": "stdout",
     "output_type": "stream",
     "text": [
      "TrimmomaticSE: Started with arguments: -phred33 -trimlog ../data/week8/trim_1.log ../data/week8/SRR941816.fastq.gz ../data/week8/SRR941816_p.fastq HEADCROP:15 SLIDINGWINDOW:4:25 MINLEN:30\n",
      "Automatically using 16 threads\n",
      "Input Reads: 9043877 Surviving: 8412319 (93.02%) Dropped: 631558 (6.98%)\n",
      "TrimmomaticSE: Completed successfully\n",
      "TrimmomaticSE: Started with arguments: -phred33 -trimlog ../data/week8/trim_1.log ../data/week8/SRR941817.fastq.gz ../data/week8/SRR941817_p.fastq HEADCROP:15 SLIDINGWINDOW:4:25 MINLEN:30\n",
      "Automatically using 16 threads\n",
      "Input Reads: 9929568 Surviving: 9227897 (92.93%) Dropped: 701671 (7.07%)\n",
      "TrimmomaticSE: Completed successfully\n",
      "TrimmomaticSE: Started with arguments: -phred33 -trimlog ../data/week8/trim_1.log ../data/week8/SRR941818.fastq.gz ../data/week8/SRR941818_p.fastq HEADCROP:15 SLIDINGWINDOW:4:25 MINLEN:30\n",
      "Automatically using 16 threads\n",
      "Input Reads: 1721675 Surviving: 1603088 (93.11%) Dropped: 118587 (6.89%)\n",
      "TrimmomaticSE: Completed successfully\n",
      "TrimmomaticSE: Started with arguments: -phred33 -trimlog ../data/week8/trim_1.log ../data/week8/SRR941819.fastq.gz ../data/week8/SRR941819_p.fastq HEADCROP:15 SLIDINGWINDOW:4:25 MINLEN:30\n",
      "Automatically using 16 threads\n",
      "Input Reads: 6172452 Surviving: 5743273 (93.05%) Dropped: 429179 (6.95%)\n",
      "TrimmomaticSE: Completed successfully\n"
     ]
    }
   ],
   "source": [
    "!java -jar $TRIMMOMATIC SE \\\n",
    "    -phred33 \\\n",
    "    -trimlog ../data/week8/trim_1.log \\\n",
    "    ../data/week8/SRR941816.fastq.gz \\\n",
    "    ../data/week8/SRR941816_p.fastq \\\n",
    "    HEADCROP:15 SLIDINGWINDOW:4:25 MINLEN:30\n",
    "                    \n",
    "!java -jar $TRIMMOMATIC SE \\\n",
    "    -phred33 \\\n",
    "    -trimlog ../data/week8/trim_1.log \\\n",
    "    ../data/week8/SRR941817.fastq.gz \\\n",
    "    ../data/week8/SRR941817_p.fastq \\\n",
    "    HEADCROP:15 SLIDINGWINDOW:4:25 MINLEN:30\n",
    "                    \n",
    "!java -jar $TRIMMOMATIC SE \\\n",
    "    -phred33 \\\n",
    "    -trimlog ../data/week8/trim_1.log \\\n",
    "    ../data/week8/SRR941818.fastq.gz \\\n",
    "    ../data/week8/SRR941818_p.fastq \\\n",
    "    HEADCROP:15 SLIDINGWINDOW:4:25 MINLEN:30\n",
    "                    \n",
    "!java -jar $TRIMMOMATIC SE \\\n",
    "    -phred33 \\\n",
    "    -trimlog ../data/week8/trim_1.log \\\n",
    "    ../data/week8/SRR941819.fastq.gz \\\n",
    "    ../data/week8/SRR941819_p.fastq \\\n",
    "    HEADCROP:15 SLIDINGWINDOW:4:25 MINLEN:30"
   ]
  },
  {
   "cell_type": "code",
   "execution_count": 42,
   "metadata": {},
   "outputs": [
    {
     "name": "stdout",
     "output_type": "stream",
     "text": [
      "Analysis complete for SRR941816_p.fastq\r\n"
     ]
    },
    {
     "data": {
      "text/html": [
       "\n",
       "        <iframe\n",
       "            width=\"1000\"\n",
       "            height=\"600\"\n",
       "            src=\"http://bioinf-workshop.s3-website.eu-central-1.amazonaws.com/week_8/fastqc_1_1.html\"\n",
       "            frameborder=\"0\"\n",
       "            allowfullscreen\n",
       "        ></iframe>\n",
       "        "
      ],
      "text/plain": [
       "<IPython.lib.display.IFrame at 0x7efe242e1438>"
      ]
     },
     "execution_count": 42,
     "metadata": {},
     "output_type": "execute_result"
    }
   ],
   "source": [
    "!$FASTQC ../data/week8/SRR941816_p.fastq 2> /dev/null\n",
    "f_1 = perform_file_upload(open(\"../data/week8/SRR941816_p_fastqc.html\", \"r\").read(), \"week_8/fastqc_1_1.html\")\n",
    "IFrame(src=f_1, width=1000, height=600)"
   ]
  },
  {
   "cell_type": "markdown",
   "metadata": {},
   "source": [
    "### Remove overrepresented sequences (adapters)"
   ]
  },
  {
   "cell_type": "code",
   "execution_count": 73,
   "metadata": {
    "scrolled": true
   },
   "outputs": [],
   "source": [
    "!$CUTADAPT -a CGTCTGAACTCCAGTCACACAGTGATCTCGTATGC \\\n",
    "           -a ACGTCTGAACTCCAGTCACACAGTGATCTCGTATG \\\n",
    "           -a CGTCTGAACTCCAGTCACGCCAATATCTCGTATGC \\\n",
    "           -a ACGTCTGAACTCCAGTCACGCCAATATCTCGTATG \\\n",
    "           -j 50 \\\n",
    "           -m 30 \\\n",
    "           -o ../data/week8/SRR941816_c.fastq ../data/week8/SRR941816_p.fastq > /dev/null\n",
    "            \n",
    "!$CUTADAPT -a CGTCTGAACTCCAGTCACACAGTGATCTCGTATGC \\\n",
    "           -a ACGTCTGAACTCCAGTCACACAGTGATCTCGTATG \\\n",
    "           -a CGTCTGAACTCCAGTCACGCCAATATCTCGTATGC \\\n",
    "           -a ACGTCTGAACTCCAGTCACGCCAATATCTCGTATG \\\n",
    "           -j 50 \\\n",
    "           -m 30 \\\n",
    "           -o ../data/week8/SRR941817_c.fastq ../data/week8/SRR941817_p.fastq > /dev/null\n",
    "            \n",
    "!$CUTADAPT -a CGTCTGAACTCCAGTCACACAGTGATCTCGTATGC \\\n",
    "           -a ACGTCTGAACTCCAGTCACACAGTGATCTCGTATG \\\n",
    "           -a CGTCTGAACTCCAGTCACGCCAATATCTCGTATGC \\\n",
    "           -a ACGTCTGAACTCCAGTCACGCCAATATCTCGTATG \\\n",
    "           -j 50 \\\n",
    "           -m 30 \\\n",
    "           -o ../data/week8/SRR941818_c.fastq ../data/week8/SRR941818_p.fastq > /dev/null\n",
    "            \n",
    "!$CUTADAPT -a CGTCTGAACTCCAGTCACACAGTGATCTCGTATGC \\\n",
    "           -a ACGTCTGAACTCCAGTCACACAGTGATCTCGTATG \\\n",
    "           -a CGTCTGAACTCCAGTCACGCCAATATCTCGTATGC \\\n",
    "           -a ACGTCTGAACTCCAGTCACGCCAATATCTCGTATG \\\n",
    "           -j 50 \\\n",
    "           -m 30 \\\n",
    "           -o ../data/week8/SRR941819_c.fastq ../data/week8/SRR941819_p.fastq > /dev/null"
   ]
  },
  {
   "cell_type": "code",
   "execution_count": 72,
   "metadata": {},
   "outputs": [
    {
     "name": "stdout",
     "output_type": "stream",
     "text": [
      "TrimmomaticSE: Started with arguments: -phred33 -threads 50 -trimlog ../data/week8/trim_1.log ../data/week8/SRR941816_c.fastq ../data/week8/SRR941816_t.fastq MINLEN:30\n",
      "^C\n",
      "TrimmomaticSE: Started with arguments: -phred33 -threads 50 -trimlog ../data/week8/trim_2.log ../data/week8/SRR941817_c.fastq ../data/week8/SRR941817_t.fastq MINLEN:30\n",
      "^C\n",
      "^C\n",
      "TrimmomaticSE: Started with arguments: -phred33 -threads 50 -trimlog ../data/week8/trim_4.log ../data/week8/SRR941819_c.fastq ../data/week8/SRR941819_t.fastq MINLEN:30\n",
      "^C\n"
     ]
    }
   ],
   "source": [
    "!java -jar $TRIMMOMATIC SE \\\n",
    "    -phred33 \\\n",
    "    -threads 50 \\\n",
    "    -trimlog ../data/week8/trim_1.log \\\n",
    "    ../data/week8/SRR941816_c.fastq \\\n",
    "    ../data/week8/SRR941816_t.fastq \\\n",
    "    MINLEN:30\n",
    "                \n",
    "!java -jar $TRIMMOMATIC SE \\\n",
    "    -phred33 \\\n",
    "    -threads 50 \\\n",
    "    -trimlog ../data/week8/trim_2.log \\\n",
    "    ../data/week8/SRR941817_c.fastq \\\n",
    "    ../data/week8/SRR941817_t.fastq \\\n",
    "    MINLEN:30\n",
    "                \n",
    "!java -jar $TRIMMOMATIC SE \\\n",
    "    -phred33 \\\n",
    "    -threads 50 \\\n",
    "    -trimlog ../data/week8/trim_3.log \\\n",
    "    ../data/week8/SRR941818_c.fastq \\\n",
    "    ../data/week8/SRR941818_t.fastq \\\n",
    "    MINLEN:30\n",
    "                \n",
    "!java -jar $TRIMMOMATIC SE \\\n",
    "    -phred33 \\\n",
    "    -threads 50 \\\n",
    "    -trimlog ../data/week8/trim_4.log \\\n",
    "    ../data/week8/SRR941819_c.fastq \\\n",
    "    ../data/week8/SRR941819_t.fastq \\\n",
    "    MINLEN:30"
   ]
  },
  {
   "cell_type": "code",
   "execution_count": 78,
   "metadata": {},
   "outputs": [
    {
     "name": "stdout",
     "output_type": "stream",
     "text": [
      "Analysis complete for SRR941816_c.fastq\n",
      "Analysis complete for SRR941817_c.fastq\n",
      "Analysis complete for SRR941818_c.fastq\n",
      "Analysis complete for SRR941819_c.fastq\n"
     ]
    }
   ],
   "source": [
    "!$FASTQC ../data/week8/SRR941816_c.fastq 2> /dev/null\n",
    "!$FASTQC ../data/week8/SRR941817_c.fastq 2> /dev/null\n",
    "!$FASTQC ../data/week8/SRR941818_c.fastq 2> /dev/null\n",
    "!$FASTQC ../data/week8/SRR941819_c.fastq 2> /dev/null"
   ]
  },
  {
   "cell_type": "code",
   "execution_count": 79,
   "metadata": {},
   "outputs": [],
   "source": [
    "f_1 = perform_file_upload(open(\"../data/week8/SRR941816_c_fastqc.html\", \"r\").read(), \"week_8/fastqc_1_2.html\")\n",
    "f_2 = perform_file_upload(open(\"../data/week8/SRR941817_c_fastqc.html\", \"r\").read(), \"week_8/fastqc_2_2.html\")\n",
    "f_3 = perform_file_upload(open(\"../data/week8/SRR941818_c_fastqc.html\", \"r\").read(), \"week_8/fastqc_3_2.html\")\n",
    "f_4 = perform_file_upload(open(\"../data/week8/SRR941819_c_fastqc.html\", \"r\").read(), \"week_8/fastqc_4_2.html\")"
   ]
  },
  {
   "cell_type": "code",
   "execution_count": 80,
   "metadata": {},
   "outputs": [
    {
     "data": {
      "text/html": [
       "\n",
       "        <iframe\n",
       "            width=\"1000\"\n",
       "            height=\"600\"\n",
       "            src=\"http://bioinf-workshop.s3-website.eu-central-1.amazonaws.com/week_8/fastqc_1_2.html\"\n",
       "            frameborder=\"0\"\n",
       "            allowfullscreen\n",
       "        ></iframe>\n",
       "        "
      ],
      "text/plain": [
       "<IPython.lib.display.IFrame at 0x7efe15922860>"
      ]
     },
     "execution_count": 80,
     "metadata": {},
     "output_type": "execute_result"
    }
   ],
   "source": [
    "IFrame(src=f_1, width=1000, height=600)"
   ]
  },
  {
   "cell_type": "code",
   "execution_count": 81,
   "metadata": {},
   "outputs": [
    {
     "data": {
      "text/html": [
       "\n",
       "        <iframe\n",
       "            width=\"1000\"\n",
       "            height=\"600\"\n",
       "            src=\"http://bioinf-workshop.s3-website.eu-central-1.amazonaws.com/week_8/fastqc_2_2.html\"\n",
       "            frameborder=\"0\"\n",
       "            allowfullscreen\n",
       "        ></iframe>\n",
       "        "
      ],
      "text/plain": [
       "<IPython.lib.display.IFrame at 0x7efe15922048>"
      ]
     },
     "execution_count": 81,
     "metadata": {},
     "output_type": "execute_result"
    }
   ],
   "source": [
    "IFrame(src=f_2, width=1000, height=600)"
   ]
  },
  {
   "cell_type": "code",
   "execution_count": 82,
   "metadata": {},
   "outputs": [
    {
     "data": {
      "text/html": [
       "\n",
       "        <iframe\n",
       "            width=\"1000\"\n",
       "            height=\"600\"\n",
       "            src=\"http://bioinf-workshop.s3-website.eu-central-1.amazonaws.com/week_8/fastqc_3_2.html\"\n",
       "            frameborder=\"0\"\n",
       "            allowfullscreen\n",
       "        ></iframe>\n",
       "        "
      ],
      "text/plain": [
       "<IPython.lib.display.IFrame at 0x7efe15d87e10>"
      ]
     },
     "execution_count": 82,
     "metadata": {},
     "output_type": "execute_result"
    }
   ],
   "source": [
    "IFrame(src=f_3, width=1000, height=600)"
   ]
  },
  {
   "cell_type": "code",
   "execution_count": 83,
   "metadata": {},
   "outputs": [
    {
     "data": {
      "text/html": [
       "\n",
       "        <iframe\n",
       "            width=\"1000\"\n",
       "            height=\"600\"\n",
       "            src=\"http://bioinf-workshop.s3-website.eu-central-1.amazonaws.com/week_8/fastqc_4_2.html\"\n",
       "            frameborder=\"0\"\n",
       "            allowfullscreen\n",
       "        ></iframe>\n",
       "        "
      ],
      "text/plain": [
       "<IPython.lib.display.IFrame at 0x7efe15922198>"
      ]
     },
     "execution_count": 83,
     "metadata": {},
     "output_type": "execute_result"
    }
   ],
   "source": [
    "IFrame(src=f_4, width=1000, height=600)"
   ]
  },
  {
   "cell_type": "code",
   "execution_count": 17,
   "metadata": {},
   "outputs": [],
   "source": [
    "!$SAMTOOLS faidx ../data/week8/GCF_000146045.2_R64_genomic.fna"
   ]
  },
  {
   "cell_type": "code",
   "execution_count": 18,
   "metadata": {},
   "outputs": [
    {
     "name": "stdout",
     "output_type": "stream",
     "text": [
      "Settings:\n",
      "  Output files: \"../data/week8/GCF_000146045.2_R64_genomic.fna.fai.*.ht2\"\n",
      "  Line rate: 6 (line is 64 bytes)\n",
      "  Lines per side: 1 (side is 64 bytes)\n",
      "  Offset rate: 4 (one in 16)\n",
      "  FTable chars: 10\n",
      "  Strings: unpacked\n",
      "  Local offset rate: 3 (one in 8)\n",
      "  Local fTable chars: 6\n",
      "  Local sequence length: 57344\n",
      "  Local sequence overlap between two consecutive indexes: 1024\n",
      "  Endianness: little\n",
      "  Actual local endianness: little\n",
      "  Sanity checking: disabled\n",
      "  Assertions: disabled\n",
      "  Random seed: 0\n",
      "  Sizeofs: void*:8, int:4, long:8, size_t:8\n",
      "Input files DNA, FASTA:\n",
      "  ../data/week8/GCF_000146045.2_R64_genomic.fna\n",
      "Reading reference sizes\n",
      "  Time reading reference sizes: 00:00:00\n",
      "Calculating joined length\n",
      "Writing header\n",
      "Reserving space for joined string\n",
      "Joining reference sequences\n",
      "  Time to join reference sequences: 00:00:00\n",
      "  Time to read SNPs and splice sites: 00:00:00\n",
      "Using parameters --bmax 2279457 --dcv 1024\n",
      "  Doing ahead-of-time memory usage test\n",
      "  Passed!  Constructing with these parameters: --bmax 2279457 --dcv 1024\n",
      "Constructing suffix-array element generator\n",
      "Building DifferenceCoverSample\n",
      "  Building sPrime\n",
      "  Building sPrimeOrder\n",
      "  V-Sorting samples\n",
      "  V-Sorting samples time: 00:00:00\n",
      "  Allocating rank array\n",
      "  Ranking v-sort output\n",
      "  Ranking v-sort output time: 00:00:00\n",
      "  Invoking Larsson-Sadakane on ranks\n",
      "  Invoking Larsson-Sadakane on ranks time: 00:00:00\n",
      "  Sanity-checking and returning\n",
      "Building samples\n",
      "Reserving space for 12 sample suffixes\n",
      "Generating random suffixes\n",
      "QSorting 12 sample offsets, eliminating duplicates\n",
      "QSorting sample offsets, eliminating duplicates time: 00:00:00\n",
      "Multikey QSorting 12 samples\n",
      "  (Using difference cover)\n",
      "  Multikey QSorting samples time: 00:00:00\n",
      "Calculating bucket sizes\n",
      "Splitting and merging\n",
      "  Splitting and merging time: 00:00:00\n",
      "Avg bucket size: 1.73673e+06 (target: 2279456)\n",
      "Converting suffix-array elements to index image\n",
      "Allocating ftab, absorbFtab\n",
      "Entering GFM loop\n",
      "Getting block 1 of 7\n",
      "  Reserving size (2279457) for bucket 1\n",
      "  Calculating Z arrays for bucket 1\n",
      "  Entering block accumulator loop for bucket 1:\n",
      "  bucket 1: 10%\n",
      "  bucket 1: 20%\n",
      "  bucket 1: 30%\n",
      "  bucket 1: 40%\n",
      "  bucket 1: 50%\n",
      "  bucket 1: 60%\n",
      "  bucket 1: 70%\n",
      "  bucket 1: 80%\n",
      "  bucket 1: 90%\n",
      "  bucket 1: 100%\n",
      "  Sorting block of length 1917483 for bucket 1\n",
      "  (Using difference cover)\n",
      "  Sorting block time: 00:00:00\n",
      "Returning block of 1917484 for bucket 1\n",
      "Getting block 2 of 7\n",
      "  Reserving size (2279457) for bucket 2\n",
      "  Calculating Z arrays for bucket 2\n",
      "  Entering block accumulator loop for bucket 2:\n",
      "  bucket 2: 10%\n",
      "  bucket 2: 20%\n",
      "  bucket 2: 30%\n",
      "  bucket 2: 40%\n",
      "  bucket 2: 50%\n",
      "  bucket 2: 60%\n",
      "  bucket 2: 70%\n",
      "  bucket 2: 80%\n",
      "  bucket 2: 90%\n",
      "  bucket 2: 100%\n",
      "  Sorting block of length 1565107 for bucket 2\n",
      "  (Using difference cover)\n",
      "  Sorting block time: 00:00:01\n",
      "Returning block of 1565108 for bucket 2\n",
      "Getting block 3 of 7\n",
      "  Reserving size (2279457) for bucket 3\n",
      "  Calculating Z arrays for bucket 3\n",
      "  Entering block accumulator loop for bucket 3:\n",
      "  bucket 3: 10%\n",
      "  bucket 3: 20%\n",
      "  bucket 3: 30%\n",
      "  bucket 3: 40%\n",
      "  bucket 3: 50%\n",
      "  bucket 3: 60%\n",
      "  bucket 3: 70%\n",
      "  bucket 3: 80%\n",
      "  bucket 3: 90%\n",
      "  bucket 3: 100%\n",
      "  Sorting block of length 2077071 for bucket 3\n",
      "  (Using difference cover)\n",
      "  Sorting block time: 00:00:00\n",
      "Returning block of 2077072 for bucket 3\n",
      "Getting block 4 of 7\n",
      "  Reserving size (2279457) for bucket 4\n",
      "  Calculating Z arrays for bucket 4\n",
      "  Entering block accumulator loop for bucket 4:\n",
      "  bucket 4: 10%\n",
      "  bucket 4: 20%\n",
      "  bucket 4: 30%\n",
      "  bucket 4: 40%\n",
      "  bucket 4: 50%\n",
      "  bucket 4: 60%\n",
      "  bucket 4: 70%\n",
      "  bucket 4: 80%\n",
      "  bucket 4: 90%\n",
      "  bucket 4: 100%\n",
      "  Sorting block of length 1959963 for bucket 4\n",
      "  (Using difference cover)\n",
      "  Sorting block time: 00:00:01\n",
      "Returning block of 1959964 for bucket 4\n",
      "Getting block 5 of 7\n",
      "  Reserving size (2279457) for bucket 5\n",
      "  Calculating Z arrays for bucket 5\n",
      "  Entering block accumulator loop for bucket 5:\n",
      "  bucket 5: 10%\n",
      "  bucket 5: 20%\n",
      "  bucket 5: 30%\n",
      "  bucket 5: 40%\n",
      "  bucket 5: 50%\n",
      "  bucket 5: 60%\n",
      "  bucket 5: 70%\n",
      "  bucket 5: 80%\n",
      "  bucket 5: 90%\n",
      "  bucket 5: 100%\n",
      "  Sorting block of length 1858740 for bucket 5\n",
      "  (Using difference cover)\n",
      "  Sorting block time: 00:00:00\n",
      "Returning block of 1858741 for bucket 5\n",
      "Getting block 6 of 7\n",
      "  Reserving size (2279457) for bucket 6\n",
      "  Calculating Z arrays for bucket 6\n",
      "  Entering block accumulator loop for bucket 6:\n",
      "  bucket 6: 10%\n",
      "  bucket 6: 20%\n",
      "  bucket 6: 30%\n",
      "  bucket 6: 40%\n",
      "  bucket 6: 50%\n",
      "  bucket 6: 60%\n",
      "  bucket 6: 70%\n",
      "  bucket 6: 80%\n",
      "  bucket 6: 90%\n",
      "  bucket 6: 100%\n",
      "  Sorting block of length 630502 for bucket 6\n",
      "  (Using difference cover)\n",
      "  Sorting block time: 00:00:01\n",
      "Returning block of 630503 for bucket 6\n",
      "Getting block 7 of 7\n",
      "  Reserving size (2279457) for bucket 7\n",
      "  Calculating Z arrays for bucket 7\n",
      "  Entering block accumulator loop for bucket 7:\n",
      "  bucket 7: 10%\n",
      "  bucket 7: 20%\n",
      "  bucket 7: 30%\n",
      "  bucket 7: 40%\n",
      "  bucket 7: 50%\n",
      "  bucket 7: 60%\n",
      "  bucket 7: 70%\n",
      "  bucket 7: 80%\n",
      "  bucket 7: 90%\n",
      "  bucket 7: 100%\n",
      "  Sorting block of length 2148233 for bucket 7\n",
      "  (Using difference cover)\n",
      "  Sorting block time: 00:00:00\n",
      "Returning block of 2148234 for bucket 7\n",
      "Exited GFM loop\n",
      "fchr[A]: 0\n",
      "fchr[C]: 3766349\n",
      "fchr[G]: 6086925\n",
      "fchr[T]: 8404025\n",
      "fchr[$]: 12157105\n",
      "Exiting GFM::buildToDisk()\n",
      "Returning from initFromVector\n",
      "Wrote 8248454 bytes to primary GFM file: ../data/week8/GCF_000146045.2_R64_genomic.fna.fai.1.ht2\n",
      "Wrote 3039284 bytes to secondary GFM file: ../data/week8/GCF_000146045.2_R64_genomic.fna.fai.2.ht2\n",
      "Re-opening _in1 and _in2 as input streams\n",
      "Returning from GFM constructor\n",
      "Returning from initFromVector\n",
      "Wrote 5399069 bytes to primary GFM file: ../data/week8/GCF_000146045.2_R64_genomic.fna.fai.5.ht2\n",
      "Wrote 3092708 bytes to secondary GFM file: ../data/week8/GCF_000146045.2_R64_genomic.fna.fai.6.ht2\n",
      "Re-opening _in5 and _in5 as input streams\n",
      "Returning from HierEbwt constructor\n",
      "Headers:\n",
      "    len: 12157105\n",
      "    gbwtLen: 12157106\n",
      "    nodes: 12157106\n",
      "    sz: 3039277\n",
      "    gbwtSz: 3039277\n",
      "    lineRate: 6\n",
      "    offRate: 4\n",
      "    offMask: 0xfffffff0\n",
      "    ftabChars: 10\n",
      "    eftabLen: 0\n",
      "    eftabSz: 0\n",
      "    ftabLen: 1048577\n",
      "    ftabSz: 4194308\n",
      "    offsLen: 759820\n",
      "    offsSz: 3039280\n",
      "    lineSz: 64\n",
      "    sideSz: 64\n",
      "    sideGbwtSz: 48\n",
      "    sideGbwtLen: 192\n",
      "    numSides: 63319\n",
      "    numLines: 63319\n",
      "    gbwtTotLen: 4052416\n",
      "    gbwtTotSz: 4052416\n",
      "    reverse: 0\n",
      "    linearFM: Yes\n",
      "Total time for call to driver() for forward index: 00:00:06\n"
     ]
    }
   ],
   "source": [
    "!$HISAT_BUILD ../data/week8/GCF_000146045.2_R64_genomic.fna ../data/week8/GCF_000146045.2_R64_genomic.fna.fai"
   ]
  },
  {
   "cell_type": "code",
   "execution_count": 84,
   "metadata": {},
   "outputs": [
    {
     "name": "stdout",
     "output_type": "stream",
     "text": [
      "8334760 reads; of these:\n",
      "  8334760 (100.00%) were unpaired; of these:\n",
      "    418883 (5.03%) aligned 0 times\n",
      "    7243941 (86.91%) aligned exactly 1 time\n",
      "    671936 (8.06%) aligned >1 times\n",
      "94.97% overall alignment rate\n",
      "[bam_sort_core] merging from 2 files and 1 in-memory blocks...\n",
      "9157179 reads; of these:\n",
      "  9157179 (100.00%) were unpaired; of these:\n",
      "    422906 (4.62%) aligned 0 times\n",
      "    7875451 (86.00%) aligned exactly 1 time\n",
      "    858822 (9.38%) aligned >1 times\n",
      "95.38% overall alignment rate\n",
      "[bam_sort_core] merging from 2 files and 1 in-memory blocks...\n",
      "1601802 reads; of these:\n",
      "  1601802 (100.00%) were unpaired; of these:\n",
      "    64876 (4.05%) aligned 0 times\n",
      "    1368507 (85.44%) aligned exactly 1 time\n",
      "    168419 (10.51%) aligned >1 times\n",
      "95.95% overall alignment rate\n",
      "5739005 reads; of these:\n",
      "  5739005 (100.00%) were unpaired; of these:\n",
      "    220486 (3.84%) aligned 0 times\n",
      "    4869731 (84.85%) aligned exactly 1 time\n",
      "    648788 (11.30%) aligned >1 times\n",
      "96.16% overall alignment rate\n",
      "[bam_sort_core] merging from 1 files and 1 in-memory blocks...\n"
     ]
    }
   ],
   "source": [
    "!$HISAT -p 50 -x ../data/week8/GCF_000146045.2_R64_genomic.fna.fai -U ../data/week8/SRR941816_c.fastq | $SAMTOOLS sort > ../data/week8/rep_1_0.bam\n",
    "!$HISAT -p 50 -x ../data/week8/GCF_000146045.2_R64_genomic.fna.fai -U ../data/week8/SRR941817_c.fastq | $SAMTOOLS sort > ../data/week8/rep_2_0.bam\n",
    "!$HISAT -p 50 -x ../data/week8/GCF_000146045.2_R64_genomic.fna.fai -U ../data/week8/SRR941818_c.fastq | $SAMTOOLS sort > ../data/week8/rep_1_30.bam\n",
    "!$HISAT -p 50 -x ../data/week8/GCF_000146045.2_R64_genomic.fna.fai -U ../data/week8/SRR941819_c.fastq | $SAMTOOLS sort > ../data/week8/rep_2_30.bam"
   ]
  },
  {
   "cell_type": "code",
   "execution_count": 86,
   "metadata": {},
   "outputs": [],
   "source": [
    "!$GFFREAD ../data/week8/GCF_000146045.2_R64_genomic.gff -T -o ../data/week8/GCF_000146045.2_R64_genomic.gtf"
   ]
  },
  {
   "cell_type": "markdown",
   "metadata": {},
   "source": [
    "Liao Y, Smyth GK and Shi W (2014). featureCounts: an efficient general purpose program for assigning sequence reads to genomic features. Bioinformatics, 30(7):923-30."
   ]
  },
  {
   "cell_type": "code",
   "execution_count": 105,
   "metadata": {},
   "outputs": [
    {
     "name": "stdout",
     "output_type": "stream",
     "text": [
      "\n",
      "       \u001b[44;37m ========== \u001b[0m\u001b[36m    _____ _    _ ____  _____  ______          _____  \n",
      "       \u001b[44;37m =====      \u001b[0m\u001b[36m   / ____| |  | |  _ \\|  __ \\|  ____|   /\\   |  __ \\ \n",
      "       \u001b[44;37m   =====    \u001b[0m\u001b[36m  | (___ | |  | | |_) | |__) | |__     /  \\  | |  | |\n",
      "       \u001b[44;37m     ====   \u001b[0m\u001b[36m   \\___ \\| |  | |  _ <|  _  /|  __|   / /\\ \\ | |  | |\n",
      "       \u001b[44;37m       ==== \u001b[0m\u001b[36m   ____) | |__| | |_) | | \\ \\| |____ / ____ \\| |__| |\n",
      "       \u001b[44;37m ========== \u001b[0m\u001b[36m  |_____/ \\____/|____/|_|  \\_\\______/_/    \\_\\_____/\u001b[0m\n",
      "\t  v1.6.3\n",
      "\n",
      "//==========================\u001b[36m featureCounts setting \u001b[0m===========================\\\\\n",
      "||  \u001b[0m                                                                          ||\n",
      "||             Input files : \u001b[36m4 BAM files  \u001b[0m \u001b[0m                                   ||\n",
      "||                           \u001b[32mS\u001b[36m rep_1_0.bam\u001b[0m \u001b[0m                                   ||\n",
      "||                           \u001b[32mS\u001b[36m rep_2_0.bam\u001b[0m \u001b[0m                                   ||\n",
      "||                           \u001b[32mS\u001b[36m rep_1_30.bam\u001b[0m \u001b[0m                                  ||\n",
      "||                           \u001b[32mS\u001b[36m rep_2_30.bam\u001b[0m \u001b[0m                                  ||\n",
      "||  \u001b[0m                                                                          ||\n",
      "||             Output file : \u001b[36mcounts.txt\u001b[0m \u001b[0m                                      ||\n",
      "||                 Summary : \u001b[36mcounts.txt.summary\u001b[0m \u001b[0m                              ||\n",
      "||              Annotation : \u001b[36mGCF_000146045.2_R64_genomic.gtf (GTF)\u001b[0m \u001b[0m           ||\n",
      "||      Dir for temp files : \u001b[36m../data/week8\u001b[0m \u001b[0m                                   ||\n",
      "||  \u001b[0m                                                                          ||\n",
      "||                 Threads : \u001b[36m1\u001b[0m \u001b[0m                                               ||\n",
      "||                   Level : \u001b[36mmeta-feature level\u001b[0m \u001b[0m                              ||\n",
      "||              Paired-end : \u001b[36mno\u001b[0m \u001b[0m                                              ||\n",
      "||      Multimapping reads : \u001b[36mnot counted\u001b[0m \u001b[0m                                     ||\n",
      "|| Multi-overlapping reads : \u001b[36mnot counted\u001b[0m \u001b[0m                                     ||\n",
      "||   Min overlapping bases : \u001b[36m1\u001b[0m \u001b[0m                                               ||\n",
      "||  \u001b[0m                                                                          ||\n",
      "\\\\=====================\u001b[36m http://subread.sourceforge.net/ \u001b[0m======================//\n",
      "\n",
      "//=================================\u001b[36m Running \u001b[0m==================================\\\\\n",
      "||  \u001b[0m                                                                          ||\n",
      "|| Load annotation file GCF_000146045.2_R64_genomic.gtf \u001b[0m... \u001b[0m                  ||\n",
      "||    Features : \u001b[36m6761\u001b[0m \u001b[0m                                                        ||\n",
      "||    Meta-features : \u001b[36m6412\u001b[0m \u001b[0m                                                   ||\n",
      "||    Chromosomes/contigs : \u001b[36m17\u001b[0m \u001b[0m                                               ||\n",
      "||  \u001b[0m                                                                          ||\n",
      "|| Process BAM file rep_1_0.bam... \u001b[0m                                           ||\n",
      "||    Single-end reads are included. \u001b[0m                                         ||\n",
      "||    Assign alignments to features... \u001b[0m                                       ||\n",
      "||    Total alignments : \u001b[36m9151058\u001b[0m \u001b[0m                                             ||\n",
      "||    Successfully assigned alignments : \u001b[36m6646225 (72.6%)\u001b[0m \u001b[0m                     ||\n",
      "||    Running time : \u001b[36m0.12 minutes\u001b[0m \u001b[0m                                            ||\n",
      "||  \u001b[0m                                                                          ||\n",
      "|| Process BAM file rep_2_0.bam... \u001b[0m                                           ||\n",
      "||    Single-end reads are included. \u001b[0m                                         ||\n",
      "||    Assign alignments to features... \u001b[0m                                       ||\n",
      "||    Total alignments : \u001b[36m10157056\u001b[0m \u001b[0m                                            ||\n",
      "||    Successfully assigned alignments : \u001b[36m7259457 (71.5%)\u001b[0m \u001b[0m                     ||\n",
      "||    Running time : \u001b[36m0.13 minutes\u001b[0m \u001b[0m                                            ||\n",
      "||  \u001b[0m                                                                          ||\n",
      "|| Process BAM file rep_1_30.bam... \u001b[0m                                          ||\n",
      "||    Single-end reads are included. \u001b[0m                                         ||\n",
      "||    Assign alignments to features... \u001b[0m                                       ||\n",
      "||    Total alignments : \u001b[36m1783834\u001b[0m \u001b[0m                                             ||\n",
      "||    Successfully assigned alignments : \u001b[36m1268460 (71.1%)\u001b[0m \u001b[0m                     ||\n",
      "||    Running time : \u001b[36m0.03 minutes\u001b[0m \u001b[0m                                            ||\n",
      "||  \u001b[0m                                                                          ||\n",
      "|| Process BAM file rep_2_30.bam... \u001b[0m                                          ||\n",
      "||    Single-end reads are included. \u001b[0m                                         ||\n",
      "||    Assign alignments to features... \u001b[0m                                       ||\n",
      "||    Total alignments : \u001b[36m6434022\u001b[0m \u001b[0m                                             ||\n",
      "||    Successfully assigned alignments : \u001b[36m4496742 (69.9%)\u001b[0m \u001b[0m                     ||\n",
      "||    Running time : \u001b[36m0.09 minutes\u001b[0m \u001b[0m                                            ||\n",
      "||  \u001b[0m                                                                          ||\n",
      "||  \u001b[0m                                                                          ||\n",
      "|| Summary of counting results can be found in file \"../data/week8/counts.tx \u001b[0m ||\n",
      "|| t.summary\" \u001b[0m                                                                ||\n",
      "||  \u001b[0m                                                                          ||\n",
      "\\\\=====================\u001b[36m http://subread.sourceforge.net/ \u001b[0m======================//\n",
      "\n"
     ]
    }
   ],
   "source": [
    "!$FEATURE_COUNTS -g gene_name \\\n",
    "                 -a ../data/week8/GCF_000146045.2_R64_genomic.gtf \\\n",
    "                 -o ../data/week8/counts.txt\\\n",
    "                ../data/week8/rep_1_0.bam \\\n",
    "                ../data/week8/rep_2_0.bam \\\n",
    "                ../data/week8/rep_1_30.bam \\\n",
    "                ../data/week8/rep_2_30.bam"
   ]
  },
  {
   "cell_type": "code",
   "execution_count": 107,
   "metadata": {
    "scrolled": true
   },
   "outputs": [
    {
     "name": "stdout",
     "output_type": "stream",
     "text": [
      "\n",
      "R version 3.4.1 (2017-06-30) -- \"Single Candle\"\n",
      "Copyright (C) 2017 The R Foundation for Statistical Computing\n",
      "Platform: x86_64-pc-linux-gnu (64-bit)\n",
      "\n",
      "R is free software and comes with ABSOLUTELY NO WARRANTY.\n",
      "You are welcome to redistribute it under certain conditions.\n",
      "Type 'license()' or 'licence()' for distribution details.\n",
      "\n",
      "  Natural language support but running in an English locale\n",
      "\n",
      "R is a collaborative project with many contributors.\n",
      "Type 'contributors()' for more information and\n",
      "'citation()' on how to cite R or R packages in publications.\n",
      "\n",
      "Type 'demo()' for some demos, 'help()' for on-line help, or\n",
      "'help.start()' for an HTML browser interface to help.\n",
      "Type 'q()' to quit R.\n",
      "\n",
      "> # Load the library.\n",
      "> library(DESeq2)\n",
      "Loading required package: S4Vectors\n",
      "Loading required package: stats4\n",
      "Loading required package: BiocGenerics\n",
      "Loading required package: parallel\n",
      "\n",
      "Attaching package: ‘BiocGenerics’\n",
      "\n",
      "The following objects are masked from ‘package:parallel’:\n",
      "\n",
      "    clusterApply, clusterApplyLB, clusterCall, clusterEvalQ,\n",
      "    clusterExport, clusterMap, parApply, parCapply, parLapply,\n",
      "    parLapplyLB, parRapply, parSapply, parSapplyLB\n",
      "\n",
      "The following objects are masked from ‘package:stats’:\n",
      "\n",
      "    IQR, mad, sd, var, xtabs\n",
      "\n",
      "The following objects are masked from ‘package:base’:\n",
      "\n",
      "    anyDuplicated, append, as.data.frame, basename, cbind, colMeans,\n",
      "    colnames, colSums, dirname, do.call, duplicated, eval, evalq,\n",
      "    Filter, Find, get, grep, grepl, intersect, is.unsorted, lapply,\n",
      "    lengths, Map, mapply, match, mget, order, paste, pmax, pmax.int,\n",
      "    pmin, pmin.int, Position, rank, rbind, Reduce, rowMeans, rownames,\n",
      "    rowSums, sapply, setdiff, sort, table, tapply, union, unique,\n",
      "    unsplit, which, which.max, which.min\n",
      "\n",
      "\n",
      "Attaching package: ‘S4Vectors’\n",
      "\n",
      "The following object is masked from ‘package:base’:\n",
      "\n",
      "    expand.grid\n",
      "\n",
      "Loading required package: IRanges\n",
      "Loading required package: GenomicRanges\n",
      "Loading required package: GenomeInfoDb\n",
      "Loading required package: SummarizedExperiment\n",
      "Loading required package: Biobase\n",
      "Welcome to Bioconductor\n",
      "\n",
      "    Vignettes contain introductory material; view with\n",
      "    'browseVignettes()'. To cite Bioconductor, see\n",
      "    'citation(\"Biobase\")', and for packages 'citation(\"pkgname\")'.\n",
      "\n",
      "Loading required package: DelayedArray\n",
      "Loading required package: matrixStats\n",
      "\n",
      "Attaching package: ‘matrixStats’\n",
      "\n",
      "The following objects are masked from ‘package:Biobase’:\n",
      "\n",
      "    anyMissing, rowMedians\n",
      "\n",
      "Loading required package: BiocParallel\n",
      "\n",
      "Attaching package: ‘DelayedArray’\n",
      "\n",
      "The following objects are masked from ‘package:matrixStats’:\n",
      "\n",
      "    colMaxs, colMins, colRanges, rowMaxs, rowMins, rowRanges\n",
      "\n",
      "The following objects are masked from ‘package:base’:\n",
      "\n",
      "    aperm, apply\n",
      "\n",
      "> \n",
      "> # Set up the conditions based on the experimental setup.\n",
      "> cond_1 = rep(\"cond1\", 2)\n",
      "> cond_2 = rep(\"cond2\", 2)\n",
      "> \n",
      "> # Read the data from the standard input.\n",
      "> countData = read.table(\"stdin\", header=TRUE, sep=\"\\t\", row.names=1 )\n",
      "> \n",
      "> # Build the dataframe from the conditions\n",
      "> samples = names(countData)\n",
      "> condition = factor(c(cond_1, cond_2))\n",
      "> colData = data.frame(samples=samples, condition=condition)\n",
      "> \n",
      "> # Create DESEq2 dataset.\n",
      "> dds = DESeqDataSetFromMatrix(countData=countData, colData=colData, design = ~condition)\n",
      "> \n",
      "> #Set the reference to be compared\n",
      "> dds$condition = relevel(dds$condition,\"cond1\")\n",
      "> \n",
      "> # Run deseq\n",
      "> dds = DESeq(dds)\n",
      "estimating size factors\n",
      "estimating dispersions\n",
      "gene-wise dispersion estimates\n",
      "mean-dispersion relationship\n",
      "final dispersion estimates\n",
      "fitting model and testing\n",
      "> \n",
      "> # Format the results.\n",
      "> res = results(dds)\n",
      "> \n",
      "> # Sort the results data frame by the padj and foldChange columns.\n",
      "> sorted = res[with(res, order(padj, -log2FoldChange)), ]\n",
      "> \n",
      "> # Turn it into a dataframe to have proper column names.\n",
      "> sorted.df = data.frame(\"id\"=rownames(sorted),sorted)\n",
      "> \n",
      "> # Write the table out.\n",
      "> write.table(sorted.df, file=\"result.txt\", sep=\"\\t\", col.names=NA, quote=FALSE)\n",
      "> \n",
      "> # Get normalized counts and write this to a file\n",
      "> nc = counts(dds,normalized=TRUE)\n",
      "> \n",
      "> # Turn it into a dataframe to have proper column names.\n",
      "> dt = data.frame(\"id\"=rownames(nc),nc)\n",
      "> \n",
      "> # Save the normalize data matrix.\n",
      "> write.table(dt, file=\"norm-matrix-deseq2.txt\", sep=\"\\t\",  row.name=FALSE, col.names=TRUE,quote=FALSE)\n",
      "> \n",
      "> \n",
      "> \n"
     ]
    }
   ],
   "source": [
    "!cat ../data/week8/counts.txt | cut -f 1,7-10 > ../data/week8/simple_counts.txt\n",
    "!sed -i \"s/'/_1/\" ../data/week8/simple_counts.txt\n",
    "!cat ../data/week8/simple_counts.txt | R -f ../data/week8/deseq2.r"
   ]
  },
  {
   "cell_type": "code",
   "execution_count": 110,
   "metadata": {},
   "outputs": [],
   "source": [
    "!head result.txt -n 51 | tail -n +2 | cut -f 1 > ../data/week8/genes.txt"
   ]
  },
  {
   "cell_type": "code",
   "execution_count": 132,
   "metadata": {},
   "outputs": [],
   "source": [
    "%%bash\n",
    "head -n 1 norm-matrix-deseq2.txt > norm-matrix-deseq2-strip.txt\n",
    "\n",
    "for var in $(cat ../data/week8/genes.txt)\n",
    "do\n",
    "cat norm-matrix-deseq2.txt | grep -e \"^$var\" >> norm-matrix-deseq2-strip.txt\n",
    "done"
   ]
  },
  {
   "cell_type": "code",
   "execution_count": 133,
   "metadata": {},
   "outputs": [
    {
     "name": "stdout",
     "output_type": "stream",
     "text": [
      "61\r\n"
     ]
    }
   ],
   "source": [
    "!cat norm-matrix-deseq2-strip.txt | wc -l"
   ]
  },
  {
   "cell_type": "code",
   "execution_count": 111,
   "metadata": {},
   "outputs": [
    {
     "name": "stdout",
     "output_type": "stream",
     "text": [
      "GPP2\r\n",
      "STL1\r\n",
      "HXT1\r\n",
      "AQR1\r\n",
      "NSR1\r\n",
      "OAC1\r\n",
      "DBP2\r\n",
      "RPS28B\r\n",
      "ALB1\r\n",
      "FSF1\r\n",
      "PRM10\r\n",
      "YJL107C\r\n",
      "PDE2\r\n",
      "PFK27\r\n",
      "TRM11\r\n",
      "AAH1\r\n",
      "LCP5\r\n",
      "SAM1\r\n",
      "ADE4\r\n",
      "RSA4\r\n",
      "RRN11\r\n",
      "SNU13\r\n",
      "NOP12\r\n",
      "YGR079W\r\n",
      "SSF1\r\n",
      "SQT1\r\n",
      "FRE4\r\n",
      "RPA34\r\n",
      "URA7\r\n",
      "GRE2\r\n",
      "TMA10\r\n",
      "VTS1\r\n",
      "REX4\r\n",
      "YBL028C\r\n",
      "UTP9\r\n",
      "PUS1\r\n",
      "SYO1\r\n",
      "KRS1\r\n",
      "YML018C\r\n",
      "RPA12\r\n",
      "IPI3\r\n",
      "UTP15\r\n",
      "UTP6\r\n",
      "VID24\r\n",
      "PCK1\r\n",
      "YLR264C-A\r\n",
      "UTP18\r\n",
      "UCC1\r\n",
      "RPA49\r\n",
      "TPA1\r\n"
     ]
    }
   ],
   "source": [
    "!cat ../data/week8/genes.txt"
   ]
  },
  {
   "cell_type": "code",
   "execution_count": 149,
   "metadata": {
    "scrolled": true
   },
   "outputs": [
    {
     "name": "stdout",
     "output_type": "stream",
     "text": [
      "\n",
      "R version 3.4.1 (2017-06-30) -- \"Single Candle\"\n",
      "Copyright (C) 2017 The R Foundation for Statistical Computing\n",
      "Platform: x86_64-pc-linux-gnu (64-bit)\n",
      "\n",
      "R is free software and comes with ABSOLUTELY NO WARRANTY.\n",
      "You are welcome to redistribute it under certain conditions.\n",
      "Type 'license()' or 'licence()' for distribution details.\n",
      "\n",
      "  Natural language support but running in an English locale\n",
      "\n",
      "R is a collaborative project with many contributors.\n",
      "Type 'contributors()' for more information and\n",
      "'citation()' on how to cite R or R packages in publications.\n",
      "\n",
      "Type 'demo()' for some demos, 'help()' for on-line help, or\n",
      "'help.start()' for an HTML browser interface to help.\n",
      "Type 'q()' to quit R.\n",
      "\n",
      "> library(gplots)\n",
      "\n",
      "Attaching package: ‘gplots’\n",
      "\n",
      "The following object is masked from ‘package:stats’:\n",
      "\n",
      "    lowess\n",
      "\n",
      "> \n",
      "> # Read normalized counts\n",
      "> data = read.table(\"stdin\", header=T, sep=\"\\t\", as.is=TRUE)\n",
      "> \n",
      "> gene = data[,1]\n",
      "> vals = as.matrix(data[,2:ncol(data)])\n",
      "> \n",
      "> # Adds a little noise to each element\n",
      "> # To avoid the clusteing function failing on zero\n",
      "> # variance datalines.\n",
      "> vals = jitter(vals, factor = 1, amount=0.00001)\n",
      "> \n",
      "> \n",
      "> # Calculate zscore\n",
      "> score = NULL\n",
      "> for (i in 1:nrow(vals)) {\n",
      "+     row=vals[i,]\n",
      "+     zscore=(row-mean(row))/sd(row)\n",
      "+     score =rbind(score,zscore)\n",
      "+ }\n",
      "> \n",
      "> row.names(score) = gene\n",
      "> zscore=score\n",
      "> \n",
      "> # Generate heatmap\n",
      "> mat = as.matrix(zscore)\n",
      "> \n",
      "> # Opent the drawing device.\n",
      "> pdf('output.pdf')\n",
      "> \n",
      "> colors = colorRampPalette(c(\"green\",\"black\",\"red\"),space=\"rgb\")(256)\n",
      "> heatmap.2(mat,col=colors,density.info=\"none\",trace=\"none\", margins=c(20,14),lhei=c(1,5), cexRow=1., ceyRow=1., sepwidth=c(0.05,0.05), sepcolor=\"white\")\n",
      "Warning messages:\n",
      "1: In plot.window(...) : \"ceyRow\" is not a graphical parameter\n",
      "2: In plot.xy(xy, type, ...) : \"ceyRow\" is not a graphical parameter\n",
      "3: In title(...) : \"ceyRow\" is not a graphical parameter\n",
      "> \n",
      "> invisible(dev.off())\n",
      "> \n"
     ]
    }
   ],
   "source": [
    "!cat norm-matrix-deseq2-strip.txt | R -f ../data/week8/draw-heatmap.r"
   ]
  }
 ],
 "metadata": {
  "anaconda-cloud": {},
  "kernelspec": {
   "display_name": "Python (bioinf)",
   "language": "python",
   "name": "myenv"
  },
  "language_info": {
   "codemirror_mode": {
    "name": "ipython",
    "version": 3
   },
   "file_extension": ".py",
   "mimetype": "text/x-python",
   "name": "python",
   "nbconvert_exporter": "python",
   "pygments_lexer": "ipython3",
   "version": "3.6.6"
  }
 },
 "nbformat": 4,
 "nbformat_minor": 2
}
