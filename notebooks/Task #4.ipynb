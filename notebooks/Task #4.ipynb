{
 "cells": [
  {
   "cell_type": "code",
   "execution_count": 6,
   "metadata": {},
   "outputs": [],
   "source": [
    "REPEAT_MASKER = \"/home/analytics/distr/RepeatMasker/RepeatMasker\""
   ]
  },
  {
   "cell_type": "code",
   "execution_count": 1,
   "metadata": {},
   "outputs": [],
   "source": [
    "!mkdir -p ../data/week4"
   ]
  },
  {
   "cell_type": "code",
   "execution_count": 4,
   "metadata": {},
   "outputs": [
    {
     "name": "stdout",
     "output_type": "stream",
     "text": [
      "--2018-10-16 23:22:29--  ftp://ftp.ncbi.nlm.nih.gov/genomes/all/GCA/001/949/185/GCA_001949185.1_Rvar_4.0/GCA_001949185.1_Rvar_4.0_genomic.fna.gz\n",
      "           => ‘../data/week4/GCA_001949185.1_Rvar_4.0_genomic.fna.gz’\n",
      "Resolving ftp.ncbi.nlm.nih.gov (ftp.ncbi.nlm.nih.gov)... 130.14.250.10, 2607:f220:41e:250::7\n",
      "Connecting to ftp.ncbi.nlm.nih.gov (ftp.ncbi.nlm.nih.gov)|130.14.250.10|:21... connected.\n",
      "Logging in as anonymous ... Logged in!\n",
      "==> SYST ... done.    ==> PWD ... done.\n",
      "==> TYPE I ... done.  ==> CWD (1) /genomes/all/GCA/001/949/185/GCA_001949185.1_Rvar_4.0 ... done.\n",
      "==> SIZE GCA_001949185.1_Rvar_4.0_genomic.fna.gz ... 17621408\n",
      "==> PASV ... done.    ==> RETR GCA_001949185.1_Rvar_4.0_genomic.fna.gz ... done.\n",
      "Length: 17621408 (17M) (unauthoritative)\n",
      "\n",
      "100%[======================================>] 17,621,408  9.89MB/s   in 1.7s   \n",
      "\n",
      "2018-10-16 23:22:32 (9.89 MB/s) - ‘../data/week4/GCA_001949185.1_Rvar_4.0_genomic.fna.gz’ saved [17621408]\n",
      "\n"
     ]
    }
   ],
   "source": [
    "!wget -P ../data/week4/ ftp://ftp.ncbi.nlm.nih.gov/genomes/all/GCA/001/949/185/GCA_001949185.1_Rvar_4.0/GCA_001949185.1_Rvar_4.0_genomic.fna.gz"
   ]
  },
  {
   "cell_type": "code",
   "execution_count": 5,
   "metadata": {},
   "outputs": [],
   "source": [
    "!gunzip ../data/week4/GCA_001949185.1_Rvar_4.0_genomic.fna.gz"
   ]
  },
  {
   "cell_type": "code",
   "execution_count": 7,
   "metadata": {},
   "outputs": [
    {
     "name": "stdout",
     "output_type": "stream",
     "text": [
      "Can't locate Text/Soundex.pm in @INC (you may need to install the Text::Soundex module) (@INC contains: /home/analytics/distr/RepeatMasker /home/analytics/anaconda3/lib/site_perl/5.26.2/x86_64-linux-thread-multi /home/analytics/anaconda3/lib/site_perl/5.26.2 /home/analytics/anaconda3/lib/5.26.2/x86_64-linux-thread-multi /home/analytics/anaconda3/lib/5.26.2 .) at /home/analytics/distr/RepeatMasker/Taxonomy.pm line 83.\r\n",
      "BEGIN failed--compilation aborted at /home/analytics/distr/RepeatMasker/Taxonomy.pm line 83.\r\n",
      "Compilation failed in require at /home/analytics/distr/RepeatMasker/RepeatMasker line 313.\r\n",
      "BEGIN failed--compilation aborted at /home/analytics/distr/RepeatMasker/RepeatMasker line 313.\r\n"
     ]
    }
   ],
   "source": [
    "!$REPEAT_MASKER"
   ]
  },
  {
   "cell_type": "code",
   "execution_count": null,
   "metadata": {},
   "outputs": [],
   "source": []
  }
 ],
 "metadata": {
  "anaconda-cloud": {},
  "kernelspec": {
   "display_name": "Python [conda env:anaconda3]",
   "language": "python",
   "name": "conda-env-anaconda3-py"
  },
  "language_info": {
   "codemirror_mode": {
    "name": "ipython",
    "version": 3
   },
   "file_extension": ".py",
   "mimetype": "text/x-python",
   "name": "python",
   "nbconvert_exporter": "python",
   "pygments_lexer": "ipython3",
   "version": "3.5.4"
  }
 },
 "nbformat": 4,
 "nbformat_minor": 2
}
