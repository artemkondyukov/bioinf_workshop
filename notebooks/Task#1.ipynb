{
 "cells": [
  {
   "cell_type": "markdown",
   "metadata": {},
   "source": [
    "# Data fetching"
   ]
  },
  {
   "cell_type": "code",
   "execution_count": 4,
   "metadata": {},
   "outputs": [
    {
     "name": "stdout",
     "output_type": "stream",
     "text": [
      "--2018-09-16 21:45:25--  ftp://ftp.ncbi.nlm.nih.gov/genomes/genbank/bacteria/Escherichia_coli/all_assembly_versions/GCA_000005845.2_ASM584v2/GCA_000005845.2_ASM584v2_genomic.fna.gz\n",
      "           => ‘../data/GCA_000005845.2_ASM584v2_genomic.fna.gz.1’\n",
      "Resolving ftp.ncbi.nlm.nih.gov (ftp.ncbi.nlm.nih.gov)... 165.112.9.229, 2607:f220:41e:250::11\n",
      "Connecting to ftp.ncbi.nlm.nih.gov (ftp.ncbi.nlm.nih.gov)|165.112.9.229|:21... connected.\n",
      "Logging in as anonymous ... Logged in!\n",
      "==> SYST ... done.    ==> PWD ... done.\n",
      "==> TYPE I ... done.  ==> CWD (1) /genomes/genbank/bacteria/Escherichia_coli/all_assembly_versions/GCA_000005845.2_ASM584v2 ... done.\n",
      "==> SIZE GCA_000005845.2_ASM584v2_genomic.fna.gz ... 1379898\n",
      "==> PASV ... done.    ==> RETR GCA_000005845.2_ASM584v2_genomic.fna.gz ... done.\n",
      "Length: 1379898 (1.3M) (unauthoritative)\n",
      "\n",
      "100%[======================================>] 1,379,898   1.87MB/s   in 0.7s   \n",
      "\n",
      "2018-09-16 21:45:27 (1.87 MB/s) - ‘../data/GCA_000005845.2_ASM584v2_genomic.fna.gz.1’ saved [1379898]\n",
      "\n",
      "--2018-09-16 21:45:27--  ftp://ftp.ncbi.nlm.nih.gov/genomes/genbank/bacteria/Escherichia_coli/all_assembly_versions/GCA_000005845.2_ASM584v2/GCA_000005845.2_ASM584v2_genomic.gff.gz\n",
      "           => ‘../data/GCA_000005845.2_ASM584v2_genomic.gff.gz’\n",
      "Resolving ftp.ncbi.nlm.nih.gov (ftp.ncbi.nlm.nih.gov)... 165.112.9.229, 2607:f220:41e:250::11\n",
      "Connecting to ftp.ncbi.nlm.nih.gov (ftp.ncbi.nlm.nih.gov)|165.112.9.229|:21... connected.\n",
      "Logging in as anonymous ... Logged in!\n",
      "==> SYST ... done.    ==> PWD ... done.\n",
      "==> TYPE I ... done.  ==> CWD (1) /genomes/genbank/bacteria/Escherichia_coli/all_assembly_versions/GCA_000005845.2_ASM584v2 ... done.\n",
      "==> SIZE GCA_000005845.2_ASM584v2_genomic.gff.gz ... 474797\n",
      "==> PASV ... done.    ==> RETR GCA_000005845.2_ASM584v2_genomic.gff.gz ... done.\n",
      "Length: 474797 (464K) (unauthoritative)\n",
      "\n",
      "100%[======================================>] 474,797      759KB/s   in 0.6s   \n",
      "\n",
      "2018-09-16 21:45:29 (759 KB/s) - ‘../data/GCA_000005845.2_ASM584v2_genomic.gff.gz’ saved [474797]\n",
      "\n"
     ]
    }
   ],
   "source": [
    "!mkdir -p ../data/\n",
    "!wget -P ../data/ ftp://ftp.ncbi.nlm.nih.gov/genomes/genbank/bacteria/Escherichia_coli/all_assembly_versions/GCA_000005845.2_ASM584v2/GCA_000005845.2_ASM584v2_genomic.fna.gz\n",
    "!wget -P ../data/ ftp://ftp.ncbi.nlm.nih.gov/genomes/genbank/bacteria/Escherichia_coli/all_assembly_versions/GCA_000005845.2_ASM584v2/GCA_000005845.2_ASM584v2_genomic.gff.gz"
   ]
  },
  {
   "cell_type": "code",
   "execution_count": 5,
   "metadata": {},
   "outputs": [
    {
     "name": "stdout",
     "output_type": "stream",
     "text": [
      "--2018-09-16 21:45:54--  http://public.dobzhanskycenter.ru/mrayko/amp_res_1.fastq.zip\n",
      "Resolving public.dobzhanskycenter.ru (public.dobzhanskycenter.ru)... 195.70.204.3\n",
      "Connecting to public.dobzhanskycenter.ru (public.dobzhanskycenter.ru)|195.70.204.3|:80... connected.\n",
      "HTTP request sent, awaiting response... 200 OK\n",
      "Length: 44391086 (42M) [application/zip]\n",
      "Saving to: ‘../data/amp_res_1.fastq.zip’\n",
      "\n",
      "100%[======================================>] 44,391,086  35.4MB/s   in 1.2s   \n",
      "\n",
      "2018-09-16 21:45:55 (35.4 MB/s) - ‘../data/amp_res_1.fastq.zip’ saved [44391086/44391086]\n",
      "\n",
      "--2018-09-16 21:45:56--  http://public.dobzhanskycenter.ru/mrayko/amp_res_2.fastq.zip\n",
      "Resolving public.dobzhanskycenter.ru (public.dobzhanskycenter.ru)... 195.70.204.3\n",
      "Connecting to public.dobzhanskycenter.ru (public.dobzhanskycenter.ru)|195.70.204.3|:80... connected.\n",
      "HTTP request sent, awaiting response... 200 OK\n",
      "Length: 88751086 (85M) [application/zip]\n",
      "Saving to: ‘../data/amp_res_2.fastq.zip’\n",
      "\n",
      "100%[======================================>] 88,751,086  42.6MB/s   in 2.0s   \n",
      "\n",
      "2018-09-16 21:45:58 (42.6 MB/s) - ‘../data/amp_res_2.fastq.zip’ saved [88751086/88751086]\n",
      "\n"
     ]
    }
   ],
   "source": [
    "!wget -P ../data/ http://public.dobzhanskycenter.ru/mrayko/amp_res_1.fastq.zip\n",
    "!wget -P ../data/ http://public.dobzhanskycenter.ru/mrayko/amp_res_2.fastq.zip"
   ]
  },
  {
   "cell_type": "code",
   "execution_count": 3,
   "metadata": {},
   "outputs": [
    {
     "name": "stdout",
     "output_type": "stream",
     "text": [
      "\r\n",
      "            FastQC - A high throughput sequence QC analysis tool\r\n",
      "\r\n",
      "SYNOPSIS\r\n",
      "\r\n",
      "\tfastqc seqfile1 seqfile2 .. seqfileN\r\n",
      "\r\n",
      "    fastqc [-o output dir] [--(no)extract] [-f fastq|bam|sam] \r\n",
      "           [-c contaminant file] seqfile1 .. seqfileN\r\n",
      "\r\n",
      "DESCRIPTION\r\n",
      "\r\n",
      "    FastQC reads a set of sequence files and produces from each one a quality\r\n",
      "    control report consisting of a number of different modules, each one of \r\n",
      "    which will help to identify a different potential type of problem in your\r\n",
      "    data.\r\n",
      "    \r\n",
      "    If no files to process are specified on the command line then the program\r\n",
      "    will start as an interactive graphical application.  If files are provided\r\n",
      "    on the command line then the program will run with no user interaction\r\n",
      "    required.  In this mode it is suitable for inclusion into a standardised\r\n",
      "    analysis pipeline.\r\n",
      "    \r\n",
      "    The options for the program as as follows:\r\n",
      "    \r\n",
      "    -h --help       Print this help file and exit\r\n",
      "    \r\n",
      "    -v --version    Print the version of the program and exit\r\n",
      "    \r\n",
      "    -o --outdir     Create all output files in the specified output directory.\r\n",
      "                    Please note that this directory must exist as the program\r\n",
      "                    will not create it.  If this option is not set then the \r\n",
      "                    output file for each sequence file is created in the same\r\n",
      "                    directory as the sequence file which was processed.\r\n",
      "                    \r\n",
      "    --casava        Files come from raw casava output. Files in the same sample\r\n",
      "                    group (differing only by the group number) will be analysed\r\n",
      "                    as a set rather than individually. Sequences with the filter\r\n",
      "                    flag set in the header will be excluded from the analysis.\r\n",
      "                    Files must have the same names given to them by casava\r\n",
      "                    (including being gzipped and ending with .gz) otherwise they\r\n",
      "                    won't be grouped together correctly.\r\n",
      "                    \r\n",
      "    --nano          Files come from naopore sequences and are in fast5 format. In\r\n",
      "                    this mode you can pass in directories to process and the program\r\n",
      "                    will take in all fast5 files within those directories and produce\r\n",
      "                    a single output file from the sequences found in all files.                    \r\n",
      "                    \r\n",
      "    --nofilter      If running with --casava then don't remove read flagged by\r\n",
      "                    casava as poor quality when performing the QC analysis.\r\n",
      "                   \r\n",
      "    --extract       If set then the zipped output file will be uncompressed in\r\n",
      "                    the same directory after it has been created.  By default\r\n",
      "                    this option will be set if fastqc is run in non-interactive\r\n",
      "                    mode.\r\n",
      "                    \r\n",
      "    -j --java       Provides the full path to the java binary you want to use to\r\n",
      "                    launch fastqc. If not supplied then java is assumed to be in\r\n",
      "                    your path.\r\n",
      "                   \r\n",
      "    --noextract     Do not uncompress the output file after creating it.  You\r\n",
      "                    should set this option if you do not wish to uncompress\r\n",
      "                    the output when running in non-interactive mode.\r\n",
      "                    \r\n",
      "    --nogroup       Disable grouping of bases for reads >50bp. All reports will\r\n",
      "                    show data for every base in the read.  WARNING: Using this\r\n",
      "                    option will cause fastqc to crash and burn if you use it on\r\n",
      "                    really long reads, and your plots may end up a ridiculous size.\r\n",
      "                    You have been warned!\r\n",
      "                    \r\n",
      "    --min_length    Sets an artificial lower limit on the length of the sequence\r\n",
      "                    to be shown in the report.  As long as you set this to a value\r\n",
      "                    greater or equal to your longest read length then this will be\r\n",
      "                    the sequence length used to create your read groups.  This can\r\n",
      "                    be useful for making directly comaparable statistics from \r\n",
      "                    datasets with somewhat variable read lengths.\r\n",
      "                    \r\n",
      "    -f --format     Bypasses the normal sequence file format detection and\r\n",
      "                    forces the program to use the specified format.  Valid\r\n",
      "                    formats are bam,sam,bam_mapped,sam_mapped and fastq\r\n",
      "                    \r\n",
      "    -t --threads    Specifies the number of files which can be processed\r\n",
      "                    simultaneously.  Each thread will be allocated 250MB of\r\n",
      "                    memory so you shouldn't run more threads than your\r\n",
      "                    available memory will cope with, and not more than\r\n",
      "                    6 threads on a 32 bit machine\r\n",
      "                  \r\n",
      "    -c              Specifies a non-default file which contains the list of\r\n",
      "    --contaminants  contaminants to screen overrepresented sequences against.\r\n",
      "                    The file must contain sets of named contaminants in the\r\n",
      "                    form name[tab]sequence.  Lines prefixed with a hash will\r\n",
      "                    be ignored.\r\n",
      "\r\n",
      "    -a              Specifies a non-default file which contains the list of\r\n",
      "    --adapters      adapter sequences which will be explicity searched against\r\n",
      "                    the library. The file must contain sets of named adapters\r\n",
      "                    in the form name[tab]sequence.  Lines prefixed with a hash\r\n",
      "                    will be ignored.\r\n",
      "                    \r\n",
      "    -l              Specifies a non-default file which contains a set of criteria\r\n",
      "    --limits        which will be used to determine the warn/error limits for the\r\n",
      "                    various modules.  This file can also be used to selectively \r\n",
      "                    remove some modules from the output all together.  The format\r\n",
      "                    needs to mirror the default limits.txt file found in the\r\n",
      "                    Configuration folder.\r\n",
      "                    \r\n",
      "   -k --kmers       Specifies the length of Kmer to look for in the Kmer content\r\n",
      "                    module. Specified Kmer length must be between 2 and 10. Default\r\n",
      "                    length is 7 if not specified.\r\n",
      "                    \r\n",
      "   -q --quiet       Supress all progress messages on stdout and only report errors.\r\n",
      "   \r\n",
      "   -d --dir         Selects a directory to be used for temporary files written when\r\n",
      "                    generating report images. Defaults to system temp directory if\r\n",
      "                    not specified.\r\n",
      "                    \r\n",
      "BUGS\r\n",
      "\r\n",
      "    Any bugs in fastqc should be reported either to simon.andrews@babraham.ac.uk\r\n",
      "    or in www.bioinformatics.babraham.ac.uk/bugzilla/\r\n",
      "                   \r\n",
      "    "
     ]
    }
   ],
   "source": [
    "FASTQC_PATH = \"~/distr/FastQC/fastqc\"\n",
    "!$FASTQC_PATH --help"
   ]
  },
  {
   "cell_type": "code",
   "execution_count": 17,
   "metadata": {},
   "outputs": [
    {
     "name": "stdout",
     "output_type": "stream",
     "text": [
      "Archive:  ../data/amp_res_1.fastq.zip\n",
      "  inflating: ../data/amp_res_1.fastq  \n",
      "Archive:  ../data/amp_res_2.fastq.zip\n",
      "  inflating: ../data/home/mike/UCSD/BIMM185/Week1/amp_res_2.fastq  \n",
      "  inflating: ../data/amp_res_2.fastq  \n"
     ]
    }
   ],
   "source": [
    "!unzip -o ../data/amp_res_1.fastq.zip -d ../data/\n",
    "!unzip -o ../data/amp_res_2.fastq.zip -d ../data/"
   ]
  },
  {
   "cell_type": "code",
   "execution_count": 18,
   "metadata": {},
   "outputs": [
    {
     "name": "stdout",
     "output_type": "stream",
     "text": [
      "Started analysis of amp_res_1.fastq\n",
      "Approx 5% complete for amp_res_1.fastq\n",
      "Approx 10% complete for amp_res_1.fastq\n",
      "Approx 15% complete for amp_res_1.fastq\n",
      "Approx 20% complete for amp_res_1.fastq\n",
      "Approx 25% complete for amp_res_1.fastq\n",
      "Approx 30% complete for amp_res_1.fastq\n",
      "Approx 35% complete for amp_res_1.fastq\n",
      "Approx 40% complete for amp_res_1.fastq\n",
      "Approx 45% complete for amp_res_1.fastq\n",
      "Approx 50% complete for amp_res_1.fastq\n",
      "Approx 55% complete for amp_res_1.fastq\n",
      "Approx 60% complete for amp_res_1.fastq\n",
      "Approx 65% complete for amp_res_1.fastq\n",
      "Approx 70% complete for amp_res_1.fastq\n",
      "Approx 75% complete for amp_res_1.fastq\n",
      "Approx 80% complete for amp_res_1.fastq\n",
      "Approx 85% complete for amp_res_1.fastq\n",
      "Approx 90% complete for amp_res_1.fastq\n",
      "Approx 95% complete for amp_res_1.fastq\n",
      "Analysis complete for amp_res_1.fastq\n",
      "Started analysis of amp_res_2.fastq\n",
      "Approx 5% complete for amp_res_2.fastq\n",
      "Approx 10% complete for amp_res_2.fastq\n",
      "Approx 15% complete for amp_res_2.fastq\n",
      "Approx 20% complete for amp_res_2.fastq\n",
      "Approx 25% complete for amp_res_2.fastq\n",
      "Approx 30% complete for amp_res_2.fastq\n",
      "Approx 35% complete for amp_res_2.fastq\n",
      "Approx 40% complete for amp_res_2.fastq\n",
      "Approx 45% complete for amp_res_2.fastq\n",
      "Approx 50% complete for amp_res_2.fastq\n",
      "Approx 55% complete for amp_res_2.fastq\n",
      "Approx 60% complete for amp_res_2.fastq\n",
      "Approx 65% complete for amp_res_2.fastq\n",
      "Approx 70% complete for amp_res_2.fastq\n",
      "Approx 75% complete for amp_res_2.fastq\n",
      "Approx 80% complete for amp_res_2.fastq\n",
      "Approx 85% complete for amp_res_2.fastq\n",
      "Approx 90% complete for amp_res_2.fastq\n",
      "Approx 95% complete for amp_res_2.fastq\n",
      "Analysis complete for amp_res_2.fastq\n"
     ]
    }
   ],
   "source": [
    "!$FASTQC_PATH ../data/amp_res_1.fastq ../data/amp_res_2.fastq"
   ]
  },
  {
   "cell_type": "code",
   "execution_count": 10,
   "metadata": {
    "scrolled": false
   },
   "outputs": [
    {
     "name": "stdout",
     "output_type": "stream",
     "text": [
      "amp_res_1.fastq        amp_res_2_fastqc.zip\r\n",
      "amp_res_1_fastqc.html  amp_res_2.fastq.zip\r\n",
      "amp_res_1_fastqc.zip   GCA_000005845.2_ASM584v2_genomic.fna.gz\r\n",
      "amp_res_1.fastq.zip    GCA_000005845.2_ASM584v2_genomic.gff.gz\r\n",
      "amp_res_2.fastq        home\r\n",
      "amp_res_2_fastqc.html\r\n"
     ]
    }
   ],
   "source": [
    "!ls ../data/"
   ]
  },
  {
   "cell_type": "code",
   "execution_count": 1,
   "metadata": {},
   "outputs": [
    {
     "data": {
      "text/html": [
       "<ol><li>☐ Buy milk</li><li>☐ Do homework</li><li>☑ Play video games</li></ol>"
      ],
      "text/plain": [
       "<__main__.Todo at 0x7f840c1fa908>"
      ]
     },
     "execution_count": 1,
     "metadata": {},
     "output_type": "execute_result"
    }
   ],
   "source": [
    "from html import escape # Python 3 only :-)\n",
    "\n",
    "class Todo:\n",
    "    def __init__(self):\n",
    "        self.items = []\n",
    "\n",
    "    def add(self, text, completed):\n",
    "        self.items.append({'text': text, 'completed': completed})\n",
    "\n",
    "    def _repr_html_(self):\n",
    "        return \"<ol>{}</ol>\".format(\"\".join(\"<li>{} {}</li>\".format(\n",
    "            \"☑\" if item['completed'] else \"☐\",\n",
    "            escape(item['text'])\n",
    "        ) for item in self.items))\n",
    "\n",
    "my_todo = Todo()\n",
    "my_todo.add(\"Buy milk\", False)\n",
    "my_todo.add(\"Do homework\", False)\n",
    "my_todo.add(\"Play video games\", True)\n",
    "\n",
    "my_todo"
   ]
  },
  {
   "cell_type": "code",
   "execution_count": 52,
   "metadata": {},
   "outputs": [],
   "source": [
    "conn = connect_to_region(\"eu-central-1\", \n",
    "                             aws_access_key_id=open(\"../.access_key\", \"r\").read().strip(),\n",
    "                             aws_secret_access_key=open(\"../.secret_key\", \"r\").read().strip())\n",
    "\n",
    "bucket = conn.get_bucket(\"bioinf-workshop\")\n",
    "key = Key(bucket)"
   ]
  },
  {
   "cell_type": "code",
   "execution_count": null,
   "metadata": {},
   "outputs": [],
   "source": [
    "key.set_contents_from_string()"
   ]
  },
  {
   "cell_type": "code",
   "execution_count": 53,
   "metadata": {},
   "outputs": [],
   "source": [
    "from boto.s3 import connect_to_region\n",
    "from boto import connect_s3\n",
    "from boto.s3.key import Key\n",
    "# file_ = request.FILES['file_field_name']\n",
    "# file_name = some_random_name_for_the_file\n",
    "\n",
    "AWS_S3_ROOT = \"http://bioinf-workshop.s3-website.eu-central-1.amazonaws.com/\"\n",
    "\n",
    "def perform_file_upload(file_, file_name):\n",
    "\n",
    "    conn = connect_to_region(\"eu-central-1\", \n",
    "                             aws_access_key_id=open(\"../.access_key\", \"r\").read().strip(),\n",
    "                             aws_secret_access_key=open(\"../.secret_key\", \"r\").read().strip())\n",
    "\n",
    "    bucket = conn.get_bucket(\"bioinf-workshop\")\n",
    "    key = Key(bucket)\n",
    "    key.key = file_name\n",
    "    key.set_contents_from_string(file_, headers={\"Content-Type\": \"text/html\"})\n",
    "    key.set_acl('public-read')\n",
    "    return AWS_S3_ROOT + file_name # public url to access the uploaded file\n"
   ]
  },
  {
   "cell_type": "code",
   "execution_count": 54,
   "metadata": {},
   "outputs": [],
   "source": [
    "f = perform_file_upload(open(\"../data/amp_res_1_fastqc.html\", \"r\").read(), \"2.html\")"
   ]
  },
  {
   "cell_type": "code",
   "execution_count": 55,
   "metadata": {},
   "outputs": [
    {
     "data": {
      "text/html": [
       "\n",
       "        <iframe\n",
       "            width=\"1000\"\n",
       "            height=\"600\"\n",
       "            src=\"http://bioinf-workshop.s3-website.eu-central-1.amazonaws.com/2.html\"\n",
       "            frameborder=\"0\"\n",
       "            allowfullscreen\n",
       "        ></iframe>\n",
       "        "
      ],
      "text/plain": [
       "<IPython.lib.display.IFrame at 0x7f83f4c0c9b0>"
      ]
     },
     "execution_count": 55,
     "metadata": {},
     "output_type": "execute_result"
    }
   ],
   "source": [
    "from IPython.display import IFrame\n",
    "\n",
    "IFrame(src=f, width=1000, height=600)"
   ]
  }
 ],
 "metadata": {
  "anaconda-cloud": {},
  "kernelspec": {
   "display_name": "Python [conda env:anaconda3]",
   "language": "python",
   "name": "conda-env-anaconda3-py"
  },
  "language_info": {
   "codemirror_mode": {
    "name": "ipython",
    "version": 3
   },
   "file_extension": ".py",
   "mimetype": "text/x-python",
   "name": "python",
   "nbconvert_exporter": "python",
   "pygments_lexer": "ipython3",
   "version": "3.5.4"
  }
 },
 "nbformat": 4,
 "nbformat_minor": 2
}
