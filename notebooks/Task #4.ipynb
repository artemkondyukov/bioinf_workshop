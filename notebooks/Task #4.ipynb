{
 "cells": [
  {
   "cell_type": "code",
   "execution_count": 1,
   "metadata": {},
   "outputs": [],
   "source": [
    "REPEAT_MASKER = \"/home/analytics/anaconda3/envs/bioinf/bin/RepeatMasker\"\n",
    "BEDTOOLS = \"/home/analytics/anaconda3/bin/bedtools\"\n",
    "UPDATE_BLASTDB = \"/home/analytics/anaconda3/bin/update_blastdb.pl\"\n",
    "MAKEBLASTDB = \"/home/analytics/anaconda3/bin/makeblastdb\"\n",
    "BLASTP = \"/home/analytics/anaconda3/bin/blastp\""
   ]
  },
  {
   "cell_type": "code",
   "execution_count": 2,
   "metadata": {},
   "outputs": [],
   "source": [
    "!mkdir -p ../data/week4"
   ]
  },
  {
   "cell_type": "code",
   "execution_count": 3,
   "metadata": {},
   "outputs": [
    {
     "name": "stdout",
     "output_type": "stream",
     "text": [
      "--2018-10-23 21:45:35--  ftp://ftp.ncbi.nlm.nih.gov/genomes/all/GCA/001/949/185/GCA_001949185.1_Rvar_4.0/GCA_001949185.1_Rvar_4.0_genomic.fna.gz\n",
      "           => ‘../data/week4/GCA_001949185.1_Rvar_4.0_genomic.fna.gz’\n",
      "Resolving ftp.ncbi.nlm.nih.gov (ftp.ncbi.nlm.nih.gov)... 130.14.250.13, 2607:f220:41e:250::12\n",
      "Connecting to ftp.ncbi.nlm.nih.gov (ftp.ncbi.nlm.nih.gov)|130.14.250.13|:21... connected.\n",
      "Logging in as anonymous ... Logged in!\n",
      "==> SYST ... done.    ==> PWD ... done.\n",
      "==> TYPE I ... done.  ==> CWD (1) /genomes/all/GCA/001/949/185/GCA_001949185.1_Rvar_4.0 ... done.\n",
      "==> SIZE GCA_001949185.1_Rvar_4.0_genomic.fna.gz ... 17621408\n",
      "==> PASV ... done.    ==> RETR GCA_001949185.1_Rvar_4.0_genomic.fna.gz ... done.\n",
      "Length: 17621408 (17M) (unauthoritative)\n",
      "\n",
      "100%[======================================>] 17,621,408  9.65MB/s   in 1.7s   \n",
      "\n",
      "2018-10-23 21:45:42 (9.65 MB/s) - ‘../data/week4/GCA_001949185.1_Rvar_4.0_genomic.fna.gz’ saved [17621408]\n",
      "\n"
     ]
    }
   ],
   "source": [
    "!wget -P ../data/week4/ ftp://ftp.ncbi.nlm.nih.gov/genomes/all/GCA/001/949/185/GCA_001949185.1_Rvar_4.0/GCA_001949185.1_Rvar_4.0_genomic.fna.gz"
   ]
  },
  {
   "cell_type": "code",
   "execution_count": 4,
   "metadata": {},
   "outputs": [],
   "source": [
    "!gunzip ../data/week4/GCA_001949185.1_Rvar_4.0_genomic.fna.gz"
   ]
  },
  {
   "cell_type": "code",
   "execution_count": 8,
   "metadata": {
    "scrolled": true
   },
   "outputs": [],
   "source": [
    "!$REPEAT_MASKER -pa 50 -species elegans -s ../data/week4/GCA_001949185.1_Rvar_4.0_genomic.fna > /dev/null"
   ]
  },
  {
   "cell_type": "code",
   "execution_count": 9,
   "metadata": {},
   "outputs": [
    {
     "name": "stdout",
     "output_type": "stream",
     "text": [
      "--2018-10-23 22:13:20--  http://public.dobzhanskycenter.ru/mrayko/BIMM185/augustus.whole.gff\n",
      "Resolving public.dobzhanskycenter.ru (public.dobzhanskycenter.ru)... 195.70.204.3\n",
      "Connecting to public.dobzhanskycenter.ru (public.dobzhanskycenter.ru)|195.70.204.3|:80... connected.\n",
      "HTTP request sent, awaiting response... 200 OK\n",
      "Length: 27539173 (26M)\n",
      "Saving to: ‘../data/week4/augustus.whole.gff’\n",
      "\n",
      "100%[======================================>] 27,539,173  67.2MB/s   in 0.4s   \n",
      "\n",
      "2018-10-23 22:13:20 (67.2 MB/s) - ‘../data/week4/augustus.whole.gff’ saved [27539173/27539173]\n",
      "\n"
     ]
    }
   ],
   "source": [
    "!wget -P ../data/week4/ http://public.dobzhanskycenter.ru/mrayko/BIMM185/augustus.whole.gff"
   ]
  },
  {
   "cell_type": "code",
   "execution_count": 12,
   "metadata": {},
   "outputs": [],
   "source": [
    "!perl ../scripts/getAnnoFasta.pl ../data/week4/augustus.whole.gff"
   ]
  },
  {
   "cell_type": "code",
   "execution_count": 13,
   "metadata": {},
   "outputs": [
    {
     "name": "stdout",
     "output_type": "stream",
     "text": [
      "16435\r\n"
     ]
    }
   ],
   "source": [
    "!cat ../data/week4/augustus.whole.aa | grep \">\" | wc -l"
   ]
  },
  {
   "cell_type": "code",
   "execution_count": 14,
   "metadata": {},
   "outputs": [
    {
     "name": "stdout",
     "output_type": "stream",
     "text": [
      "--2018-10-23 22:14:47--  http://public.dobzhanskycenter.ru/mrayko/BIMM185/peptides.fa\r\n",
      "Resolving public.dobzhanskycenter.ru (public.dobzhanskycenter.ru)... 195.70.204.3\r\n",
      "Connecting to public.dobzhanskycenter.ru (public.dobzhanskycenter.ru)|195.70.204.3|:80... connected.\r\n",
      "HTTP request sent, awaiting response... 200 OK\r\n",
      "Length: 1340 (1.3K)\r\n",
      "Saving to: ‘../data/week4/peptides.fa’\r\n",
      "\r\n",
      "\r",
      " 0% [                                       ] 0           --.-K/s              \r",
      "100%[======================================>] 1,340       --.-K/s   in 0s      \r\n",
      "\r\n",
      "2018-10-23 22:14:47 (93.5 MB/s) - ‘../data/week4/peptides.fa’ saved [1340/1340]\r\n",
      "\r\n"
     ]
    }
   ],
   "source": [
    "!wget -P ../data/week4/ http://public.dobzhanskycenter.ru/mrayko/BIMM185/peptides.fa"
   ]
  },
  {
   "cell_type": "code",
   "execution_count": 15,
   "metadata": {},
   "outputs": [
    {
     "name": "stdout",
     "output_type": "stream",
     "text": [
      ">pept_1_score_48\r\n",
      "VFSALDVLR\r\n",
      ">pept_2_score_65\r\n",
      "SPLQTDEIR\r\n",
      ">pept_3_score_54\r\n",
      "AATGAVLSSADSR\r\n",
      ">pept_4_score_39\r\n",
      "LLDDENDYELK\r\n",
      ">pept_5_score_59\r\n",
      "VTGSSQGAINQQQAK\r\n"
     ]
    }
   ],
   "source": [
    "!head -n 10 ../data/week4/peptides.fa"
   ]
  },
  {
   "cell_type": "code",
   "execution_count": 16,
   "metadata": {},
   "outputs": [
    {
     "name": "stdout",
     "output_type": "stream",
     "text": [
      "86\r\n"
     ]
    }
   ],
   "source": [
    "!cat ../data/week4/peptides.fa | wc -l"
   ]
  },
  {
   "cell_type": "code",
   "execution_count": 17,
   "metadata": {},
   "outputs": [
    {
     "name": "stdout",
     "output_type": "stream",
     "text": [
      ">g1.t1\r\n",
      "AATYSKHPRSYRENIVVWRICMGHCDGRYLALYNLNGWSERDMIDRWALMVTLLVPPAFLLPARDIDNLLTAGHETSPQTGGSDVMSEYVTPFCYVCDSL\r\n",
      "VDADCRESQDWMPRRRNGLRKKVMWTGQGEDDHGRLAFDWKEVYIRLEKFKQRCPSNNGCTTHVFLNSDRVIRRCFDPKEPPCSGHEWMVNRRNPKKRSK\r\n",
      "VKVVSRLTCADWPFCNVDSAYYWPNGTVEALLSPHDDPQLKVRSAKLSCYECDSILQPDCTGQNFVKAVRKPNDAVAHSVDWVGLRKGMEKFRTRCPVES\r\n",
      "GCFFQGDHMTNRVIRGCRNMTTDLPRHLLVKDRRKESSVFRTEEVCRESECNSRVLFFSHSGAFLDSDWHFNNSSAGRDNGQGEAKKEVYQGDAPATEET\r\n",
      "GFLPHVKQSGQGKRKEGRLQKRTIGDVEREERRADEARQRRGKPKAEGRGGAGTRVLSFGHRSRKTSAGGKLDSCWLLLLLPFFLL\r\n",
      ">g2.t1\r\n",
      "MTFAVTVATTSQSCAIAFDVFWLTTIKLFFIAKYFGSEFTPFDKVQSLTCPHCAQQGIEYKDLLPHLETNHADTSDFLVVSDNITIIWDVAHCI\r\n",
      ">g3.t1\r\n",
      "MLDKAKLVLLNKGGRPSIRSAEDGWKVFSDSLLCRASSDGRVFIGKGGGNGGAVAKAEVAAIGVVLVHHMLQQVVRHGEVVIVSANTNWTPLPY\r\n"
     ]
    }
   ],
   "source": [
    "!head ../data/week4/augustus.whole.aa"
   ]
  },
  {
   "cell_type": "code",
   "execution_count": 18,
   "metadata": {},
   "outputs": [
    {
     "name": "stdout",
     "output_type": "stream",
     "text": [
      "\n",
      "\n",
      "Building a new DB, current time: 10/23/2018 22:15:00\n",
      "New DB name:   /home/analytics/projects/bioinf_workshop/data/week4/proteindb\n",
      "New DB title:  ../data/week4/augustus.whole.aa\n",
      "Sequence type: Protein\n",
      "Keep MBits: T\n",
      "Maximum file size: 1000000000B\n",
      "Adding sequences from FASTA; added 16435 sequences in 0.693661 seconds.\n"
     ]
    }
   ],
   "source": [
    "!$MAKEBLASTDB -in ../data/week4/augustus.whole.aa -dbtype prot -out ../data/week4/proteindb   "
   ]
  },
  {
   "cell_type": "code",
   "execution_count": 19,
   "metadata": {},
   "outputs": [],
   "source": [
    "!$BLASTP -query ../data/week4/peptides.fa -db ../data/week4/proteindb > ../data/week4/blast_result"
   ]
  },
  {
   "cell_type": "code",
   "execution_count": 20,
   "metadata": {},
   "outputs": [],
   "source": [
    "!cat ../data/week4/blast_result | grep -e \"^>\" | awk '{ print $2 }' | sort | uniq > ../data/week4/dna_att_genes"
   ]
  },
  {
   "cell_type": "code",
   "execution_count": 21,
   "metadata": {},
   "outputs": [
    {
     "name": "stdout",
     "output_type": "stream",
     "text": [
      "g10513.t1\r\n",
      "g10514.t1\r\n",
      "g11320.t1\r\n",
      "g11513.t1\r\n",
      "g11806.t1\r\n",
      "g11960.t1\r\n",
      "g12388.t1\r\n",
      "g12510.t1\r\n",
      "g12562.t1\r\n",
      "g1285.t1\r\n"
     ]
    }
   ],
   "source": [
    "!head -n 10 ../data/week4/dna_att_genes"
   ]
  },
  {
   "cell_type": "code",
   "execution_count": 22,
   "metadata": {},
   "outputs": [],
   "source": [
    "proteins = {}\n",
    "cur_seq = []\n",
    "\n",
    "with open(\"../data/week4/augustus.whole.aa\", \"r\") as f:\n",
    "    for line in f:\n",
    "        if line[0] == \">\":\n",
    "            if len(cur_seq) > 0:\n",
    "                proteins[cur_prot] = \"\".join(cur_seq)\n",
    "                cur_seq = []\n",
    "            cur_prot = line[1:].strip()\n",
    "        else:\n",
    "            cur_seq.append(line.strip())"
   ]
  },
  {
   "cell_type": "code",
   "execution_count": 23,
   "metadata": {},
   "outputs": [],
   "source": [
    "with open(\"../data/week4/to_psort\", \"w\") as f:\n",
    "    dap = !cat ../data/week4/dna_att_genes\n",
    "    for p in dap:\n",
    "        f.write(\">\" + p + \"\\n\")\n",
    "        f.write(proteins[p] + \"\\n\")"
   ]
  },
  {
   "cell_type": "code",
   "execution_count": 24,
   "metadata": {},
   "outputs": [
    {
     "name": "stdout",
     "output_type": "stream",
     "text": [
      ">g10513.t1\r\n",
      "MSTTTSSSSSNKDKDSTDTYVRSADNTSGSSNTTGSSSTNKGGKSSSSDYDSDKTTTSSSYGTGGQNTSSYGQSGQGGQHNTSTSSSYGQSGQGGQSGQHSSSSYGQSGQHSSGQSGQHSSGQSGQQSGQHGSHEVQQKLKEVGNLLQKAGHLLQDLQGSASDFSSSSSYSQRNQGGNYSGPYGGSDSQFHQYGSSGMGGGSYGQSSSYGQGSSGYGQGSSSYGQQSGRHQDSDRFGGSSSFGGQSSGQYGGHSQGGYGGQQGGYGGSSGQNYGPYXXXXXXXXXXXXXRGMGGGYGFSQDSGRQGGMGMSGGMGGADRYGGFGGPNRPDMSYGQQYGGRSDRW\r\n",
      ">g10514.t1\r\n",
      "MSYNRTEYRSDSDRHDDDKQGGWRSWFGLGGNKDDNNDRDRGYSYTNTTTYRGDDSNRYGFSGDRMSGPSGYSGAISGGYSGSRGGYGYTTSDDYNRGNTNYSRSNDNSNYNRDNSSRGGDRDVYYRQETRTYPTTGYTGSSNYTSGXXXXXXXXXXXXXXXXXXXXXXXXXXPSYGNTDRDYTVSXXXXXXXXXXXXXXXXXXXXXGYGFSGDRDTSFRNTSFNTTGDRDTFNRGSYSGGYATSGNQGGFSTTSGMGHPGNYSSSYTSPSGTYGQSSNYSYNRNY\r\n"
     ]
    }
   ],
   "source": [
    "!head -n 4 ../data/week4/to_psort"
   ]
  },
  {
   "cell_type": "markdown",
   "metadata": {},
   "source": [
    "The response from WOLFPSOT"
   ]
  },
  {
   "cell_type": "code",
   "execution_count": 25,
   "metadata": {},
   "outputs": [],
   "source": [
    "wolf_response = \"\"\"g10513.t1 details nucl: 20, cyto_nucl: 14.5, cyto: 7, extr: 3, E.R.: 1, golg: 1\n",
    "g10514.t1 details nucl: 19, cyto_nucl: 15, cyto: 9, extr: 3, mito: 1\n",
    "g11320.t1 details plas: 24.5, extr_plas: 16, extr: 6.5, lyso: 1\n",
    "g11513.t1 details cyto: 17, cyto_nucl: 12.8333, cyto_mito: 9.83333, nucl: 7.5, E.R.: 3, mito: 1.5, plas: 1, pero: 1, golg: 1\n",
    "g11806.t1 details nucl: 18, cyto_nucl: 11.8333, mito: 5, extr: 4, cyto: 3.5, cyto_pero: 2.66667, cysk_plas: 1\n",
    "g11960.t1 details nucl: 32\n",
    "g12388.t1 details extr: 25, plas: 4, mito: 2, lyso: 1\n",
    "g12510.t1 details plas: 29, cyto: 3\n",
    "g12562.t1 details extr: 30, lyso: 2\n",
    "g1285.t1 details extr: 25, plas: 5, mito: 1, lyso: 1\n",
    "g13530.t1 details extr: 13, nucl: 6.5, lyso: 5, cyto_nucl: 4.5, plas: 3, E.R.: 3, cyto: 1.5\n",
    "g14472.t1 details nucl: 28, plas: 2, cyto: 1, cysk: 1\n",
    "g15153.t1 details extr: 32\n",
    "g15484.t1 details nucl: 17.5, cyto_nucl: 15.3333, cyto: 12, cyto_mito: 6.83333, plas: 1, golg: 1\n",
    "g16318.t1 details nucl: 20.5, cyto_nucl: 13, extr: 5, cyto: 4.5, E.R.: 1, golg: 1\n",
    "g16368.t1 details nucl: 20.5, cyto_nucl: 13, extr: 5, cyto: 4.5, E.R.: 1, golg: 1\n",
    "g2203.t1 details plas: 29, nucl: 2, golg: 1\n",
    "g3428.t1 details mito: 18, cyto: 11, extr: 2, nucl: 1\n",
    "g3679.t1 details extr: 26, mito: 2, lyso: 2, plas: 1, E.R.: 1\n",
    "g4106.t1 details E.R.: 14.5, E.R._golg: 9.5, extr: 7, golg: 3.5, lyso: 3, pero: 2, plas: 1, mito: 1\n",
    "g4970.t1 details plas: 32\n",
    "g5237.t1 details plas: 24, mito: 8\n",
    "g5443.t1 details extr: 28, nucl: 3, cyto: 1\n",
    "g5467.t1 details extr: 27, plas: 4, mito: 1\n",
    "g5502.t1 details extr: 31, lyso: 1\n",
    "g5503.t1 details extr: 29, plas: 1, mito: 1, lyso: 1\n",
    "g5510.t1 details plas: 23, mito: 7, E.R.: 1, golg: 1\n",
    "g5616.t1 details extr: 31, mito: 1\n",
    "g5641.t1 details extr: 31, lyso: 1\n",
    "g5927.t1 details nucl: 30.5, cyto_nucl: 16.5, cyto: 1.5\n",
    "g702.t1 details extr: 29, plas: 2, lyso: 1\n",
    "g7861.t1 details nucl: 16, cyto_nucl: 14, cyto: 8, plas: 5, pero: 1, cysk: 1, golg: 1\n",
    "g8100.t1 details nucl: 16.5, cyto_nucl: 12.5, cyto: 7.5, plas: 5, extr: 2, E.R.: 1\n",
    "g8312.t1 details nucl: 15.5, cyto_nucl: 15.5, cyto: 12.5, mito: 2, plas: 1, golg: 1\"\"\""
   ]
  },
  {
   "cell_type": "code",
   "execution_count": 26,
   "metadata": {},
   "outputs": [],
   "source": [
    "import re"
   ]
  },
  {
   "cell_type": "code",
   "execution_count": 27,
   "metadata": {},
   "outputs": [],
   "source": [
    "cur_span = 0\n",
    "strings = []\n",
    "\n",
    "for match in re.finditer(r\"g\\d+\\.t\\d+\", wolf_response):\n",
    "    next_span = match.span()[0]\n",
    "    strings.append(wolf_response[cur_span:next_span].strip())\n",
    "    cur_span = next_span\n",
    "    \n",
    "strings = strings[1:]"
   ]
  },
  {
   "cell_type": "code",
   "execution_count": 29,
   "metadata": {},
   "outputs": [],
   "source": [
    "predictions = dict()\n",
    "\n",
    "for s in strings:\n",
    "    ss = s.split(\" \")\n",
    "    predictions[ss[0]] = ss[2][:-1]"
   ]
  },
  {
   "cell_type": "code",
   "execution_count": 30,
   "metadata": {
    "scrolled": true
   },
   "outputs": [
    {
     "data": {
      "text/plain": [
       "{'g10513.t1': 'nucl',\n",
       " 'g10514.t1': 'nucl',\n",
       " 'g11320.t1': 'plas',\n",
       " 'g11513.t1': 'cyto',\n",
       " 'g11806.t1': 'nucl',\n",
       " 'g11960.t1': 'nucl',\n",
       " 'g12388.t1': 'extr',\n",
       " 'g12510.t1': 'plas',\n",
       " 'g12562.t1': 'extr',\n",
       " 'g1285.t1': 'extr',\n",
       " 'g13530.t1': 'extr',\n",
       " 'g14472.t1': 'nucl',\n",
       " 'g15153.t1': 'extr',\n",
       " 'g15484.t1': 'nucl',\n",
       " 'g16318.t1': 'nucl',\n",
       " 'g16368.t1': 'nucl',\n",
       " 'g2203.t1': 'plas',\n",
       " 'g3428.t1': 'mito',\n",
       " 'g3679.t1': 'extr',\n",
       " 'g4106.t1': 'E.R.',\n",
       " 'g4970.t1': 'plas',\n",
       " 'g5237.t1': 'plas',\n",
       " 'g5443.t1': 'extr',\n",
       " 'g5467.t1': 'extr',\n",
       " 'g5502.t1': 'extr',\n",
       " 'g5503.t1': 'extr',\n",
       " 'g5510.t1': 'plas',\n",
       " 'g5616.t1': 'extr',\n",
       " 'g5641.t1': 'extr',\n",
       " 'g5927.t1': 'nucl',\n",
       " 'g702.t1': 'extr',\n",
       " 'g7861.t1': 'nucl',\n",
       " 'g8100.t1': 'nucl'}"
      ]
     },
     "execution_count": 30,
     "metadata": {},
     "output_type": "execute_result"
    }
   ],
   "source": [
    "predictions"
   ]
  },
  {
   "cell_type": "code",
   "execution_count": 31,
   "metadata": {},
   "outputs": [],
   "source": [
    "targetp_output = \"\"\"g10513.t1             344          0.199  0.026  0.870   _    2\n",
    "g10514.t1             286          0.088  0.044  0.933   _    1\n",
    "g11320.t1             466          0.014  0.962  0.068   S    1\n",
    "g11513.t1            1099          0.079  0.095  0.900   _    1\n",
    "g11806.t1             201          0.509  0.074  0.448   M    5\n",
    "g11960.t1             981          0.488  0.043  0.512   _    5\n",
    "g12388.t1             165          0.547  0.721  0.015   S    5\n",
    "g12510.t1             513          0.124  0.243  0.753   _    3\n",
    "g12562.t1             200          0.037  0.873  0.184   S    2\n",
    "g1285.t1              193          0.290  0.846  0.028   S    3\n",
    "g13530.t1             931          0.038  0.918  0.147   S    2\n",
    "g14472.t1             445          0.113  0.049  0.910   _    2\n",
    "g15153.t1             177          0.051  0.845  0.157   S    2\n",
    "g15484.t1             903          0.095  0.037  0.934   _    1\n",
    "g16318.t1             264          0.085  0.052  0.933   _    1\n",
    "g16368.t1             244          0.081  0.054  0.935   _    1\n",
    "g2203.t1              845          0.107  0.176  0.810   _    2\n",
    "g3428.t1              171          0.352  0.047  0.706   _    4\n",
    "g3679.t1              285          0.136  0.862  0.023   S    2\n",
    "g4106.t1              642          0.018  0.982  0.039   S    1\n",
    "g4970.t1              901          0.063  0.063  0.939   _    1\n",
    "g5237.t1              228          0.696  0.067  0.309   M    4\n",
    "g5443.t1              120          0.039  0.872  0.122   S    2\n",
    "g5467.t1              145          0.394  0.898  0.012   S    3\n",
    "g5502.t1              244          0.266  0.879  0.021   S    2\n",
    "g5503.t1              215          0.267  0.879  0.021   S    2\n",
    "g5510.t1              208          0.273  0.137  0.604   _    4\n",
    "g5616.t1              202          0.032  0.895  0.170   S    2\n",
    "g5641.t1              192          0.056  0.861  0.122   S    2\n",
    "g5927.t1              874          0.153  0.042  0.901   _    2\n",
    "g702.t1               215          0.054  0.876  0.141   S    2\n",
    "g7861.t1              619          0.291  0.005  0.900   _    2\n",
    "g8100.t1             1313          0.130  0.081  0.856   _    2\n",
    "g8312.t1              886          0.051  0.075  0.940   _    1\"\"\""
   ]
  },
  {
   "cell_type": "code",
   "execution_count": 32,
   "metadata": {},
   "outputs": [],
   "source": [
    "targetp_lines = [l.split() for l in targetp_output.split(\"\\n\")][2:]"
   ]
  },
  {
   "cell_type": "code",
   "execution_count": 33,
   "metadata": {},
   "outputs": [],
   "source": [
    "targetp_predicted = [l for l in targetp_lines if l[5] == \"_\"]"
   ]
  },
  {
   "cell_type": "code",
   "execution_count": 34,
   "metadata": {},
   "outputs": [],
   "source": [
    "wolf_set = set([k for k, v in predictions.items() if v ==\"nucl\"])\n",
    "targetp_set = set([l[0] for l in targetp_predicted])"
   ]
  },
  {
   "cell_type": "code",
   "execution_count": 119,
   "metadata": {},
   "outputs": [],
   "source": [
    "with open(\"../data/week4/to_blast\", \"w\") as f:\n",
    "    for g in wolf_set.union(targetp_set):\n",
    "        f.write(\">\" + g + \"\\n\")\n",
    "        f.write(proteins[g] + \"\\n\")"
   ]
  },
  {
   "cell_type": "code",
   "execution_count": 37,
   "metadata": {},
   "outputs": [
    {
     "name": "stdout",
     "output_type": "stream",
     "text": [
      "Connected to NCBI\n",
      "Downloading swissprot.tar.gz... [OK]\n"
     ]
    }
   ],
   "source": [
    "!$UPDATE_BLASTDB swissprot"
   ]
  },
  {
   "cell_type": "code",
   "execution_count": 38,
   "metadata": {},
   "outputs": [],
   "source": [
    "!mkdir -p ../data/week4/swissprot\n",
    "!mv ./swissprot* ../data/week4/swissprot\n",
    "!tar -xf ../data/week4/swissprot/swissprot.tar.gz\n",
    "# !MAKEBLASTDB -in ../data/week4/swissprot/ -dbtype prot -out ../data/week4/proteindb   "
   ]
  },
  {
   "cell_type": "code",
   "execution_count": 120,
   "metadata": {},
   "outputs": [],
   "source": [
    "!$BLASTP -query ../data/week4/to_blast -db ../data/week4/swissprot/swissprot > ../data/week4/swissprot_blast_result"
   ]
  },
  {
   "cell_type": "code",
   "execution_count": 121,
   "metadata": {},
   "outputs": [],
   "source": [
    "!awk '/Query=/{n++}{print >\"../data/week4/sp_blast_query\" n \"\" }' ../data/week4/swissprot_blast_result"
   ]
  },
  {
   "cell_type": "code",
   "execution_count": 144,
   "metadata": {},
   "outputs": [],
   "source": [
    "infos = []\n",
    "\n",
    "for i in range(1, 19):\n",
    "    take = False\n",
    "    info = dict()\n",
    "    \n",
    "    with open(\"../data/week4/sp_blast_query{}\".format(i), \"r\") as f:\n",
    "        for line in f.readlines():\n",
    "            line = line.strip()\n",
    "            \n",
    "            if \"No hits found\" in line:\n",
    "                infos.append(info)\n",
    "            \n",
    "            if line.startswith(\"Query= \"):\n",
    "                info[\"Query\"] = line[7:]\n",
    "            \n",
    "            if line.startswith(\"Length\"):\n",
    "                info[\"Length\"] = int(line[7:])\n",
    "\n",
    "            if line.startswith(\">\"):\n",
    "                take = True\n",
    "                info[\"Name\"] = re.sub(r\"(.*?)RecName: Full=([\\s\\w]*)(.*)\", r\"\\2\", line)\n",
    "                info[\"Accession\"] = re.sub(r\">([^\\s]+)(.*)\", r\"\\1\", line)\n",
    "            if not take:\n",
    "                continue\n",
    "\n",
    "            if line.startswith(\"Score\"):\n",
    "                info[\"E-value\"] = float(re.sub(r\"(.*?)Expect = ([^,]*),(.*)\", r\"\\2\", line))\n",
    "\n",
    "            if line.startswith(\"Identities\"):\n",
    "                info[\"Ident\"] = re.sub(r\"Identities = (.*?), (.*)\", r\"\\1\", line)\n",
    "                info[\"Ident\"], info[\"IdentPart\"] = info[\"Ident\"].split(\" \")\n",
    "                info[\"IdentPart\"] = int(info[\"IdentPart\"][1:-2]) / 100\n",
    "                info[\"QueryCoverage\"] = int(info[\"Ident\"].split(\"/\")[1]) / info[\"Length\"]\n",
    "\n",
    "                infos.append(info)\n",
    "                break"
   ]
  },
  {
   "cell_type": "code",
   "execution_count": 147,
   "metadata": {},
   "outputs": [
    {
     "name": "stdout",
     "output_type": "stream",
     "text": [
      "{'Query': 'g11806.t1', 'Length': 201}\n",
      "{'Query': 'g11960.t1', 'Length': 1002, 'Name': 'E3 ubiquitin', 'Accession': 'Q8CJB9.1', 'E-value': 6e-98, 'Ident': '286/1061', 'IdentPart': 0.27, 'QueryCoverage': 1.058882235528942}\n",
      "{'Query': 'g12510.t1', 'Length': 103, 'Name': 'Transcriptional regulator WhiB7', 'Accession': 'A0QTT1.1', 'E-value': 0.84, 'Ident': '17/51', 'IdentPart': 0.33, 'QueryCoverage': 0.49514563106796117}\n",
      "{'Query': 'g11513.t1', 'Length': 1138, 'Name': 'Trafficking protein particle complex subunit 9', 'Accession': 'Q32PH0.1', 'E-value': 6e-83, 'Ident': '232/811', 'IdentPart': 0.29, 'QueryCoverage': 0.7126537785588752}\n",
      "{'Query': 'g10514.t1', 'Length': 1140, 'Name': 'Eukaryotic translation initiation factor 3 subunit', 'Accession': 'B3LY22.1', 'E-value': 1.4, 'Ident': '28/92', 'IdentPart': 0.3, 'QueryCoverage': 0.08070175438596491}\n",
      "{'Query': 'g5510.t1', 'Length': 318, 'Name': 'Myeloid', 'Accession': 'Q6VBQ5.1', 'E-value': 0.41, 'Ident': '45/186', 'IdentPart': 0.24, 'QueryCoverage': 0.5849056603773585}\n",
      "{'Query': 'g16368.t1', 'Length': 1391, 'Name': 'Eukaryotic translation initiation factor 3 subunit', 'Accession': 'A4II09.1', 'E-value': 1e-05, 'Ident': '33/84', 'IdentPart': 0.39, 'QueryCoverage': 0.0603882099209202}\n",
      "{'Query': 'g4970.t1', 'Length': 1042, 'Name': 'Atrial natriuretic peptide', 'Accession': 'Q9Y5Q5.2', 'E-value': 2e-19, 'Ident': '125/520', 'IdentPart': 0.24, 'QueryCoverage': 0.4990403071017274}\n",
      "{'Query': 'g10513.t1', 'Length': 344}\n",
      "{'Query': 'g16318.t1', 'Length': 1424, 'Name': 'Eukaryotic translation initiation factor 3 subunit', 'Accession': 'A2VD00.1', 'E-value': 4e-08, 'Ident': '39/108', 'IdentPart': 0.36, 'QueryCoverage': 0.07584269662921349}\n"
     ]
    }
   ],
   "source": [
    "for info in infos:\n",
    "    if \"Ident\" not in info or \\\n",
    "            info[\"QueryCoverage\"] < .5 or \\\n",
    "            info[\"E-value\"] > .1 or \\\n",
    "            info[\"IdentPart\"] < .33:\n",
    "        print(info)"
   ]
  },
  {
   "cell_type": "code",
   "execution_count": null,
   "metadata": {},
   "outputs": [],
   "source": []
  },
  {
   "cell_type": "code",
   "execution_count": 140,
   "metadata": {
    "scrolled": false
   },
   "outputs": [
    {
     "data": {
      "text/plain": [
       "[{'Query': 'g11806.t1', 'Length': 201},\n",
       " {'Query': 'g5927.t1',\n",
       "  'Length': 165,\n",
       "  'Name': 'Glucosamine 6',\n",
       "  'Accession': 'Q17427.1',\n",
       "  'E-value': '1e-18',\n",
       "  'Ident': '51/132',\n",
       "  'IdentPart': 0.39,\n",
       "  'QueryCoverage': 0.8},\n",
       " {'Query': 'g15484.t1',\n",
       "  'Length': 827,\n",
       "  'Name': 'Vacuolar protein sorting',\n",
       "  'Accession': 'Q155U0.1',\n",
       "  'E-value': '0.0',\n",
       "  'Ident': '344/764',\n",
       "  'IdentPart': 0.45,\n",
       "  'QueryCoverage': 0.9238210399032648},\n",
       " {'Query': 'g11960.t1',\n",
       "  'Length': 1002,\n",
       "  'Name': 'E3 ubiquitin',\n",
       "  'Accession': 'Q8CJB9.1',\n",
       "  'E-value': '6e-98',\n",
       "  'Ident': '286/1061',\n",
       "  'IdentPart': 0.27,\n",
       "  'QueryCoverage': 1.058882235528942},\n",
       " {'Query': 'g12510.t1',\n",
       "  'Length': 103,\n",
       "  'Name': 'Transcriptional regulator WhiB7',\n",
       "  'Accession': 'A0QTT1.1',\n",
       "  'E-value': '0.84',\n",
       "  'Ident': '17/51',\n",
       "  'IdentPart': 0.33,\n",
       "  'QueryCoverage': 0.49514563106796117},\n",
       " {'Query': 'g7861.t1',\n",
       "  'Length': 910,\n",
       "  'Name': 'SWI',\n",
       "  'Accession': 'B4F769.1',\n",
       "  'E-value': '2e-71',\n",
       "  'Ident': '176/473',\n",
       "  'IdentPart': 0.37,\n",
       "  'QueryCoverage': 0.5197802197802198},\n",
       " {'Query': 'g2203.t1',\n",
       "  'Length': 716,\n",
       "  'Name': 'Myogenesis',\n",
       "  'Accession': 'Q69ZQ1.2',\n",
       "  'E-value': '2e-126',\n",
       "  'Ident': '231/643',\n",
       "  'IdentPart': 0.36,\n",
       "  'QueryCoverage': 0.8980446927374302},\n",
       " {'Query': 'g11513.t1',\n",
       "  'Length': 1138,\n",
       "  'Name': 'Trafficking protein particle complex subunit 9',\n",
       "  'Accession': 'Q32PH0.1',\n",
       "  'E-value': '6e-83',\n",
       "  'Ident': '232/811',\n",
       "  'IdentPart': 0.29,\n",
       "  'QueryCoverage': 0.7126537785588752},\n",
       " {'Query': 'g10514.t1',\n",
       "  'Length': 1140,\n",
       "  'Name': 'Eukaryotic translation initiation factor 3 subunit',\n",
       "  'Accession': 'B3LY22.1',\n",
       "  'E-value': '1.4',\n",
       "  'Ident': '28/92',\n",
       "  'IdentPart': 0.3,\n",
       "  'QueryCoverage': 0.08070175438596491},\n",
       " {'Query': 'g5510.t1',\n",
       "  'Length': 318,\n",
       "  'Name': 'Myeloid',\n",
       "  'Accession': 'Q6VBQ5.1',\n",
       "  'E-value': '0.41',\n",
       "  'Ident': '45/186',\n",
       "  'IdentPart': 0.24,\n",
       "  'QueryCoverage': 0.5849056603773585},\n",
       " {'Query': 'g16368.t1',\n",
       "  'Length': 1391,\n",
       "  'Name': 'Eukaryotic translation initiation factor 3 subunit',\n",
       "  'Accession': 'A4II09.1',\n",
       "  'E-value': '1e-05',\n",
       "  'Ident': '33/84',\n",
       "  'IdentPart': 0.39,\n",
       "  'QueryCoverage': 0.0603882099209202},\n",
       " {'Query': 'g4970.t1',\n",
       "  'Length': 1042,\n",
       "  'Name': 'Atrial natriuretic peptide',\n",
       "  'Accession': 'Q9Y5Q5.2',\n",
       "  'E-value': '2e-19',\n",
       "  'Ident': '125/520',\n",
       "  'IdentPart': 0.24,\n",
       "  'QueryCoverage': 0.4990403071017274},\n",
       " {'Query': 'g8100.t1',\n",
       "  'Length': 341,\n",
       "  'Name': 'Inositol monophosphatase 3',\n",
       "  'Accession': 'Q2YDR3.1',\n",
       "  'E-value': '3e-46',\n",
       "  'Ident': '111/308',\n",
       "  'IdentPart': 0.36,\n",
       "  'QueryCoverage': 0.9032258064516129},\n",
       " {'Query': 'g8312.t1',\n",
       "  'Length': 853,\n",
       "  'Name': 'Vacuolar protein sorting',\n",
       "  'Accession': 'Q5KU39.1',\n",
       "  'E-value': '0.0',\n",
       "  'Ident': '310/759',\n",
       "  'IdentPart': 0.41,\n",
       "  'QueryCoverage': 0.8898007033997656},\n",
       " {'Query': 'g10513.t1', 'Length': 344},\n",
       " {'Query': 'g3428.t1',\n",
       "  'Length': 172,\n",
       "  'Name': 'Myosin regulatory light chain',\n",
       "  'Accession': 'Q09510.1',\n",
       "  'E-value': '8e-65',\n",
       "  'Ident': '90/159',\n",
       "  'IdentPart': 0.57,\n",
       "  'QueryCoverage': 0.9244186046511628},\n",
       " {'Query': 'g14472.t1',\n",
       "  'Length': 445,\n",
       "  'Name': 'Damage suppressor protein',\n",
       "  'Accession': 'P0DOW4.1',\n",
       "  'E-value': '0.0',\n",
       "  'Ident': '445/445',\n",
       "  'IdentPart': 1.0,\n",
       "  'QueryCoverage': 1.0},\n",
       " {'Query': 'g16318.t1',\n",
       "  'Length': 1424,\n",
       "  'Name': 'Eukaryotic translation initiation factor 3 subunit',\n",
       "  'Accession': 'A2VD00.1',\n",
       "  'E-value': '4e-08',\n",
       "  'Ident': '39/108',\n",
       "  'IdentPart': 0.36,\n",
       "  'QueryCoverage': 0.07584269662921349}]"
      ]
     },
     "execution_count": 140,
     "metadata": {},
     "output_type": "execute_result"
    }
   ],
   "source": [
    "infos"
   ]
  },
  {
   "cell_type": "code",
   "execution_count": 126,
   "metadata": {
    "scrolled": false
   },
   "outputs": [
    {
     "data": {
      "text/plain": [
       "['Glucosamine 6',\n",
       " 'Vacuolar protein sorting',\n",
       " 'E3 ubiquitin',\n",
       " 'Transcriptional regulator WhiB7',\n",
       " 'SWI',\n",
       " 'Myogenesis',\n",
       " 'Trafficking protein particle complex subunit 9',\n",
       " 'Eukaryotic translation initiation factor 3 subunit',\n",
       " 'Myeloid',\n",
       " 'Eukaryotic translation initiation factor 3 subunit',\n",
       " 'Atrial natriuretic peptide',\n",
       " 'Inositol monophosphatase 3',\n",
       " 'Vacuolar protein sorting',\n",
       " 'Myosin regulatory light chain',\n",
       " 'Damage suppressor protein',\n",
       " 'Eukaryotic translation initiation factor 3 subunit']"
      ]
     },
     "execution_count": 126,
     "metadata": {},
     "output_type": "execute_result"
    }
   ],
   "source": [
    "[info[\"Name\"] for info in infos]"
   ]
  }
 ],
 "metadata": {
  "anaconda-cloud": {},
  "kernelspec": {
   "display_name": "Python (bioinf)",
   "language": "python",
   "name": "bioinf"
  },
  "language_info": {
   "codemirror_mode": {
    "name": "ipython",
    "version": 3
   },
   "file_extension": ".py",
   "mimetype": "text/x-python",
   "name": "python",
   "nbconvert_exporter": "python",
   "pygments_lexer": "ipython3",
   "version": "3.6.6"
  }
 },
 "nbformat": 4,
 "nbformat_minor": 2
}
