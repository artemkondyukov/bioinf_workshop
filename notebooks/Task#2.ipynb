{
 "cells": [
  {
   "cell_type": "code",
   "execution_count": 1,
   "metadata": {},
   "outputs": [],
   "source": [
    "FASTQC_PATH = \"/home/analytics/distr/FastQC/fastqc\"\n",
    "TRIMMOMATIC_JAR = \"/home/analytics/bin/trimmomatic.jar\"\n",
    "BOWTIE_DIR = \"/home/analytics/distr/bowtie2-2.3.4.3-linux-x86_64/\"\n",
    "SAMTOOLS_DIR = \"/home/analytics/distr/samtools-1.9/build/bin\"\n",
    "VARSCAN_DIR = \"/home/analytics/distr/varscan/\""
   ]
  },
  {
   "cell_type": "code",
   "execution_count": 2,
   "metadata": {},
   "outputs": [],
   "source": [
    "!wget -P ../data/week2/ ftp://ftp.sra.ebi.ac.uk/vol1/fastq/SRR170/001/SRR1705851/SRR1705851.fastq.gz 2> /dev/null\n",
    "!gunzip ../data/week2/SRR1705851.fastq.gz"
   ]
  },
  {
   "cell_type": "code",
   "execution_count": 3,
   "metadata": {},
   "outputs": [],
   "source": [
    "!wget -P ../data/week2/ http://public.dobzhanskycenter.ru/mrayko/Week2/KF848938.1.fasta 2> /dev/null"
   ]
  },
  {
   "cell_type": "code",
   "execution_count": 4,
   "metadata": {},
   "outputs": [
    {
     "name": "stdout",
     "output_type": "stream",
     "text": [
      "Analysis complete for SRR1705851.fastq\r\n"
     ]
    }
   ],
   "source": [
    "!$FASTQC_PATH ../data/week2/SRR1705851.fastq 2> /dev/null"
   ]
  },
  {
   "cell_type": "code",
   "execution_count": 5,
   "metadata": {},
   "outputs": [],
   "source": [
    "from IPython.display import IFrame"
   ]
  },
  {
   "cell_type": "code",
   "execution_count": 6,
   "metadata": {},
   "outputs": [],
   "source": [
    "from boto.s3 import connect_to_region\n",
    "from boto import connect_s3\n",
    "from boto.s3.key import Key"
   ]
  },
  {
   "cell_type": "code",
   "execution_count": 7,
   "metadata": {},
   "outputs": [],
   "source": [
    "AWS_S3_ROOT = \"http://bioinf-workshop.s3-website.eu-central-1.amazonaws.com/\"\n",
    "\n",
    "def perform_file_upload(file_, file_name):\n",
    "\n",
    "    conn = connect_to_region(\"eu-central-1\", \n",
    "                             aws_access_key_id=open(\"../.access_key\", \"r\").read().strip(),\n",
    "                             aws_secret_access_key=open(\"../.secret_key\", \"r\").read().strip())\n",
    "\n",
    "    bucket = conn.get_bucket(\"bioinf-workshop\")\n",
    "    key = Key(bucket)\n",
    "    key.key = file_name\n",
    "    key.set_contents_from_string(file_, headers={\"Content-Type\": \"text/html\"})\n",
    "    key.set_acl('public-read')\n",
    "    return AWS_S3_ROOT + file_name # public url to access the uploaded file"
   ]
  },
  {
   "cell_type": "code",
   "execution_count": 8,
   "metadata": {},
   "outputs": [
    {
     "data": {
      "text/html": [
       "\n",
       "        <iframe\n",
       "            width=\"1000\"\n",
       "            height=\"600\"\n",
       "            src=\"http://bioinf-workshop.s3-website.eu-central-1.amazonaws.com/week_2/fastqc_1.html\"\n",
       "            frameborder=\"0\"\n",
       "            allowfullscreen\n",
       "        ></iframe>\n",
       "        "
      ],
      "text/plain": [
       "<IPython.lib.display.IFrame at 0x7fac5c07e2b0>"
      ]
     },
     "execution_count": 8,
     "metadata": {},
     "output_type": "execute_result"
    }
   ],
   "source": [
    "f = perform_file_upload(open(\"../data/week2/SRR1705851_fastqc.html\", \"r\").read(), \"week_2/fastqc_1.html\")\n",
    "IFrame(src=f, width=1000, height=600)"
   ]
  },
  {
   "cell_type": "code",
   "execution_count": 9,
   "metadata": {},
   "outputs": [
    {
     "name": "stdout",
     "output_type": "stream",
     "text": [
      "KF848938.1.fasta  SRR1705851_fastqc.html\r\n",
      "SRR1705851.fastq  SRR1705851_fastqc.zip\r\n"
     ]
    }
   ],
   "source": [
    "!ls ../data/week2/"
   ]
  },
  {
   "cell_type": "code",
   "execution_count": 10,
   "metadata": {},
   "outputs": [
    {
     "name": "stdout",
     "output_type": "stream",
     "text": [
      "TrimmomaticSE: Started with arguments: -phred33 -trimlog ../data/week2/trim.log ../data/week2/SRR1705851.fastq ../data/week2/trimmed.fastq HEADCROP:17 CROP:128 SLIDINGWINDOW:4:25 MINLEN:30\n",
      "Automatically using 16 threads\n",
      "Input Reads: 358265 Surviving: 340185 (94.95%) Dropped: 18080 (5.05%)\n",
      "TrimmomaticSE: Completed successfully\n"
     ]
    }
   ],
   "source": [
    "!java -jar $TRIMMOMATIC_JAR SE \\\n",
    "    -phred33 \\\n",
    "    -trimlog ../data/week2/trim.log \\\n",
    "    ../data/week2/SRR1705851.fastq \\\n",
    "    ../data/week2/trimmed.fastq \\\n",
    "    HEADCROP:17 \\\n",
    "    CROP:128 \\\n",
    "    SLIDINGWINDOW:4:25 \\\n",
    "    MINLEN:30"
   ]
  },
  {
   "cell_type": "code",
   "execution_count": 11,
   "metadata": {},
   "outputs": [
    {
     "name": "stdout",
     "output_type": "stream",
     "text": [
      "Analysis complete for trimmed.fastq\r\n"
     ]
    }
   ],
   "source": [
    "!$FASTQC_PATH ../data/week2/trimmed.fastq 2> /dev/null"
   ]
  },
  {
   "cell_type": "code",
   "execution_count": 12,
   "metadata": {},
   "outputs": [
    {
     "data": {
      "text/html": [
       "\n",
       "        <iframe\n",
       "            width=\"1000\"\n",
       "            height=\"600\"\n",
       "            src=\"http://bioinf-workshop.s3-website.eu-central-1.amazonaws.com/week_2/fastqc_2.html\"\n",
       "            frameborder=\"0\"\n",
       "            allowfullscreen\n",
       "        ></iframe>\n",
       "        "
      ],
      "text/plain": [
       "<IPython.lib.display.IFrame at 0x7fac54dc2278>"
      ]
     },
     "execution_count": 12,
     "metadata": {},
     "output_type": "execute_result"
    }
   ],
   "source": [
    "f = perform_file_upload(open(\"../data/week2/trimmed_fastqc.html\", \"r\").read(), \"week_2/fastqc_2.html\")\n",
    "IFrame(src=f, width=1000, height=600)"
   ]
  },
  {
   "cell_type": "code",
   "execution_count": 13,
   "metadata": {},
   "outputs": [],
   "source": [
    "from html.parser import HTMLParser\n",
    "\n",
    "class MyHTMLParser(HTMLParser):\n",
    "    def __init__(self):\n",
    "        super().__init__()\n",
    "        self.p = False\n",
    "        self.sequences = []\n",
    "    \n",
    "    def handle_starttag(self, tag, attrs):\n",
    "        self.last_tag = tag\n",
    "        self.last_attrs = attrs\n",
    "\n",
    "    def handle_data(self, data):\n",
    "        if \"Sequence\" in data and self.last_tag == \"th\" or self.p:\n",
    "            self.p = True\n",
    "            if set(list(data)).union({\"A\", \"C\", \"G\", \"T\"}) == {\"A\", \"C\", \"G\", \"T\"}:\n",
    "                self.sequences.append(data)\n",
    "\n",
    "parser = MyHTMLParser()\n",
    "parser.feed(open(\"../data/week2/SRR1705851_fastqc.html\", \"r\").read())"
   ]
  },
  {
   "cell_type": "code",
   "execution_count": 14,
   "metadata": {},
   "outputs": [],
   "source": [
    "with open(\"../data/week2/overrep_seqs.fa\", \"w\") as f:\n",
    "    for line_i, line in enumerate(parser.sequences):\n",
    "        f.write(\"> sequence#{}\\n\".format(line_i + 1))\n",
    "        f.write(line + \"\\n\")"
   ]
  },
  {
   "cell_type": "code",
   "execution_count": 15,
   "metadata": {},
   "outputs": [
    {
     "name": "stdout",
     "output_type": "stream",
     "text": [
      "Settings:\n",
      "  Output files: \"../data/KF848938.1.idx.*.bt2\"\n",
      "  Line rate: 6 (line is 64 bytes)\n",
      "  Lines per side: 1 (side is 64 bytes)\n",
      "  Offset rate: 4 (one in 16)\n",
      "  FTable chars: 10\n",
      "  Strings: unpacked\n",
      "  Max bucket size: default\n",
      "  Max bucket size, sqrt multiplier: default\n",
      "  Max bucket size, len divisor: 4\n",
      "  Difference-cover sample period: 1024\n",
      "  Endianness: little\n",
      "  Actual local endianness: little\n",
      "  Sanity checking: disabled\n",
      "  Assertions: disabled\n",
      "  Random seed: 0\n",
      "  Sizeofs: void*:8, int:4, long:8, size_t:8\n",
      "Input files DNA, FASTA:\n",
      "  ../data/week2/KF848938.1.fasta\n",
      "Building a SMALL index\n",
      "Reading reference sizes\n",
      "  Time reading reference sizes: 00:00:00\n",
      "Calculating joined length\n",
      "Writing header\n",
      "Reserving space for joined string\n",
      "Joining reference sequences\n",
      "  Time to join reference sequences: 00:00:00\n",
      "bmax according to bmaxDivN setting: 416\n",
      "Using parameters --bmax 312 --dcv 1024\n",
      "  Doing ahead-of-time memory usage test\n",
      "  Passed!  Constructing with these parameters: --bmax 312 --dcv 1024\n",
      "Constructing suffix-array element generator\n",
      "Building DifferenceCoverSample\n",
      "  Building sPrime\n",
      "  Building sPrimeOrder\n",
      "  V-Sorting samples\n",
      "  V-Sorting samples time: 00:00:00\n",
      "  Allocating rank array\n",
      "  Ranking v-sort output\n",
      "  Ranking v-sort output time: 00:00:00\n",
      "  Invoking Larsson-Sadakane on ranks\n",
      "  Invoking Larsson-Sadakane on ranks time: 00:00:00\n",
      "  Sanity-checking and returning\n",
      "Building samples\n",
      "Reserving space for 12 sample suffixes\n",
      "Generating random suffixes\n",
      "QSorting 12 sample offsets, eliminating duplicates\n",
      "QSorting sample offsets, eliminating duplicates time: 00:00:00\n",
      "Multikey QSorting 12 samples\n",
      "  (Using difference cover)\n",
      "  Multikey QSorting samples time: 00:00:00\n",
      "Calculating bucket sizes\n",
      "Splitting and merging\n",
      "  Splitting and merging time: 00:00:00\n",
      "Avg bucket size: 1665 (target: 311)\n",
      "Converting suffix-array elements to index image\n",
      "Allocating ftab, absorbFtab\n",
      "Entering Ebwt loop\n",
      "Getting block 1 of 1\n",
      "  No samples; assembling all-inclusive block\n",
      "  Sorting block of length 1665 for bucket 1\n",
      "  (Using difference cover)\n",
      "  Sorting block time: 00:00:00\n",
      "Returning block of 1666 for bucket 1\n",
      "Exited Ebwt loop\n",
      "fchr[A]: 0\n",
      "fchr[C]: 572\n",
      "fchr[G]: 900\n",
      "fchr[T]: 1271\n",
      "fchr[$]: 1665\n",
      "Exiting Ebwt::buildToDisk()\n",
      "Returning from initFromVector\n",
      "Wrote 4195144 bytes to primary EBWT file: ../data/KF848938.1.idx.1.bt2\n",
      "Wrote 424 bytes to secondary EBWT file: ../data/KF848938.1.idx.2.bt2\n",
      "Re-opening _in1 and _in2 as input streams\n",
      "Returning from Ebwt constructor\n",
      "Headers:\n",
      "    len: 1665\n",
      "    bwtLen: 1666\n",
      "    sz: 417\n",
      "    bwtSz: 417\n",
      "    lineRate: 6\n",
      "    offRate: 4\n",
      "    offMask: 0xfffffff0\n",
      "    ftabChars: 10\n",
      "    eftabLen: 20\n",
      "    eftabSz: 80\n",
      "    ftabLen: 1048577\n",
      "    ftabSz: 4194308\n",
      "    offsLen: 105\n",
      "    offsSz: 420\n",
      "    lineSz: 64\n",
      "    sideSz: 64\n",
      "    sideBwtSz: 48\n",
      "    sideBwtLen: 192\n",
      "    numSides: 9\n",
      "    numLines: 9\n",
      "    ebwtTotLen: 576\n",
      "    ebwtTotSz: 576\n",
      "    color: 0\n",
      "    reverse: 0\n",
      "Total time for call to driver() for forward index: 00:00:00\n",
      "Reading reference sizes\n",
      "  Time reading reference sizes: 00:00:00\n",
      "Calculating joined length\n",
      "Writing header\n",
      "Reserving space for joined string\n",
      "Joining reference sequences\n",
      "  Time to join reference sequences: 00:00:00\n",
      "  Time to reverse reference sequence: 00:00:00\n",
      "bmax according to bmaxDivN setting: 416\n",
      "Using parameters --bmax 312 --dcv 1024\n",
      "  Doing ahead-of-time memory usage test\n",
      "  Passed!  Constructing with these parameters: --bmax 312 --dcv 1024\n",
      "Constructing suffix-array element generator\n",
      "Building DifferenceCoverSample\n",
      "  Building sPrime\n",
      "  Building sPrimeOrder\n",
      "  V-Sorting samples\n",
      "  V-Sorting samples time: 00:00:00\n",
      "  Allocating rank array\n",
      "  Ranking v-sort output\n",
      "  Ranking v-sort output time: 00:00:00\n",
      "  Invoking Larsson-Sadakane on ranks\n",
      "  Invoking Larsson-Sadakane on ranks time: 00:00:00\n",
      "  Sanity-checking and returning\n",
      "Building samples\n",
      "Reserving space for 12 sample suffixes\n",
      "Generating random suffixes\n",
      "QSorting 12 sample offsets, eliminating duplicates\n",
      "QSorting sample offsets, eliminating duplicates time: 00:00:00\n",
      "Multikey QSorting 12 samples\n",
      "  (Using difference cover)\n",
      "  Multikey QSorting samples time: 00:00:00\n",
      "Calculating bucket sizes\n",
      "Splitting and merging\n",
      "  Splitting and merging time: 00:00:00\n",
      "Avg bucket size: 1665 (target: 311)\n",
      "Converting suffix-array elements to index image\n",
      "Allocating ftab, absorbFtab\n",
      "Entering Ebwt loop\n",
      "Getting block 1 of 1\n",
      "  No samples; assembling all-inclusive block\n",
      "  Sorting block of length 1665 for bucket 1\n",
      "  (Using difference cover)\n",
      "  Sorting block time: 00:00:00\n",
      "Returning block of 1666 for bucket 1\n",
      "Exited Ebwt loop\n",
      "fchr[A]: 0\n",
      "fchr[C]: 572\n",
      "fchr[G]: 900\n",
      "fchr[T]: 1271\n",
      "fchr[$]: 1665\n",
      "Exiting Ebwt::buildToDisk()\n",
      "Returning from initFromVector\n",
      "Wrote 4195144 bytes to primary EBWT file: ../data/KF848938.1.idx.rev.1.bt2\n",
      "Wrote 424 bytes to secondary EBWT file: ../data/KF848938.1.idx.rev.2.bt2\n",
      "Re-opening _in1 and _in2 as input streams\n",
      "Returning from Ebwt constructor\n",
      "Headers:\n",
      "    len: 1665\n",
      "    bwtLen: 1666\n",
      "    sz: 417\n",
      "    bwtSz: 417\n",
      "    lineRate: 6\n",
      "    offRate: 4\n",
      "    offMask: 0xfffffff0\n",
      "    ftabChars: 10\n",
      "    eftabLen: 20\n",
      "    eftabSz: 80\n",
      "    ftabLen: 1048577\n",
      "    ftabSz: 4194308\n",
      "    offsLen: 105\n",
      "    offsSz: 420\n",
      "    lineSz: 64\n",
      "    sideSz: 64\n",
      "    sideBwtSz: 48\n",
      "    sideBwtLen: 192\n",
      "    numSides: 9\n",
      "    numLines: 9\n",
      "    ebwtTotLen: 576\n",
      "    ebwtTotSz: 576\n",
      "    color: 0\n",
      "    reverse: 1\n",
      "Total time for backward call to driver() for mirror index: 00:00:00\n"
     ]
    }
   ],
   "source": [
    "!$BOWTIE_DIR/bowtie2-build ../data/week2/KF848938.1.fasta ../data/KF848938.1.idx"
   ]
  },
  {
   "cell_type": "code",
   "execution_count": 16,
   "metadata": {},
   "outputs": [
    {
     "name": "stdout",
     "output_type": "stream",
     "text": [
      "340185 reads; of these:\r\n",
      "  340185 (100.00%) were unpaired; of these:\r\n",
      "    12190 (3.58%) aligned 0 times\r\n",
      "    327995 (96.42%) aligned exactly 1 time\r\n",
      "    0 (0.00%) aligned >1 times\r\n",
      "96.42% overall alignment rate\r\n"
     ]
    }
   ],
   "source": [
    "!$BOWTIE_DIR/bowtie2 -x ../data/KF848938.1.idx \\\n",
    "    -U ../data/week2/trimmed.fastq \\\n",
    "    -p 20 > ../data/week2/alignment.sam"
   ]
  },
  {
   "cell_type": "code",
   "execution_count": 18,
   "metadata": {},
   "outputs": [
    {
     "name": "stdout",
     "output_type": "stream",
     "text": [
      "340185 + 0 in total (QC-passed reads + QC-failed reads)\r\n",
      "0 + 0 secondary\r\n",
      "0 + 0 supplementary\r\n",
      "0 + 0 duplicates\r\n",
      "327995 + 0 mapped (96.42% : N/A)\r\n",
      "0 + 0 paired in sequencing\r\n",
      "0 + 0 read1\r\n",
      "0 + 0 read2\r\n",
      "0 + 0 properly paired (N/A : N/A)\r\n",
      "0 + 0 with itself and mate mapped\r\n",
      "0 + 0 singletons (N/A : N/A)\r\n",
      "0 + 0 with mate mapped to a different chr\r\n",
      "0 + 0 with mate mapped to a different chr (mapQ>=5)\r\n"
     ]
    }
   ],
   "source": [
    "!$SAMTOOLS_DIR/samtools view -S -b ../data/week2/alignment.sam > ../data/week2/alignment.bam\n",
    "\n",
    "!$SAMTOOLS_DIR/samtools sort \\\n",
    "    ../data/week2/alignment.bam \\\n",
    "    -o ../data/week2/alignment_sorted.bam\n",
    "    \n",
    "!$SAMTOOLS_DIR/samtools index ../data/week2/alignment_sorted.bam\n",
    "\n",
    "!$SAMTOOLS_DIR/samtools flagstat ../data/week2/alignment.bam"
   ]
  },
  {
   "cell_type": "code",
   "execution_count": 19,
   "metadata": {},
   "outputs": [
    {
     "name": "stdout",
     "output_type": "stream",
     "text": [
      "[mpileup] 1 samples in 1 input files\r\n"
     ]
    }
   ],
   "source": [
    "!$SAMTOOLS_DIR/samtools mpileup \\\n",
    "    -f ../data/week2/KF848938.1.fasta \\\n",
    "    -d 100000 \\\n",
    "    ../data/week2/alignment_sorted.bam >  ../data/week2/alignment.mpileup"
   ]
  },
  {
   "cell_type": "code",
   "execution_count": 20,
   "metadata": {},
   "outputs": [
    {
     "name": "stdout",
     "output_type": "stream",
     "text": [
      "Only SNPs will be reported\n",
      "Warning: No p-value threshold provided, so p-values will not be calculated\n",
      "Min coverage:\t8\n",
      "Min reads2:\t2\n",
      "Min var freq:\t0.001\n",
      "Min avg qual:\t15\n",
      "P-value thresh:\t0.01\n",
      "Reading input from ../data/week2/alignment.mpileup\n",
      "1665 bases in pileup file\n",
      "16 variant positions (10 SNP, 6 indel)\n",
      "0 were failed by the strand-filter\n",
      "10 variant positions reported (10 SNP, 0 indel)\n"
     ]
    }
   ],
   "source": [
    "!java -jar $VARSCAN_DIR/VarScan.v2.4.0.jar \\\n",
    "    mpileup2snp ../data/week2/alignment.mpileup --min-var-freq .001 \\\n",
    "    --variants \\\n",
    "    --output-vcf 1 > ../data/week2/VarScan_results.vcf"
   ]
  },
  {
   "cell_type": "code",
   "execution_count": 21,
   "metadata": {},
   "outputs": [
    {
     "name": "stdout",
     "output_type": "stream",
     "text": [
      "##fileformat=VCFv4.1\r\n",
      "##source=VarScan2\r\n",
      "##INFO=<ID=ADP,Number=1,Type=Integer,Description=\"Average per-sample depth of bases with Phred score >= 15\">\r\n",
      "##INFO=<ID=WT,Number=1,Type=Integer,Description=\"Number of samples called reference (wild-type)\">\r\n",
      "##INFO=<ID=HET,Number=1,Type=Integer,Description=\"Number of samples called heterozygous-variant\">\r\n",
      "##INFO=<ID=HOM,Number=1,Type=Integer,Description=\"Number of samples called homozygous-variant\">\r\n",
      "##INFO=<ID=NC,Number=1,Type=Integer,Description=\"Number of samples not called\">\r\n",
      "##FILTER=<ID=str10,Description=\"Less than 10% or more than 90% of variant supporting reads on one strand\">\r\n",
      "##FILTER=<ID=indelError,Description=\"Likely artifact due to indel reads at this position\">\r\n",
      "##FORMAT=<ID=GT,Number=1,Type=String,Description=\"Genotype\">\r\n",
      "##FORMAT=<ID=GQ,Number=1,Type=Integer,Description=\"Genotype Quality\">\r\n",
      "##FORMAT=<ID=SDP,Number=1,Type=Integer,Description=\"Raw Read Depth as reported by SAMtools\">\r\n",
      "##FORMAT=<ID=DP,Number=1,Type=Integer,Description=\"Quality Read Depth of bases with Phred score >= 15\">\r\n",
      "##FORMAT=<ID=RD,Number=1,Type=Integer,Description=\"Depth of reference-supporting bases (reads1)\">\r\n",
      "##FORMAT=<ID=AD,Number=1,Type=Integer,Description=\"Depth of variant-supporting bases (reads2)\">\r\n",
      "##FORMAT=<ID=FREQ,Number=1,Type=String,Description=\"Variant allele frequency\">\r\n",
      "##FORMAT=<ID=PVAL,Number=1,Type=String,Description=\"P-value from Fisher's Exact Test\">\r\n",
      "##FORMAT=<ID=RBQ,Number=1,Type=Integer,Description=\"Average quality of reference-supporting bases (qual1)\">\r\n",
      "##FORMAT=<ID=ABQ,Number=1,Type=Integer,Description=\"Average quality of variant-supporting bases (qual2)\">\r\n",
      "##FORMAT=<ID=RDF,Number=1,Type=Integer,Description=\"Depth of reference-supporting bases on forward strand (reads1plus)\">\r\n",
      "##FORMAT=<ID=RDR,Number=1,Type=Integer,Description=\"Depth of reference-supporting bases on reverse strand (reads1minus)\">\r\n",
      "##FORMAT=<ID=ADF,Number=1,Type=Integer,Description=\"Depth of variant-supporting bases on forward strand (reads2plus)\">\r\n",
      "##FORMAT=<ID=ADR,Number=1,Type=Integer,Description=\"Depth of variant-supporting bases on reverse strand (reads2minus)\">\r\n",
      "#CHROM\tPOS\tID\tREF\tALT\tQUAL\tFILTER\tINFO\tFORMAT\tSample1\r\n",
      "KF848938.1\t72\t.\tA\tG\t.\tPASS\tADP=14537;WT=0;HET=0;HOM=1;NC=0\tGT:GQ:SDP:DP:RD:AD:FREQ:PVAL:RBQ:ABQ:RDF:RDR:ADF:ADR\t1/1:255:14582:14537:2:14533:99.97%:0E0:36:38:2:0:10395:4138\r\n",
      "KF848938.1\t117\t.\tC\tT\t.\tPASS\tADP=19273;WT=0;HET=0;HOM=1;NC=0\tGT:GQ:SDP:DP:RD:AD:FREQ:PVAL:RBQ:ABQ:RDF:RDR:ADF:ADR\t1/1:255:19334:19273:21:19251:99.89%:0E0:37:38:13:8:12626:6625\r\n",
      "KF848938.1\t307\t.\tC\tT\t.\tPASS\tADP=29264;WT=0;HET=1;HOM=0;NC=0\tGT:GQ:SDP:DP:RD:AD:FREQ:PVAL:RBQ:ABQ:RDF:RDR:ADF:ADR\t0/1:255:29289:29264:29043:217:0.74%:3.3222E-37:37:37:16698:12345:117:100\r\n",
      "KF848938.1\t389\t.\tT\tC\t.\tPASS\tADP=26670;WT=0;HET=1;HOM=0;NC=0\tGT:GQ:SDP:DP:RD:AD:FREQ:PVAL:RBQ:ABQ:RDF:RDR:ADF:ADR\t0/1:21:26733:26670:26619:48:0.18%:7.007E-3:38:38:13452:13167:27:21\r\n",
      "KF848938.1\t722\t.\tA\tG\t.\tPASS\tADP=31279;WT=0;HET=1;HOM=0;NC=0\tGT:GQ:SDP:DP:RD:AD:FREQ:PVAL:RBQ:ABQ:RDF:RDR:ADF:ADR\t0/1:29:31297:31279:31215:61:0.2%:1.1488E-3:38:37:16701:14514:31:30\r\n",
      "KF848938.1\t774\t.\tT\tC\t.\tPASS\tADP=31881;WT=0;HET=0;HOM=1;NC=0\tGT:GQ:SDP:DP:RD:AD:FREQ:PVAL:RBQ:ABQ:RDF:RDR:ADF:ADR\t1/1:255:31930:31881:4:31874:99.98%:0E0:33:38:4:0:16155:15719\r\n",
      "KF848938.1\t999\t.\tC\tT\t.\tPASS\tADP=25310;WT=0;HET=0;HOM=1;NC=0\tGT:GQ:SDP:DP:RD:AD:FREQ:PVAL:RBQ:ABQ:RDF:RDR:ADF:ADR\t1/1:255:25374:25310:27:25282:99.89%:0E0:37:37:15:12:13363:11919\r\n",
      "KF848938.1\t1213\t.\tA\tG\t.\tPASS\tADP=20561;WT=0;HET=1;HOM=0;NC=0\tGT:GQ:SDP:DP:RD:AD:FREQ:PVAL:RBQ:ABQ:RDF:RDR:ADF:ADR\t0/1:20:20573:20561:20521:39:0.19%:9.1272E-3:38:37:7475:13046:20:19\r\n",
      "KF848938.1\t1260\t.\tA\tC\t.\tPASS\tADP=16118;WT=0;HET=0;HOM=1;NC=0\tGT:GQ:SDP:DP:RD:AD:FREQ:PVAL:RBQ:ABQ:RDF:RDR:ADF:ADR\t1/1:255:16130:16118:4:16110:99.95%:0E0:25:38:1:3:6769:9341\r\n",
      "KF848938.1\t1458\t.\tT\tC\t.\tPASS\tADP=19601;WT=0;HET=1;HOM=0;NC=0\tGT:GQ:SDP:DP:RD:AD:FREQ:PVAL:RBQ:ABQ:RDF:RDR:ADF:ADR\t0/1:201:19624:19601:19475:126:0.64%:6.345E-21:38:37:4851:14624:34:92\r\n"
     ]
    }
   ],
   "source": [
    "!cat ../data/week2/VarScan_results.vcf"
   ]
  },
  {
   "cell_type": "code",
   "execution_count": 22,
   "metadata": {},
   "outputs": [],
   "source": [
    "!wget -P ../data/week2/ ftp://ftp.sra.ebi.ac.uk/vol1/fastq/SRR170/008/SRR1705858/SRR1705858.fastq.gz 2> /dev/null\n",
    "!wget -P ../data/week2/ ftp://ftp.sra.ebi.ac.uk/vol1/fastq/SRR170/009/SRR1705859/SRR1705859.fastq.gz 2> /dev/null\n",
    "!wget -P ../data/week2/ ftp://ftp.sra.ebi.ac.uk/vol1/fastq/SRR170/000/SRR1705860/SRR1705860.fastq.gz 2> /dev/null"
   ]
  },
  {
   "cell_type": "code",
   "execution_count": 23,
   "metadata": {},
   "outputs": [],
   "source": [
    "!gunzip ../data/week2/SRR1705858.fastq.gz\n",
    "!gunzip ../data/week2/SRR1705859.fastq.gz\n",
    "!gunzip ../data/week2/SRR1705860.fastq.gz"
   ]
  },
  {
   "cell_type": "code",
   "execution_count": 25,
   "metadata": {},
   "outputs": [
    {
     "name": "stdout",
     "output_type": "stream",
     "text": [
      "Analysis complete for SRR1705858.fastq\n",
      "Analysis complete for SRR1705859.fastq\n",
      "Analysis complete for SRR1705860.fastq\n"
     ]
    }
   ],
   "source": [
    "!$FASTQC_PATH ../data/week2/SRR1705858.fastq 2> /dev/null\n",
    "!$FASTQC_PATH ../data/week2/SRR1705859.fastq 2> /dev/null\n",
    "!$FASTQC_PATH ../data/week2/SRR1705860.fastq 2> /dev/null"
   ]
  },
  {
   "cell_type": "code",
   "execution_count": 26,
   "metadata": {
    "scrolled": false
   },
   "outputs": [
    {
     "data": {
      "text/html": [
       "\n",
       "        <iframe\n",
       "            width=\"1000\"\n",
       "            height=\"600\"\n",
       "            src=\"http://bioinf-workshop.s3-website.eu-central-1.amazonaws.com/week_2/fastqc_3_1.html\"\n",
       "            frameborder=\"0\"\n",
       "            allowfullscreen\n",
       "        ></iframe>\n",
       "        "
      ],
      "text/plain": [
       "<IPython.lib.display.IFrame at 0x7fac54ddf978>"
      ]
     },
     "execution_count": 26,
     "metadata": {},
     "output_type": "execute_result"
    }
   ],
   "source": [
    "f = perform_file_upload(open(\"../data/week2/SRR1705858_fastqc.html\", \"r\").read(), \"week_2/fastqc_3_1.html\")\n",
    "IFrame(src=f, width=1000, height=600)"
   ]
  },
  {
   "cell_type": "code",
   "execution_count": 27,
   "metadata": {},
   "outputs": [
    {
     "data": {
      "text/html": [
       "\n",
       "        <iframe\n",
       "            width=\"1000\"\n",
       "            height=\"600\"\n",
       "            src=\"http://bioinf-workshop.s3-website.eu-central-1.amazonaws.com/week_2/fastqc_3_2.html\"\n",
       "            frameborder=\"0\"\n",
       "            allowfullscreen\n",
       "        ></iframe>\n",
       "        "
      ],
      "text/plain": [
       "<IPython.lib.display.IFrame at 0x7fac54de0588>"
      ]
     },
     "execution_count": 27,
     "metadata": {},
     "output_type": "execute_result"
    }
   ],
   "source": [
    "f = perform_file_upload(open(\"../data/week2/SRR1705859_fastqc.html\", \"r\").read(), \"week_2/fastqc_3_2.html\")\n",
    "IFrame(src=f, width=1000, height=600)"
   ]
  },
  {
   "cell_type": "code",
   "execution_count": 28,
   "metadata": {
    "scrolled": true
   },
   "outputs": [
    {
     "data": {
      "text/html": [
       "\n",
       "        <iframe\n",
       "            width=\"1000\"\n",
       "            height=\"600\"\n",
       "            src=\"http://bioinf-workshop.s3-website.eu-central-1.amazonaws.com/week_2/fastqc_3_3.html\"\n",
       "            frameborder=\"0\"\n",
       "            allowfullscreen\n",
       "        ></iframe>\n",
       "        "
      ],
      "text/plain": [
       "<IPython.lib.display.IFrame at 0x7fac54de0da0>"
      ]
     },
     "execution_count": 28,
     "metadata": {},
     "output_type": "execute_result"
    }
   ],
   "source": [
    "f = perform_file_upload(open(\"../data/week2/SRR1705860_fastqc.html\", \"r\").read(), \"week_2/fastqc_3_3.html\")\n",
    "IFrame(src=f, width=1000, height=600)"
   ]
  },
  {
   "cell_type": "code",
   "execution_count": 37,
   "metadata": {},
   "outputs": [
    {
     "name": "stdout",
     "output_type": "stream",
     "text": [
      "Reference len: 1665\n"
     ]
    }
   ],
   "source": [
    "with open(\"../data/week2/KF848938.1.fasta\", \"r\") as f:\n",
    "    lines = f.readlines()\n",
    "    \n",
    "print(\"Reference len:\", len(\"\".join([l.strip() for l in lines[1:]])))"
   ]
  },
  {
   "cell_type": "markdown",
   "metadata": {},
   "source": [
    "Approximate coverage: $\\frac{2.3 * 10^5 * 120}{1665} \\approx 1.6 * 10^4$"
   ]
  },
  {
   "cell_type": "code",
   "execution_count": 43,
   "metadata": {},
   "outputs": [
    {
     "name": "stdout",
     "output_type": "stream",
     "text": [
      "TrimmomaticSE: Started with arguments: -phred33 -trimlog ../data/week2/trim.log ../data/week2/SRR1705858.fastq ../data/week2/rep_1_trimmed.fastq HEADCROP:17 CROP:128 SLIDINGWINDOW:4:25 MINLEN:30\n",
      "Automatically using 16 threads\n",
      "Input Reads: 256586 Surviving: 240872 (93.88%) Dropped: 15714 (6.12%)\n",
      "TrimmomaticSE: Completed successfully\n",
      "TrimmomaticSE: Started with arguments: -phred33 -trimlog ../data/week2/trim.log ../data/week2/SRR1705859.fastq ../data/week2/rep_2_trimmed.fastq HEADCROP:17 CROP:128 SLIDINGWINDOW:4:25 MINLEN:30\n",
      "Automatically using 16 threads\n",
      "Input Reads: 233327 Surviving: 218708 (93.73%) Dropped: 14619 (6.27%)\n",
      "TrimmomaticSE: Completed successfully\n",
      "TrimmomaticSE: Started with arguments: -phred33 -trimlog ../data/week2/trim.log ../data/week2/SRR1705860.fastq ../data/week2/rep_3_trimmed.fastq HEADCROP:17 CROP:128 SLIDINGWINDOW:4:25 MINLEN:30\n",
      "Automatically using 16 threads\n",
      "Input Reads: 249964 Surviving: 235190 (94.09%) Dropped: 14774 (5.91%)\n",
      "TrimmomaticSE: Completed successfully\n"
     ]
    }
   ],
   "source": [
    "!java -jar $TRIMMOMATIC_JAR SE \\\n",
    "    -phred33 \\\n",
    "    -trimlog ../data/week2/trim.log \\\n",
    "    ../data/week2/SRR1705858.fastq \\\n",
    "    ../data/week2/rep_1_trimmed.fastq \\\n",
    "    HEADCROP:17 \\\n",
    "    CROP:128 \\\n",
    "    SLIDINGWINDOW:4:25 \\\n",
    "    MINLEN:30\n",
    "        \n",
    "!java -jar $TRIMMOMATIC_JAR SE \\\n",
    "    -phred33 \\\n",
    "    -trimlog ../data/week2/trim.log \\\n",
    "    ../data/week2/SRR1705859.fastq \\\n",
    "    ../data/week2/rep_2_trimmed.fastq \\\n",
    "    HEADCROP:17 \\\n",
    "    CROP:128 \\\n",
    "    SLIDINGWINDOW:4:25 \\\n",
    "    MINLEN:30\n",
    "        \n",
    "!java -jar $TRIMMOMATIC_JAR SE \\\n",
    "    -phred33 \\\n",
    "    -trimlog ../data/week2/trim.log \\\n",
    "    ../data/week2/SRR1705860.fastq \\\n",
    "    ../data/week2/rep_3_trimmed.fastq \\\n",
    "    HEADCROP:17 \\\n",
    "    CROP:128 \\\n",
    "    SLIDINGWINDOW:4:25 \\\n",
    "    MINLEN:30"
   ]
  },
  {
   "cell_type": "code",
   "execution_count": 45,
   "metadata": {},
   "outputs": [
    {
     "name": "stdout",
     "output_type": "stream",
     "text": [
      "Analysis complete for rep_1_trimmed.fastq\n",
      "Analysis complete for rep_2_trimmed.fastq\n",
      "Analysis complete for rep_3_trimmed.fastq\n"
     ]
    }
   ],
   "source": [
    "!$FASTQC_PATH ../data/week2/rep_1_trimmed.fastq 2> /dev/null\n",
    "!$FASTQC_PATH ../data/week2/rep_2_trimmed.fastq 2> /dev/null\n",
    "!$FASTQC_PATH ../data/week2/rep_3_trimmed.fastq 2> /dev/null"
   ]
  },
  {
   "cell_type": "code",
   "execution_count": 47,
   "metadata": {},
   "outputs": [
    {
     "data": {
      "text/html": [
       "\n",
       "        <iframe\n",
       "            width=\"1000\"\n",
       "            height=\"600\"\n",
       "            src=\"http://bioinf-workshop.s3-website.eu-central-1.amazonaws.com/week_2/fastqc_4_1.html\"\n",
       "            frameborder=\"0\"\n",
       "            allowfullscreen\n",
       "        ></iframe>\n",
       "        "
      ],
      "text/plain": [
       "<IPython.lib.display.IFrame at 0x7fac5495d908>"
      ]
     },
     "execution_count": 47,
     "metadata": {},
     "output_type": "execute_result"
    }
   ],
   "source": [
    "f = perform_file_upload(open(\"../data/week2/rep_1_trimmed_fastqc.html\", \"r\").read(), \"week_2/fastqc_4_1.html\")\n",
    "IFrame(src=f, width=1000, height=600)"
   ]
  },
  {
   "cell_type": "code",
   "execution_count": 48,
   "metadata": {},
   "outputs": [
    {
     "data": {
      "text/html": [
       "\n",
       "        <iframe\n",
       "            width=\"1000\"\n",
       "            height=\"600\"\n",
       "            src=\"http://bioinf-workshop.s3-website.eu-central-1.amazonaws.com/week_2/fastqc_4_2.html\"\n",
       "            frameborder=\"0\"\n",
       "            allowfullscreen\n",
       "        ></iframe>\n",
       "        "
      ],
      "text/plain": [
       "<IPython.lib.display.IFrame at 0x7fac5495d128>"
      ]
     },
     "execution_count": 48,
     "metadata": {},
     "output_type": "execute_result"
    }
   ],
   "source": [
    "f = perform_file_upload(open(\"../data/week2/rep_2_trimmed_fastqc.html\", \"r\").read(), \"week_2/fastqc_4_2.html\")\n",
    "IFrame(src=f, width=1000, height=600)"
   ]
  },
  {
   "cell_type": "code",
   "execution_count": 49,
   "metadata": {},
   "outputs": [
    {
     "data": {
      "text/html": [
       "\n",
       "        <iframe\n",
       "            width=\"1000\"\n",
       "            height=\"600\"\n",
       "            src=\"http://bioinf-workshop.s3-website.eu-central-1.amazonaws.com/week_2/fastqc_4_3.html\"\n",
       "            frameborder=\"0\"\n",
       "            allowfullscreen\n",
       "        ></iframe>\n",
       "        "
      ],
      "text/plain": [
       "<IPython.lib.display.IFrame at 0x7fac5495d9b0>"
      ]
     },
     "execution_count": 49,
     "metadata": {},
     "output_type": "execute_result"
    }
   ],
   "source": [
    "f = perform_file_upload(open(\"../data/week2/rep_3_trimmed_fastqc.html\", \"r\").read(), \"week_2/fastqc_4_3.html\")\n",
    "IFrame(src=f, width=1000, height=600)"
   ]
  },
  {
   "cell_type": "code",
   "execution_count": 50,
   "metadata": {},
   "outputs": [
    {
     "name": "stdout",
     "output_type": "stream",
     "text": [
      "240872 reads; of these:\r\n",
      "  240872 (100.00%) were unpaired; of these:\r\n",
      "    5615 (2.33%) aligned 0 times\r\n",
      "    235257 (97.67%) aligned exactly 1 time\r\n",
      "    0 (0.00%) aligned >1 times\r\n",
      "97.67% overall alignment rate\r\n"
     ]
    }
   ],
   "source": [
    "!$BOWTIE_DIR/bowtie2 -x ../data/KF848938.1.idx \\\n",
    "    -U ../data/week2/rep_1_trimmed.fastq \\\n",
    "    -p 20 > ../data/week2/rep_1_alignment.sam"
   ]
  },
  {
   "cell_type": "code",
   "execution_count": 51,
   "metadata": {},
   "outputs": [
    {
     "name": "stdout",
     "output_type": "stream",
     "text": [
      "218708 reads; of these:\r\n",
      "  218708 (100.00%) were unpaired; of these:\r\n",
      "    5041 (2.30%) aligned 0 times\r\n",
      "    213667 (97.70%) aligned exactly 1 time\r\n",
      "    0 (0.00%) aligned >1 times\r\n",
      "97.70% overall alignment rate\r\n"
     ]
    }
   ],
   "source": [
    "!$BOWTIE_DIR/bowtie2 -x ../data/KF848938.1.idx \\\n",
    "    -U ../data/week2/rep_2_trimmed.fastq \\\n",
    "    -p 20 > ../data/week2/rep_2_alignment.sam"
   ]
  },
  {
   "cell_type": "code",
   "execution_count": 52,
   "metadata": {},
   "outputs": [
    {
     "name": "stdout",
     "output_type": "stream",
     "text": [
      "235190 reads; of these:\r\n",
      "  235190 (100.00%) were unpaired; of these:\r\n",
      "    5845 (2.49%) aligned 0 times\r\n",
      "    229345 (97.51%) aligned exactly 1 time\r\n",
      "    0 (0.00%) aligned >1 times\r\n",
      "97.51% overall alignment rate\r\n"
     ]
    }
   ],
   "source": [
    "!$BOWTIE_DIR/bowtie2 -x ../data/KF848938.1.idx \\\n",
    "    -U ../data/week2/rep_3_trimmed.fastq \\\n",
    "    -p 20 > ../data/week2/rep_3_alignment.sam"
   ]
  },
  {
   "cell_type": "code",
   "execution_count": 53,
   "metadata": {},
   "outputs": [
    {
     "name": "stdout",
     "output_type": "stream",
     "text": [
      "240872 + 0 in total (QC-passed reads + QC-failed reads)\r\n",
      "0 + 0 secondary\r\n",
      "0 + 0 supplementary\r\n",
      "0 + 0 duplicates\r\n",
      "235257 + 0 mapped (97.67% : N/A)\r\n",
      "0 + 0 paired in sequencing\r\n",
      "0 + 0 read1\r\n",
      "0 + 0 read2\r\n",
      "0 + 0 properly paired (N/A : N/A)\r\n",
      "0 + 0 with itself and mate mapped\r\n",
      "0 + 0 singletons (N/A : N/A)\r\n",
      "0 + 0 with mate mapped to a different chr\r\n",
      "0 + 0 with mate mapped to a different chr (mapQ>=5)\r\n"
     ]
    }
   ],
   "source": [
    "!$SAMTOOLS_DIR/samtools view -S -b ../data/week2/rep_1_alignment.sam > ../data/week2/rep_1_alignment.bam\n",
    "\n",
    "!$SAMTOOLS_DIR/samtools sort \\\n",
    "    ../data/week2/rep_1_alignment.bam \\\n",
    "    -o ../data/week2/rep_1_alignment_sorted.bam\n",
    "    \n",
    "!$SAMTOOLS_DIR/samtools index ../data/week2/rep_1_alignment_sorted.bam\n",
    "\n",
    "!$SAMTOOLS_DIR/samtools flagstat ../data/week2/rep_1_alignment.bam"
   ]
  },
  {
   "cell_type": "code",
   "execution_count": 54,
   "metadata": {},
   "outputs": [
    {
     "name": "stdout",
     "output_type": "stream",
     "text": [
      "218708 + 0 in total (QC-passed reads + QC-failed reads)\r\n",
      "0 + 0 secondary\r\n",
      "0 + 0 supplementary\r\n",
      "0 + 0 duplicates\r\n",
      "213667 + 0 mapped (97.70% : N/A)\r\n",
      "0 + 0 paired in sequencing\r\n",
      "0 + 0 read1\r\n",
      "0 + 0 read2\r\n",
      "0 + 0 properly paired (N/A : N/A)\r\n",
      "0 + 0 with itself and mate mapped\r\n",
      "0 + 0 singletons (N/A : N/A)\r\n",
      "0 + 0 with mate mapped to a different chr\r\n",
      "0 + 0 with mate mapped to a different chr (mapQ>=5)\r\n"
     ]
    }
   ],
   "source": [
    "!$SAMTOOLS_DIR/samtools view -S -b ../data/week2/rep_2_alignment.sam > ../data/week2/rep_2_alignment.bam\n",
    "\n",
    "!$SAMTOOLS_DIR/samtools sort \\\n",
    "    ../data/week2/rep_2_alignment.bam \\\n",
    "    -o ../data/week2/rep_2_alignment_sorted.bam\n",
    "    \n",
    "!$SAMTOOLS_DIR/samtools index ../data/week2/rep_2_alignment_sorted.bam\n",
    "\n",
    "!$SAMTOOLS_DIR/samtools flagstat ../data/week2/rep_2_alignment.bam"
   ]
  },
  {
   "cell_type": "code",
   "execution_count": 55,
   "metadata": {},
   "outputs": [
    {
     "name": "stdout",
     "output_type": "stream",
     "text": [
      "235190 + 0 in total (QC-passed reads + QC-failed reads)\r\n",
      "0 + 0 secondary\r\n",
      "0 + 0 supplementary\r\n",
      "0 + 0 duplicates\r\n",
      "229345 + 0 mapped (97.51% : N/A)\r\n",
      "0 + 0 paired in sequencing\r\n",
      "0 + 0 read1\r\n",
      "0 + 0 read2\r\n",
      "0 + 0 properly paired (N/A : N/A)\r\n",
      "0 + 0 with itself and mate mapped\r\n",
      "0 + 0 singletons (N/A : N/A)\r\n",
      "0 + 0 with mate mapped to a different chr\r\n",
      "0 + 0 with mate mapped to a different chr (mapQ>=5)\r\n"
     ]
    }
   ],
   "source": [
    "!$SAMTOOLS_DIR/samtools view -S -b ../data/week2/rep_3_alignment.sam > ../data/week2/rep_3_alignment.bam\n",
    "\n",
    "!$SAMTOOLS_DIR/samtools sort \\\n",
    "    ../data/week2/rep_3_alignment.bam \\\n",
    "    -o ../data/week2/rep_3_alignment_sorted.bam\n",
    "    \n",
    "!$SAMTOOLS_DIR/samtools index ../data/week2/rep_3_alignment_sorted.bam\n",
    "\n",
    "!$SAMTOOLS_DIR/samtools flagstat ../data/week2/rep_3_alignment.bam"
   ]
  },
  {
   "cell_type": "code",
   "execution_count": 56,
   "metadata": {},
   "outputs": [
    {
     "name": "stdout",
     "output_type": "stream",
     "text": [
      "[mpileup] 1 samples in 1 input files\r\n"
     ]
    }
   ],
   "source": [
    "!$SAMTOOLS_DIR/samtools mpileup \\\n",
    "    -f ../data/week2/KF848938.1.fasta \\\n",
    "    -d 100000 \\\n",
    "    ../data/week2/rep_1_alignment_sorted.bam >  ../data/week2/rep_1_alignment.mpileup"
   ]
  },
  {
   "cell_type": "code",
   "execution_count": 57,
   "metadata": {},
   "outputs": [
    {
     "name": "stdout",
     "output_type": "stream",
     "text": [
      "[mpileup] 1 samples in 1 input files\r\n"
     ]
    }
   ],
   "source": [
    "!$SAMTOOLS_DIR/samtools mpileup \\\n",
    "    -f ../data/week2/KF848938.1.fasta \\\n",
    "    -d 100000 \\\n",
    "    ../data/week2/rep_2_alignment_sorted.bam >  ../data/week2/rep_2_alignment.mpileup"
   ]
  },
  {
   "cell_type": "code",
   "execution_count": 58,
   "metadata": {},
   "outputs": [
    {
     "name": "stdout",
     "output_type": "stream",
     "text": [
      "[mpileup] 1 samples in 1 input files\r\n"
     ]
    }
   ],
   "source": [
    "!$SAMTOOLS_DIR/samtools mpileup \\\n",
    "    -f ../data/week2/KF848938.1.fasta \\\n",
    "    -d 100000 \\\n",
    "    ../data/week2/rep_3_alignment_sorted.bam >  ../data/week2/rep_3_alignment.mpileup"
   ]
  },
  {
   "cell_type": "code",
   "execution_count": 59,
   "metadata": {},
   "outputs": [
    {
     "name": "stdout",
     "output_type": "stream",
     "text": [
      "Only SNPs will be reported\n",
      "Warning: No p-value threshold provided, so p-values will not be calculated\n",
      "Min coverage:\t8\n",
      "Min reads2:\t2\n",
      "Min var freq:\t0.001\n",
      "Min avg qual:\t15\n",
      "P-value thresh:\t0.01\n",
      "Reading input from ../data/week2/rep_1_alignment.mpileup\n",
      "1665 bases in pileup file\n",
      "24 variant positions (21 SNP, 3 indel)\n",
      "0 were failed by the strand-filter\n",
      "21 variant positions reported (21 SNP, 0 indel)\n"
     ]
    }
   ],
   "source": [
    "!java -jar $VARSCAN_DIR/VarScan.v2.4.0.jar \\\n",
    "    mpileup2snp ../data/week2/rep_1_alignment.mpileup --min-var-freq .001 \\\n",
    "    --variants \\\n",
    "    --output-vcf 1 > ../data/week2/rep_1_varscan.vcf"
   ]
  },
  {
   "cell_type": "code",
   "execution_count": 60,
   "metadata": {},
   "outputs": [
    {
     "name": "stdout",
     "output_type": "stream",
     "text": [
      "Only SNPs will be reported\n",
      "Warning: No p-value threshold provided, so p-values will not be calculated\n",
      "Min coverage:\t8\n",
      "Min reads2:\t2\n",
      "Min var freq:\t0.001\n",
      "Min avg qual:\t15\n",
      "P-value thresh:\t0.01\n",
      "Reading input from ../data/week2/rep_2_alignment.mpileup\n",
      "1665 bases in pileup file\n",
      "14 variant positions (11 SNP, 3 indel)\n",
      "0 were failed by the strand-filter\n",
      "11 variant positions reported (11 SNP, 0 indel)\n"
     ]
    }
   ],
   "source": [
    "!java -jar $VARSCAN_DIR/VarScan.v2.4.0.jar \\\n",
    "    mpileup2snp ../data/week2/rep_2_alignment.mpileup --min-var-freq .001 \\\n",
    "    --variants \\\n",
    "    --output-vcf 1 > ../data/week2/rep_2_varscan.vcf"
   ]
  },
  {
   "cell_type": "code",
   "execution_count": 61,
   "metadata": {},
   "outputs": [
    {
     "name": "stdout",
     "output_type": "stream",
     "text": [
      "Only SNPs will be reported\n",
      "Warning: No p-value threshold provided, so p-values will not be calculated\n",
      "Min coverage:\t8\n",
      "Min reads2:\t2\n",
      "Min var freq:\t0.001\n",
      "Min avg qual:\t15\n",
      "P-value thresh:\t0.01\n",
      "Reading input from ../data/week2/rep_3_alignment.mpileup\n",
      "1665 bases in pileup file\n",
      "23 variant positions (20 SNP, 3 indel)\n",
      "0 were failed by the strand-filter\n",
      "20 variant positions reported (20 SNP, 0 indel)\n"
     ]
    }
   ],
   "source": [
    "!java -jar $VARSCAN_DIR/VarScan.v2.4.0.jar \\\n",
    "    mpileup2snp ../data/week2/rep_3_alignment.mpileup --min-var-freq .001 \\\n",
    "    --variants \\\n",
    "    --output-vcf 1 > ../data/week2/rep_3_varscan.vcf"
   ]
  },
  {
   "cell_type": "code",
   "execution_count": 85,
   "metadata": {},
   "outputs": [],
   "source": [
    "import pandas as pd"
   ]
  },
  {
   "cell_type": "code",
   "execution_count": 109,
   "metadata": {
    "scrolled": true
   },
   "outputs": [
    {
     "name": "stdout",
     "output_type": "stream",
     "text": [
      "0.001140268019764466 0.004021636742140295\n",
      "0.0015851829540424241 0.002814817045957576\n",
      "0.0013639619393568882 0.0032460380606431105\n"
     ]
    }
   ],
   "source": [
    "for rep in [1, 2, 3]:\n",
    "    vcf_name = \"rep_{}_varscan.vcf\".format(rep)\n",
    "    bases_lines = [l.split() for l in open(\"../data/week2/{}\".format(vcf_name)).readlines()]\n",
    "    bases = [[l[1], l[3], l[4]] for l in bases_lines[24:]]\n",
    "    freqs_lines = [l.split(\":\") for l in open(\"../data/week2/{}\".format(vcf_name)).readlines()]\n",
    "    freqs = [l[19] for l in freqs_lines[24:]]\n",
    "\n",
    "    freqs_df = pd.DataFrame([p[0] + [p[1]] for p in zip(bases, freqs)])\n",
    "    freqs_df.columns = [\"position\", \"reference\", \"alternative\", \"frequency\"]\n",
    "    freqs_df.loc[:, \"frequency\"] = freqs_df.frequency.apply(lambda s: float(s[:-1]) / 100)\n",
    "\n",
    "    freq_mean = freqs_df.frequency.mean()\n",
    "    freq_std =  freqs_df.frequency.std()\n",
    "\n",
    "    print(freq_mean - 3 * freq_std, freq_mean + 3 * freq_std)"
   ]
  },
  {
   "cell_type": "code",
   "execution_count": 110,
   "metadata": {},
   "outputs": [
    {
     "name": "stdout",
     "output_type": "stream",
     "text": [
      ">KF848938.1 Influenza A virus (A/USA/RVD1_H3/2011(H3N2)) segment 4 hemagglutinin (HA) gene, partial cds\r\n",
      "CAAAAACTTCCTGGAAATGACAACAGCACGGCAACGCTGTGCCTTGGGCACCATGCAGTGCCAAACGGAA\r\n",
      "CAATAGTGAAAACAATCACGAATGACCAAATTGAAGTTACTAATGCCACTGAGCTGGTTCAGAGTTCCTC\r\n",
      "AACAGGTGAAATATGCAACAGTCCTCATCAGATCCTTGATGGAGAAAACTGCACACTAATAGATGCTCTA\r\n",
      "TTGGGAGACCCTCAGTGTGATGGCTTCCAAAACAAGAAATGGGACCTTTTTGTTGAACGAAGCAAAGCCC\r\n",
      "ACAGCAACTGTTACCCTTATGATGTGCCGGATTATGCCTCCCTTAGGTCACTAGTTGCCTCATCCGGCAC\r\n",
      "ACTGGAGTTTAACAATGAAAGCTTCAATTGGACTGGAGTCACTCAAAACGGAACAAGCTCTGCTTGCATA\r\n",
      "AGGAGATCTAATAATAGTTTCTTTAGTAGATTGAATTGGTTGACCCACTTAAACTTCAAATACCCAGCAT\r\n",
      "TGAACGTGACTATGCCAAACAATGAACAATTTGACAAATTGTACATTTGGGGGGTTCACCACCCGGGTAC\r\n",
      "GGACAAGGACCAAATCTTCCTGTATGCTCAAGCAGCAGGAAGAATCACAGTATCTACCAAAAGAAGCCAA\r\n",
      "CAAGCTGTAATTCCGAATATCGGATCTAGACCCAGAGTAAGGAATATCCCTAGCAGAGTAAGCATCTATT\r\n",
      "GGACAATAGTAAAACCGGGAGACATACTTTTGATTAACAGCACAGGGAATCTAATTGCTCCTAGGGGTTA\r\n",
      "CTTTAAAATACGAAGTGGGAAAAGCTCAATAATGAGATCAGATGCACCCATTGGCAAATGCAATTCTGCA\r\n",
      "TGCATCACTCCAAATGGAAGCATTCCCAATGACAAACCATTCCAAAATGTAAACAGGATCACATACGGGG\r\n",
      "CCTGTCCCAGATATGTTAAGCAAAACACTCTGAAATTGGCAACAGGAATGAGAAATGTACCAGAGAAACA\r\n",
      "AACTAGAGGCATATTTGGCGCAATAGCTGGTTTCATAGAAAATGGTTGGGAGGGAATGGTGGATGGTTGG\r\n",
      "TACGGTTTCAGGCATCAAAATTCTGAGGGAAGGGGACAAGCAGCAGATCTCAAAAGCACTCAAGCAGCAA\r\n",
      "TCGATCAAATCAATGGGAAGCTGAATAGATTGATCGGGAAAACCAACGAGAAATTCCATCAGATTGAAAA\r\n",
      "AGAATTCTCAGAAGTCGAAGGGAGAATTCAGGACCTTGAGAAATATGTTGAGGACACTAAAATAGATCTA\r\n",
      "TGGTCATACAACGCGGAGCTTCTTGTTGCCCTGGAGAACCAACACACAATTGATCTAACTGACTCAGAAA\r\n",
      "TGAACAAATTGTTTGAAAAAACAAAGAAGCAACTGAGGGAAAATGCTGAGGATATGGGCAATGGTTGTTT\r\n",
      "CAAAATATACCACAAATGTGACAATGCCTGCATAGGATCAATCAGAAATGGAACTTATGACCACGATGTG\r\n",
      "TACAGAGATGAAGCATTAAACAACCGATTCCAGATCAAGGGAGTTGAGCTGAAGTCAGGGTACAAAGATT\r\n",
      "GGATCCTATGGATTTCCTTTGCCATATCATGTTTTTTGCTTTGTGTTGCTTTGTTGGGGTTCATCATGTG\r\n",
      "GGCCTGCCAAAAAGGCAACATTAGGTGCAACATTTGCATTTGAGTGCATTAATTA\r\n"
     ]
    }
   ],
   "source": [
    "!cat ../data/week2/KF848938.1.fasta"
   ]
  },
  {
   "cell_type": "markdown",
   "metadata": {},
   "source": [
    "According to: https://www.ncbi.nlm.nih.gov/nuccore/KF848938.1  \n",
    "CAA — Gln, the first codone, the first chain of HA is of 329 residues."
   ]
  },
  {
   "cell_type": "code",
   "execution_count": 111,
   "metadata": {},
   "outputs": [
    {
     "name": "stdout",
     "output_type": "stream",
     "text": [
      "##fileformat=VCFv4.1\r\n",
      "##source=VarScan2\r\n",
      "##INFO=<ID=ADP,Number=1,Type=Integer,Description=\"Average per-sample depth of bases with Phred score >= 15\">\r\n",
      "##INFO=<ID=WT,Number=1,Type=Integer,Description=\"Number of samples called reference (wild-type)\">\r\n",
      "##INFO=<ID=HET,Number=1,Type=Integer,Description=\"Number of samples called heterozygous-variant\">\r\n",
      "##INFO=<ID=HOM,Number=1,Type=Integer,Description=\"Number of samples called homozygous-variant\">\r\n",
      "##INFO=<ID=NC,Number=1,Type=Integer,Description=\"Number of samples not called\">\r\n",
      "##FILTER=<ID=str10,Description=\"Less than 10% or more than 90% of variant supporting reads on one strand\">\r\n",
      "##FILTER=<ID=indelError,Description=\"Likely artifact due to indel reads at this position\">\r\n",
      "##FORMAT=<ID=GT,Number=1,Type=String,Description=\"Genotype\">\r\n",
      "##FORMAT=<ID=GQ,Number=1,Type=Integer,Description=\"Genotype Quality\">\r\n",
      "##FORMAT=<ID=SDP,Number=1,Type=Integer,Description=\"Raw Read Depth as reported by SAMtools\">\r\n",
      "##FORMAT=<ID=DP,Number=1,Type=Integer,Description=\"Quality Read Depth of bases with Phred score >= 15\">\r\n",
      "##FORMAT=<ID=RD,Number=1,Type=Integer,Description=\"Depth of reference-supporting bases (reads1)\">\r\n",
      "##FORMAT=<ID=AD,Number=1,Type=Integer,Description=\"Depth of variant-supporting bases (reads2)\">\r\n",
      "##FORMAT=<ID=FREQ,Number=1,Type=String,Description=\"Variant allele frequency\">\r\n",
      "##FORMAT=<ID=PVAL,Number=1,Type=String,Description=\"P-value from Fisher's Exact Test\">\r\n",
      "##FORMAT=<ID=RBQ,Number=1,Type=Integer,Description=\"Average quality of reference-supporting bases (qual1)\">\r\n",
      "##FORMAT=<ID=ABQ,Number=1,Type=Integer,Description=\"Average quality of variant-supporting bases (qual2)\">\r\n",
      "##FORMAT=<ID=RDF,Number=1,Type=Integer,Description=\"Depth of reference-supporting bases on forward strand (reads1plus)\">\r\n",
      "##FORMAT=<ID=RDR,Number=1,Type=Integer,Description=\"Depth of reference-supporting bases on reverse strand (reads1minus)\">\r\n",
      "##FORMAT=<ID=ADF,Number=1,Type=Integer,Description=\"Depth of variant-supporting bases on forward strand (reads2plus)\">\r\n",
      "##FORMAT=<ID=ADR,Number=1,Type=Integer,Description=\"Depth of variant-supporting bases on reverse strand (reads2minus)\">\r\n",
      "#CHROM\tPOS\tID\tREF\tALT\tQUAL\tFILTER\tINFO\tFORMAT\tSample1\r\n",
      "KF848938.1\t72\t.\tA\tG\t.\tPASS\tADP=14537;WT=0;HET=0;HOM=1;NC=0\tGT:GQ:SDP:DP:RD:AD:FREQ:PVAL:RBQ:ABQ:RDF:RDR:ADF:ADR\t1/1:255:14582:14537:2:14533:99.97%:0E0:36:38:2:0:10395:4138\r\n",
      "KF848938.1\t117\t.\tC\tT\t.\tPASS\tADP=19273;WT=0;HET=0;HOM=1;NC=0\tGT:GQ:SDP:DP:RD:AD:FREQ:PVAL:RBQ:ABQ:RDF:RDR:ADF:ADR\t1/1:255:19334:19273:21:19251:99.89%:0E0:37:38:13:8:12626:6625\r\n",
      "KF848938.1\t307\t.\tC\tT\t.\tPASS\tADP=29264;WT=0;HET=1;HOM=0;NC=0\tGT:GQ:SDP:DP:RD:AD:FREQ:PVAL:RBQ:ABQ:RDF:RDR:ADF:ADR\t0/1:255:29289:29264:29043:217:0.74%:3.3222E-37:37:37:16698:12345:117:100\r\n",
      "KF848938.1\t389\t.\tT\tC\t.\tPASS\tADP=26670;WT=0;HET=1;HOM=0;NC=0\tGT:GQ:SDP:DP:RD:AD:FREQ:PVAL:RBQ:ABQ:RDF:RDR:ADF:ADR\t0/1:21:26733:26670:26619:48:0.18%:7.007E-3:38:38:13452:13167:27:21\r\n",
      "KF848938.1\t722\t.\tA\tG\t.\tPASS\tADP=31279;WT=0;HET=1;HOM=0;NC=0\tGT:GQ:SDP:DP:RD:AD:FREQ:PVAL:RBQ:ABQ:RDF:RDR:ADF:ADR\t0/1:29:31297:31279:31215:61:0.2%:1.1488E-3:38:37:16701:14514:31:30\r\n",
      "KF848938.1\t774\t.\tT\tC\t.\tPASS\tADP=31881;WT=0;HET=0;HOM=1;NC=0\tGT:GQ:SDP:DP:RD:AD:FREQ:PVAL:RBQ:ABQ:RDF:RDR:ADF:ADR\t1/1:255:31930:31881:4:31874:99.98%:0E0:33:38:4:0:16155:15719\r\n",
      "KF848938.1\t999\t.\tC\tT\t.\tPASS\tADP=25310;WT=0;HET=0;HOM=1;NC=0\tGT:GQ:SDP:DP:RD:AD:FREQ:PVAL:RBQ:ABQ:RDF:RDR:ADF:ADR\t1/1:255:25374:25310:27:25282:99.89%:0E0:37:37:15:12:13363:11919\r\n",
      "KF848938.1\t1213\t.\tA\tG\t.\tPASS\tADP=20561;WT=0;HET=1;HOM=0;NC=0\tGT:GQ:SDP:DP:RD:AD:FREQ:PVAL:RBQ:ABQ:RDF:RDR:ADF:ADR\t0/1:20:20573:20561:20521:39:0.19%:9.1272E-3:38:37:7475:13046:20:19\r\n",
      "KF848938.1\t1260\t.\tA\tC\t.\tPASS\tADP=16118;WT=0;HET=0;HOM=1;NC=0\tGT:GQ:SDP:DP:RD:AD:FREQ:PVAL:RBQ:ABQ:RDF:RDR:ADF:ADR\t1/1:255:16130:16118:4:16110:99.95%:0E0:25:38:1:3:6769:9341\r\n",
      "KF848938.1\t1458\t.\tT\tC\t.\tPASS\tADP=19601;WT=0;HET=1;HOM=0;NC=0\tGT:GQ:SDP:DP:RD:AD:FREQ:PVAL:RBQ:ABQ:RDF:RDR:ADF:ADR\t0/1:201:19624:19601:19475:126:0.64%:6.345E-21:38:37:4851:14624:34:92\r\n"
     ]
    }
   ],
   "source": [
    "!cat ../data/week2/VarScan_results.vcf"
   ]
  },
  {
   "cell_type": "markdown",
   "metadata": {},
   "source": [
    "Here we can see two mutations, frequencies of which are low, though exceeding mean+3sigma: 307, 1458"
   ]
  },
  {
   "cell_type": "markdown",
   "metadata": {},
   "source": [
    "486 is from the second chain, whereas 103 is located in Epitope D (Munoz et al., 2004)"
   ]
  }
 ],
 "metadata": {
  "anaconda-cloud": {},
  "kernelspec": {
   "display_name": "Python [conda env:anaconda3]",
   "language": "python",
   "name": "conda-env-anaconda3-py"
  },
  "language_info": {
   "codemirror_mode": {
    "name": "ipython",
    "version": 3
   },
   "file_extension": ".py",
   "mimetype": "text/x-python",
   "name": "python",
   "nbconvert_exporter": "python",
   "pygments_lexer": "ipython3",
   "version": "3.5.4"
  }
 },
 "nbformat": 4,
 "nbformat_minor": 2
}
