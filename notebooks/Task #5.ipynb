{
 "cells": [
  {
   "cell_type": "code",
   "execution_count": 1,
   "metadata": {},
   "outputs": [],
   "source": [
    "from bs4 import BeautifulSoup\n",
    "import requests"
   ]
  },
  {
   "cell_type": "code",
   "execution_count": 2,
   "metadata": {},
   "outputs": [],
   "source": []
  },
  {
   "cell_type": "code",
   "execution_count": 20,
   "metadata": {
    "scrolled": true
   },
   "outputs": [],
   "source": [
    "strings = !cat ../data/week5/class_1_synthetases.fasta | grep \">\"\n",
    "rcsb_ids = [s.split(\"|\")[-1][1:-2] for s in strings]"
   ]
  },
  {
   "cell_type": "code",
   "execution_count": 25,
   "metadata": {},
   "outputs": [],
   "source": [
    "descriptions = []\n",
    "\n",
    "for i in rcsb_ids:\n",
    "    response = requests.get(\"https://www.rcsb.org/structure/{}\".format(i))\n",
    "    soup = BeautifulSoup(response.content, 'html.parser')\n",
    "    title = soup.findAll(name=\"span\", attrs={\"id\": \"structureTitle\"})[0].text.lower().replace(\"crystal structure\", \"\")\n",
    "    organism = soup.findAll(name=\"li\", attrs={\"id\": \"header_organism\"})[0].text.split(\":\")[1][1:].split()[:2]\n",
    "    \n",
    "    descriptions.append({\"title\": title, \"organism\": organism})"
   ]
  },
  {
   "cell_type": "code",
   "execution_count": 33,
   "metadata": {},
   "outputs": [],
   "source": [
    "aa_dict = {\n",
    "    \"arginyl\": \"ARG\",\n",
    "    \"ile\": \"ILE\",\n",
    "    \"glutaminyl\": \"GLN\",\n",
    "    \"tyrosyl\": \"TYR\",\n",
    "    \"isoleucyl\": \"ILE\",\n",
    "    \"lysyl\": \"LYS\",\n",
    "    \"leucyl\": \"LEU\",\n",
    "    \"valyl\": \"VAL\",\n",
    "    \"glutamyl\": \"GLU\",\n",
    "    \"tyrrs\": \"TYR\",\n",
    "    \"cysteinyl\": \"CYS\",\n",
    "    \"of a human aminoacyl-trna synthetase cytokine\": \"TYR\",\n",
    "    \"methionyl\": \"MET\",\n",
    "    \"tryptophanyl\": \"TRP\",\n",
    "    \"tyrosyl\": \"TYR\"\n",
    "}"
   ]
  },
  {
   "cell_type": "code",
   "execution_count": 40,
   "metadata": {},
   "outputs": [],
   "source": [
    "species_dict = {\n",
    "    \"Saccharomyces\": \"Eukaryota\",\n",
    "    \"Staphylococcus\": \"Bacteria\",\n",
    "    \"Escherichia\": \"Bacteria\",\n",
    "    \"Thermus\": \"Bacteria\",\n",
    "    \"Pyrococcus\": \"Archea\",\n",
    "    \"Methanocaldococcus\": \"Archea\",\n",
    "    \"Homo\": \"Eukaryota\",\n",
    "    \"Deinococcus\": \"Bacteria\",\n",
    "    \"Aquifex\": \"Bacteria\",\n",
    "    \"Archaeoglobus\": \"Archea\",\n",
    "    \"Acanthamoeba\": \"Eukaryota\",\n",
    "    \"Thermotoga\": \"Bacteria\",\n",
    "    \"Geobacillus\": \"Bacteria\",\n",
    "    \"Mycoplasma\": \"Eukaryota\",\n",
    "    \"Campylobacter\": \"Bacteria\"\n",
    "}"
   ]
  },
  {
   "cell_type": "code",
   "execution_count": 34,
   "metadata": {},
   "outputs": [],
   "source": [
    "for d in descriptions:\n",
    "    for k in aa_dict:\n",
    "        if k in d[\"title\"]:\n",
    "            d[\"residue\"] = aa_dict[k]\n",
    "    assert \"residue\" in d, d"
   ]
  },
  {
   "cell_type": "code",
   "execution_count": 41,
   "metadata": {},
   "outputs": [],
   "source": [
    "for d in descriptions:\n",
    "    for k in species_dict:\n",
    "        if k in d[\"organism\"]:\n",
    "            d[\"domain\"] = species_dict[k]\n",
    "    assert \"domain\" in d, d"
   ]
  },
  {
   "cell_type": "code",
   "execution_count": null,
   "metadata": {},
   "outputs": [],
   "source": []
  }
 ],
 "metadata": {
  "anaconda-cloud": {},
  "kernelspec": {
   "display_name": "Python [conda env:anaconda3]",
   "language": "python",
   "name": "conda-env-anaconda3-py"
  },
  "language_info": {
   "codemirror_mode": {
    "name": "ipython",
    "version": 3
   },
   "file_extension": ".py",
   "mimetype": "text/x-python",
   "name": "python",
   "nbconvert_exporter": "python",
   "pygments_lexer": "ipython3",
   "version": "3.5.4"
  }
 },
 "nbformat": 4,
 "nbformat_minor": 2
}
