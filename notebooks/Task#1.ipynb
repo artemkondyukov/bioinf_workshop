{
 "cells": [
  {
   "cell_type": "markdown",
   "metadata": {},
   "source": [
    "# CONSTANTS"
   ]
  },
  {
   "cell_type": "code",
   "execution_count": 1,
   "metadata": {},
   "outputs": [],
   "source": [
    "FASTQC_PATH = \"/home/analytics/distr/FastQC/fastqc\"\n",
    "TRIMMOMATIC_JAR = \"/home/analytics/bin/trimmomatic.jar\"\n",
    "BOWTIE_DIR = \"/home/analytics/distr/bowtie2-2.3.4.3-linux-x86_64/\"\n",
    "SAMTOOLS_DIR = \"/home/analytics/distr/samtools-1.9/build/bin\"\n",
    "VARSCAN_DIR = \"/home/analytics/distr/varscan/\""
   ]
  },
  {
   "cell_type": "markdown",
   "metadata": {},
   "source": [
    "# Data fetching"
   ]
  },
  {
   "cell_type": "code",
   "execution_count": 2,
   "metadata": {},
   "outputs": [],
   "source": [
    "!mkdir -p ../data/\n",
    "!wget -P ../data/ ftp://ftp.ncbi.nlm.nih.gov/genomes/genbank/bacteria/Escherichia_coli/all_assembly_versions/GCA_000005845.2_ASM584v2/GCA_000005845.2_ASM584v2_genomic.fna.gz 2> /dev/null\n",
    "!wget -P ../data/ ftp://ftp.ncbi.nlm.nih.gov/genomes/genbank/bacteria/Escherichia_coli/all_assembly_versions/GCA_000005845.2_ASM584v2/GCA_000005845.2_ASM584v2_genomic.gff.gz 2> /dev/null"
   ]
  },
  {
   "cell_type": "code",
   "execution_count": 3,
   "metadata": {},
   "outputs": [],
   "source": [
    "!wget -P ../data/ http://public.dobzhanskycenter.ru/mrayko/amp_res_1.fastq.zip 2> /dev/null\n",
    "!wget -P ../data/ http://public.dobzhanskycenter.ru/mrayko/amp_res_2.fastq.zip 2> /dev/null"
   ]
  },
  {
   "cell_type": "code",
   "execution_count": 4,
   "metadata": {},
   "outputs": [
    {
     "name": "stdout",
     "output_type": "stream",
     "text": [
      "Archive:  ../data/amp_res_1.fastq.zip\n",
      "  inflating: ../data/amp_res_1.fastq  \n",
      "Archive:  ../data/amp_res_2.fastq.zip\n",
      "  inflating: ../data/home/mike/UCSD/BIMM185/Week1/amp_res_2.fastq  \n",
      "  inflating: ../data/amp_res_2.fastq  \n"
     ]
    }
   ],
   "source": [
    "!unzip -o ../data/amp_res_1.fastq.zip -d ../data/\n",
    "!unzip -o ../data/amp_res_2.fastq.zip -d ../data/"
   ]
  },
  {
   "cell_type": "markdown",
   "metadata": {},
   "source": [
    "# FastQC analysis"
   ]
  },
  {
   "cell_type": "code",
   "execution_count": 5,
   "metadata": {
    "scrolled": true
   },
   "outputs": [
    {
     "name": "stdout",
     "output_type": "stream",
     "text": [
      "Analysis complete for amp_res_1.fastq\n",
      "Analysis complete for amp_res_2.fastq\n"
     ]
    }
   ],
   "source": [
    "!$FASTQC_PATH ../data/amp_res_1.fastq ../data/amp_res_2.fastq 2> /dev/null"
   ]
  },
  {
   "cell_type": "markdown",
   "metadata": {},
   "source": [
    "I'd like to include htmls into cell outputs, so let's get a bucket on AWS and use boto for sending static htmls to the host."
   ]
  },
  {
   "cell_type": "code",
   "execution_count": 6,
   "metadata": {},
   "outputs": [],
   "source": [
    "from boto.s3 import connect_to_region\n",
    "from boto import connect_s3\n",
    "from boto.s3.key import Key"
   ]
  },
  {
   "cell_type": "code",
   "execution_count": 7,
   "metadata": {},
   "outputs": [],
   "source": [
    "AWS_S3_ROOT = \"http://bioinf-workshop.s3-website.eu-central-1.amazonaws.com/\"\n",
    "\n",
    "def perform_file_upload(file_, file_name):\n",
    "\n",
    "    conn = connect_to_region(\"eu-central-1\", \n",
    "                             aws_access_key_id=open(\"../.access_key\", \"r\").read().strip(),\n",
    "                             aws_secret_access_key=open(\"../.secret_key\", \"r\").read().strip())\n",
    "\n",
    "    bucket = conn.get_bucket(\"bioinf-workshop\")\n",
    "    key = Key(bucket)\n",
    "    key.key = file_name\n",
    "    key.set_contents_from_string(file_, headers={\"Content-Type\": \"text/html\"})\n",
    "    key.set_acl('public-read')\n",
    "    return AWS_S3_ROOT + file_name # public url to access the uploaded file\n"
   ]
  },
  {
   "cell_type": "code",
   "execution_count": 8,
   "metadata": {},
   "outputs": [],
   "source": [
    "f_1 = perform_file_upload(open(\"../data/amp_res_1_fastqc.html\", \"r\").read(), \"week_1/fastqc_1.html\")\n",
    "f_2 = perform_file_upload(open(\"../data/amp_res_2_fastqc.html\", \"r\").read(), \"week_1/fastqc_2.html\")"
   ]
  },
  {
   "cell_type": "code",
   "execution_count": 9,
   "metadata": {},
   "outputs": [
    {
     "data": {
      "text/html": [
       "\n",
       "        <iframe\n",
       "            width=\"1000\"\n",
       "            height=\"600\"\n",
       "            src=\"http://bioinf-workshop.s3-website.eu-central-1.amazonaws.com/week_1/fastqc_1.html\"\n",
       "            frameborder=\"0\"\n",
       "            allowfullscreen\n",
       "        ></iframe>\n",
       "        "
      ],
      "text/plain": [
       "<IPython.lib.display.IFrame at 0x7efce807fcc0>"
      ]
     },
     "execution_count": 9,
     "metadata": {},
     "output_type": "execute_result"
    }
   ],
   "source": [
    "from IPython.display import IFrame\n",
    "\n",
    "IFrame(src=f_1, width=1000, height=600)"
   ]
  },
  {
   "cell_type": "code",
   "execution_count": 10,
   "metadata": {},
   "outputs": [
    {
     "data": {
      "text/html": [
       "\n",
       "        <iframe\n",
       "            width=\"1000\"\n",
       "            height=\"600\"\n",
       "            src=\"http://bioinf-workshop.s3-website.eu-central-1.amazonaws.com/week_1/fastqc_2.html\"\n",
       "            frameborder=\"0\"\n",
       "            allowfullscreen\n",
       "        ></iframe>\n",
       "        "
      ],
      "text/plain": [
       "<IPython.lib.display.IFrame at 0x7efce807fc88>"
      ]
     },
     "execution_count": 10,
     "metadata": {},
     "output_type": "execute_result"
    }
   ],
   "source": [
    "from IPython.display import IFrame\n",
    "\n",
    "IFrame(src=f_2, width=1000, height=600)"
   ]
  },
  {
   "cell_type": "markdown",
   "metadata": {},
   "source": [
    "#### Due to presence of '#', ':' etc it's likely that this fastq file has Phred33 scale."
   ]
  },
  {
   "cell_type": "code",
   "execution_count": 11,
   "metadata": {},
   "outputs": [
    {
     "data": {
      "text/plain": [
       "(58, 35)"
      ]
     },
     "execution_count": 11,
     "metadata": {},
     "output_type": "execute_result"
    }
   ],
   "source": [
    "ord(\":\"), ord(\"#\")"
   ]
  },
  {
   "cell_type": "markdown",
   "metadata": {},
   "source": [
    "There are several problems with raw reads:  \n",
    "* Low quality at the end of reads\n",
    "* Systematic error with forward reads (bubble or something like this)\n",
    "* Severely non-uniform distribution of nucleotides at the start of the reads\n",
    "\n",
    "We can adreess the problems using trimmomatic. After several tries I ended up with the following configuration:\n",
    "* Do not crop adapters, probably these adapters are not usual\n",
    "* Crop 20 nucleotides from the start instead\n",
    "* Use sliding window so as to drop low quality at the end and tile problems\n",
    "* Minimal length = 30 as a 'rule of thumb'"
   ]
  },
  {
   "cell_type": "code",
   "execution_count": 12,
   "metadata": {},
   "outputs": [
    {
     "name": "stdout",
     "output_type": "stream",
     "text": [
      "TrimmomaticPE: Started with arguments: -phred33 -trimlog ../data/trim.log ../data/amp_res_1.fastq ../data/amp_res_2.fastq ../data/amp_res_1_p.fastq ../data/amp_res_1_u.fastq ../data/amp_res_2_p.fastq ../data/amp_res_2_u.fastq HEADCROP:20 SLIDINGWINDOW:4:25 MINLEN:30\n",
      "Multiple cores found: Using 16 threads\n",
      "Input Read Pairs: 455876 Both Surviving: 337781 (74.09%) Forward Only Surviving: 42881 (9.41%) Reverse Only Surviving: 30468 (6.68%) Dropped: 44746 (9.82%)\n",
      "TrimmomaticPE: Completed successfully\n"
     ]
    }
   ],
   "source": [
    "!java -jar $TRIMMOMATIC_JAR PE \\\n",
    "    -phred33 \\\n",
    "    -trimlog ../data/trim.log \\\n",
    "    ../data/amp_res_1.fastq ../data/amp_res_2.fastq \\\n",
    "    ../data/amp_res_1_p.fastq ../data/amp_res_1_u.fastq ../data/amp_res_2_p.fastq ../data/amp_res_2_u.fastq \\\n",
    "    HEADCROP:20 SLIDINGWINDOW:4:25 MINLEN:30"
   ]
  },
  {
   "cell_type": "code",
   "execution_count": 13,
   "metadata": {},
   "outputs": [
    {
     "name": "stdout",
     "output_type": "stream",
     "text": [
      "Analysis complete for amp_res_1_p.fastq\n",
      "Analysis complete for amp_res_2_p.fastq\n"
     ]
    }
   ],
   "source": [
    "!$FASTQC_PATH ../data/amp_res_1_p.fastq ../data/amp_res_2_p.fastq 2> /dev/null"
   ]
  },
  {
   "cell_type": "code",
   "execution_count": 14,
   "metadata": {},
   "outputs": [],
   "source": [
    "f_1 = perform_file_upload(open(\"../data/amp_res_1_p_fastqc.html\", \"r\").read(), \"week_1/fastqc_p_1.html\")\n",
    "f_2 = perform_file_upload(open(\"../data/amp_res_2_p_fastqc.html\", \"r\").read(), \"week_1/fastqc_p_2.html\")"
   ]
  },
  {
   "cell_type": "code",
   "execution_count": 15,
   "metadata": {},
   "outputs": [
    {
     "data": {
      "text/html": [
       "\n",
       "        <iframe\n",
       "            width=\"1000\"\n",
       "            height=\"600\"\n",
       "            src=\"http://bioinf-workshop.s3-website.eu-central-1.amazonaws.com/week_1/fastqc_p_1.html\"\n",
       "            frameborder=\"0\"\n",
       "            allowfullscreen\n",
       "        ></iframe>\n",
       "        "
      ],
      "text/plain": [
       "<IPython.lib.display.IFrame at 0x7efce157e780>"
      ]
     },
     "execution_count": 15,
     "metadata": {},
     "output_type": "execute_result"
    }
   ],
   "source": [
    "from IPython.display import IFrame\n",
    "\n",
    "IFrame(src=f_1, width=1000, height=600)"
   ]
  },
  {
   "cell_type": "code",
   "execution_count": 16,
   "metadata": {},
   "outputs": [
    {
     "data": {
      "text/html": [
       "\n",
       "        <iframe\n",
       "            width=\"1000\"\n",
       "            height=\"600\"\n",
       "            src=\"http://bioinf-workshop.s3-website.eu-central-1.amazonaws.com/week_1/fastqc_p_2.html\"\n",
       "            frameborder=\"0\"\n",
       "            allowfullscreen\n",
       "        ></iframe>\n",
       "        "
      ],
      "text/plain": [
       "<IPython.lib.display.IFrame at 0x7efce157e0f0>"
      ]
     },
     "execution_count": 16,
     "metadata": {},
     "output_type": "execute_result"
    }
   ],
   "source": [
    "from IPython.display import IFrame\n",
    "\n",
    "IFrame(src=f_2, width=1000, height=600)"
   ]
  },
  {
   "cell_type": "markdown",
   "metadata": {},
   "source": [
    "Now reads look suitable for further analysis."
   ]
  },
  {
   "cell_type": "markdown",
   "metadata": {},
   "source": [
    "# Build index"
   ]
  },
  {
   "cell_type": "code",
   "execution_count": 17,
   "metadata": {},
   "outputs": [
    {
     "name": "stdout",
     "output_type": "stream",
     "text": [
      "Bowtie 2 version 2.3.4.3 by Ben Langmead (langmea@cs.jhu.edu, www.cs.jhu.edu/~langmea)\r\n",
      "Usage: bowtie2-build [options]* <reference_in> <bt2_index_base>\r\n",
      "    reference_in            comma-separated list of files with ref sequences\r\n",
      "    bt2_index_base          write bt2 data to files with this dir/basename\r\n",
      "*** Bowtie 2 indexes work only with v2 (not v1).  Likewise for v1 indexes. ***\r\n",
      "Options:\r\n",
      "    -f                      reference files are Fasta (default)\r\n",
      "    -c                      reference sequences given on cmd line (as\r\n",
      "                            <reference_in>)\r\n",
      "    --large-index           force generated index to be 'large', even if ref\r\n",
      "                            has fewer than 4 billion nucleotides\r\n",
      "    --debug                 use the debug binary; slower, assertions enabled\r\n",
      "    --sanitized             use sanitized binary; slower, uses ASan and/or UBSan\r\n",
      "    --verbose               log the issued command\r\n",
      "    -a/--noauto             disable automatic -p/--bmax/--dcv memory-fitting\r\n",
      "    -p/--packed             use packed strings internally; slower, less memory\r\n",
      "    --bmax <int>            max bucket sz for blockwise suffix-array builder\r\n",
      "    --bmaxdivn <int>        max bucket sz as divisor of ref len (default: 4)\r\n",
      "    --dcv <int>             diff-cover period for blockwise (default: 1024)\r\n",
      "    --nodc                  disable diff-cover (algorithm becomes quadratic)\r\n",
      "    -r/--noref              don't build .3/.4 index files\r\n",
      "    -3/--justref            just build .3/.4 index files\r\n",
      "    -o/--offrate <int>      SA is sampled every 2^<int> BWT chars (default: 5)\r\n",
      "    -t/--ftabchars <int>    # of chars consumed in initial lookup (default: 10)\r\n",
      "    --threads <int>         # of threads\r\n",
      "    --seed <int>            seed for random number generator\r\n",
      "    -q/--quiet              verbose output (for debugging)\r\n",
      "    -h/--help               print detailed description of tool and its options\r\n",
      "    --usage                 print this usage message\r\n",
      "    --version               print version information and quit\r\n"
     ]
    }
   ],
   "source": [
    "!$BOWTIE_DIR/bowtie2-build -h"
   ]
  },
  {
   "cell_type": "code",
   "execution_count": 18,
   "metadata": {},
   "outputs": [
    {
     "name": "stdout",
     "output_type": "stream",
     "text": [
      "Settings:\n",
      "  Output files: \"../data/E-coli.idx.*.bt2\"\n",
      "  Line rate: 6 (line is 64 bytes)\n",
      "  Lines per side: 1 (side is 64 bytes)\n",
      "  Offset rate: 4 (one in 16)\n",
      "  FTable chars: 10\n",
      "  Strings: unpacked\n",
      "  Max bucket size: default\n",
      "  Max bucket size, sqrt multiplier: default\n",
      "  Max bucket size, len divisor: 4\n",
      "  Difference-cover sample period: 1024\n",
      "  Endianness: little\n",
      "  Actual local endianness: little\n",
      "  Sanity checking: disabled\n",
      "  Assertions: disabled\n",
      "  Random seed: 0\n",
      "  Sizeofs: void*:8, int:4, long:8, size_t:8\n",
      "Input files DNA, FASTA:\n",
      "  ../data/GCA_000005845.2_ASM584v2_genomic.fna.gz\n",
      "Building a SMALL index\n",
      "Reading reference sizes\n",
      "  Time reading reference sizes: 00:00:00\n",
      "Calculating joined length\n",
      "Writing header\n",
      "Reserving space for joined string\n",
      "Joining reference sequences\n",
      "  Time to join reference sequences: 00:00:00\n",
      "bmax according to bmaxDivN setting: 1160413\n",
      "Using parameters --bmax 870310 --dcv 1024\n",
      "  Doing ahead-of-time memory usage test\n",
      "  Passed!  Constructing with these parameters: --bmax 870310 --dcv 1024\n",
      "Constructing suffix-array element generator\n",
      "Building DifferenceCoverSample\n",
      "  Building sPrime\n",
      "  Building sPrimeOrder\n",
      "  V-Sorting samples\n",
      "  V-Sorting samples time: 00:00:00\n",
      "  Allocating rank array\n",
      "  Ranking v-sort output\n",
      "  Ranking v-sort output time: 00:00:00\n",
      "  Invoking Larsson-Sadakane on ranks\n",
      "  Invoking Larsson-Sadakane on ranks time: 00:00:00\n",
      "  Sanity-checking and returning\n",
      "Building samples\n",
      "Reserving space for 12 sample suffixes\n",
      "Generating random suffixes\n",
      "QSorting 12 sample offsets, eliminating duplicates\n",
      "QSorting sample offsets, eliminating duplicates time: 00:00:00\n",
      "Multikey QSorting 12 samples\n",
      "  (Using difference cover)\n",
      "  Multikey QSorting samples time: 00:00:00\n",
      "Calculating bucket sizes\n",
      "Splitting and merging\n",
      "  Splitting and merging time: 00:00:00\n",
      "Avg bucket size: 4.64165e+06 (target: 870309)\n",
      "Converting suffix-array elements to index image\n",
      "Allocating ftab, absorbFtab\n",
      "Entering Ebwt loop\n",
      "Getting block 1 of 1\n",
      "  No samples; assembling all-inclusive block\n",
      "  Sorting block of length 4641652 for bucket 1\n",
      "  (Using difference cover)\n",
      "  Sorting block time: 00:00:01\n",
      "Returning block of 4641653 for bucket 1\n",
      "Exited Ebwt loop\n",
      "fchr[A]: 0\n",
      "fchr[C]: 1142742\n",
      "fchr[G]: 2322833\n",
      "fchr[T]: 3500270\n",
      "fchr[$]: 4641652\n",
      "Exiting Ebwt::buildToDisk()\n",
      "Returning from initFromVector\n",
      "Wrote 5741797 bytes to primary EBWT file: ../data/E-coli.idx.1.bt2\n",
      "Wrote 1160420 bytes to secondary EBWT file: ../data/E-coli.idx.2.bt2\n",
      "Re-opening _in1 and _in2 as input streams\n",
      "Returning from Ebwt constructor\n",
      "Headers:\n",
      "    len: 4641652\n",
      "    bwtLen: 4641653\n",
      "    sz: 1160413\n",
      "    bwtSz: 1160414\n",
      "    lineRate: 6\n",
      "    offRate: 4\n",
      "    offMask: 0xfffffff0\n",
      "    ftabChars: 10\n",
      "    eftabLen: 20\n",
      "    eftabSz: 80\n",
      "    ftabLen: 1048577\n",
      "    ftabSz: 4194308\n",
      "    offsLen: 290104\n",
      "    offsSz: 1160416\n",
      "    lineSz: 64\n",
      "    sideSz: 64\n",
      "    sideBwtSz: 48\n",
      "    sideBwtLen: 192\n",
      "    numSides: 24176\n",
      "    numLines: 24176\n",
      "    ebwtTotLen: 1547264\n",
      "    ebwtTotSz: 1547264\n",
      "    color: 0\n",
      "    reverse: 0\n",
      "Total time for call to driver() for forward index: 00:00:01\n",
      "Reading reference sizes\n",
      "  Time reading reference sizes: 00:00:00\n",
      "Calculating joined length\n",
      "Writing header\n",
      "Reserving space for joined string\n",
      "Joining reference sequences\n",
      "  Time to join reference sequences: 00:00:00\n",
      "  Time to reverse reference sequence: 00:00:00\n",
      "bmax according to bmaxDivN setting: 1160413\n",
      "Using parameters --bmax 870310 --dcv 1024\n",
      "  Doing ahead-of-time memory usage test\n",
      "  Passed!  Constructing with these parameters: --bmax 870310 --dcv 1024\n",
      "Constructing suffix-array element generator\n",
      "Building DifferenceCoverSample\n",
      "  Building sPrime\n",
      "  Building sPrimeOrder\n",
      "  V-Sorting samples\n",
      "  V-Sorting samples time: 00:00:00\n",
      "  Allocating rank array\n",
      "  Ranking v-sort output\n",
      "  Ranking v-sort output time: 00:00:00\n",
      "  Invoking Larsson-Sadakane on ranks\n",
      "  Invoking Larsson-Sadakane on ranks time: 00:00:00\n",
      "  Sanity-checking and returning\n",
      "Building samples\n",
      "Reserving space for 12 sample suffixes\n",
      "Generating random suffixes\n",
      "QSorting 12 sample offsets, eliminating duplicates\n",
      "QSorting sample offsets, eliminating duplicates time: 00:00:00\n",
      "Multikey QSorting 12 samples\n",
      "  (Using difference cover)\n",
      "  Multikey QSorting samples time: 00:00:00\n",
      "Calculating bucket sizes\n",
      "Splitting and merging\n",
      "  Splitting and merging time: 00:00:00\n",
      "Avg bucket size: 4.64165e+06 (target: 870309)\n",
      "Converting suffix-array elements to index image\n",
      "Allocating ftab, absorbFtab\n",
      "Entering Ebwt loop\n",
      "Getting block 1 of 1\n",
      "  No samples; assembling all-inclusive block\n",
      "  Sorting block of length 4641652 for bucket 1\n",
      "  (Using difference cover)\n",
      "  Sorting block time: 00:00:01\n",
      "Returning block of 4641653 for bucket 1\n",
      "Exited Ebwt loop\n",
      "fchr[A]: 0\n",
      "fchr[C]: 1142742\n",
      "fchr[G]: 2322833\n",
      "fchr[T]: 3500270\n",
      "fchr[$]: 4641652\n",
      "Exiting Ebwt::buildToDisk()\n",
      "Returning from initFromVector\n",
      "Wrote 5741797 bytes to primary EBWT file: ../data/E-coli.idx.rev.1.bt2\n",
      "Wrote 1160420 bytes to secondary EBWT file: ../data/E-coli.idx.rev.2.bt2\n",
      "Re-opening _in1 and _in2 as input streams\n",
      "Returning from Ebwt constructor\n",
      "Headers:\n",
      "    len: 4641652\n",
      "    bwtLen: 4641653\n",
      "    sz: 1160413\n",
      "    bwtSz: 1160414\n",
      "    lineRate: 6\n",
      "    offRate: 4\n",
      "    offMask: 0xfffffff0\n",
      "    ftabChars: 10\n",
      "    eftabLen: 20\n",
      "    eftabSz: 80\n",
      "    ftabLen: 1048577\n",
      "    ftabSz: 4194308\n",
      "    offsLen: 290104\n",
      "    offsSz: 1160416\n",
      "    lineSz: 64\n",
      "    sideSz: 64\n",
      "    sideBwtSz: 48\n",
      "    sideBwtLen: 192\n",
      "    numSides: 24176\n",
      "    numLines: 24176\n",
      "    ebwtTotLen: 1547264\n",
      "    ebwtTotSz: 1547264\n",
      "    color: 0\n",
      "    reverse: 1\n",
      "Total time for backward call to driver() for mirror index: 00:00:01\n"
     ]
    }
   ],
   "source": [
    "!$BOWTIE_DIR/bowtie2-build ../data/GCA_000005845.2_ASM584v2_genomic.fna.gz ../data/E-coli.idx"
   ]
  },
  {
   "cell_type": "markdown",
   "metadata": {},
   "source": [
    "# Align reads"
   ]
  },
  {
   "cell_type": "code",
   "execution_count": 19,
   "metadata": {},
   "outputs": [
    {
     "name": "stdout",
     "output_type": "stream",
     "text": [
      "337781 reads; of these:\r\n",
      "  337781 (100.00%) were paired; of these:\r\n",
      "    42283 (12.52%) aligned concordantly 0 times\r\n",
      "    287309 (85.06%) aligned concordantly exactly 1 time\r\n",
      "    8189 (2.42%) aligned concordantly >1 times\r\n",
      "    ----\r\n",
      "    42283 pairs aligned concordantly 0 times; of these:\r\n",
      "      29947 (70.83%) aligned discordantly 1 time\r\n",
      "    ----\r\n",
      "    12336 pairs aligned 0 times concordantly or discordantly; of these:\r\n",
      "      24672 mates make up the pairs; of these:\r\n",
      "        20568 (83.37%) aligned 0 times\r\n",
      "        2385 (9.67%) aligned exactly 1 time\r\n",
      "        1719 (6.97%) aligned >1 times\r\n",
      "96.96% overall alignment rate\r\n"
     ]
    }
   ],
   "source": [
    "!$BOWTIE_DIR/bowtie2 -x ../data/E-coli.idx \\\n",
    "    -1 ../data/amp_res_1_p.fastq \\\n",
    "    -2 ../data/amp_res_2_p.fastq \\\n",
    "    -p 20 > ../data/alignment.sam"
   ]
  },
  {
   "cell_type": "code",
   "execution_count": 20,
   "metadata": {
    "scrolled": true
   },
   "outputs": [
    {
     "name": "stdout",
     "output_type": "stream",
     "text": [
      "@HD\tVN:1.0\tSO:unsorted\r\n",
      "@SQ\tSN:U00096.3\tLN:4641652\r\n",
      "@PG\tID:bowtie2\tPN:bowtie2\tVN:2.3.4.3\tCL:\"/home/analytics/distr/bowtie2-2.3.4.3-linux-x86_64/bowtie2-align-s --wrapper basic-0 -x ../data/E-coli.idx -p 20 -1 ../data/amp_res_1_p.fastq -2 ../data/amp_res_2_p.fastq\"\r\n",
      "SRR1363257.37\t99\tU00096.3\t232669\t42\t43M\t=\t232779\t150\tGCTGTTCCAGCGCATCACATCTTTGATGTTCACGCCGTGGCGT\t@E:FFHGAE4?C?DE<BFGEC>?>FHE4BFFIIFHIBABEECA\tAS:i:0\tXN:i:0\tXM:i:0\tXO:i:0\tXG:i:0\tNM:i:0\tMD:Z:43\tYS:i:0\tYT:Z:CP\r\n",
      "SRR1363257.37\t147\tU00096.3\t232779\t42\t40M\t=\t232669\t-150\tGTCGCTGTGCGCTACTGCCTGCACCAATCGTCAAACTTTG\tDHHE9AA8F<<8D?F;@>D@??:B:9@EGHHFHBA;HGFA\tAS:i:0\tXN:i:0\tXM:i:0\tXO:i:0\tXG:i:0\tNM:i:0\tMD:Z:40\tYS:i:0\tYT:Z:CP\r\n",
      "SRR1363257.78\t99\tU00096.3\t2481311\t42\t80M\t=\t2481359\t129\tGAGTAAAATAAATACGCGCATGTGATACTCACAATACCAATGGTGAAGTTACGGGACTTAAACAAACTGAGATCAAGAAT\tJJJFFHIJJJJJJJJJJJJJJJJJJJJJJJIJHHHHHHFDEDF;AEEEEEEDDDDDBBACDDDCDDDDCCDDDDDDCCDC\tAS:i:0\tXN:i:0\tXM:i:0\tXO:i:0\tXG:i:0\tNM:i:0\tMD:Z:80\tYS:i:0\tYT:Z:CP\r\n",
      "SRR1363257.78\t147\tU00096.3\t2481359\t42\t81M\t=\t2481311\t-129\tTTACGGGACTTAAACAAACTGAGATCAAGAATCGGGTTCTCTGAGGTCGACTCCCAAATGACTAAAGAGATCAGAGAAATA\tBDDDCCDCCAA?DEEEFEEEFFFFFFHHHHHGJJJJJJJIJIJJJIJIHGGGIIJIJJHIHJIJJJJJJIGJIJJJJIJJJ\tAS:i:0\tXN:i:0\tXM:i:0\tXO:i:0\tXG:i:0\tNM:i:0\tMD:Z:81\tYS:i:0\tYT:Z:CP\r\n",
      "SRR1363257.96\t97\tU00096.3\t348438\t42\t81M\t=\t348420\t-99\tTGCCATAGCGCACCGCAAAGTTAAGAAACCGAATATTGGGTTTAGTCTTGTTTCATAATTGTTGCAATGAAACGCGGTGAA\tIIJJJJJJGIJJJJJIJJIIGHJJJJJIIJJDHFFFFFEDACDDDCDDDDCCDDECACCDCCCDACDDDDCCDDDDDBD@A\tAS:i:0\tXN:i:0\tXM:i:0\tXO:i:0\tXG:i:0\tNM:i:0\tMD:Z:81\tYS:i:0\tYT:Z:DP\r\n",
      "SRR1363257.96\t145\tU00096.3\t348420\t42\t81M\t=\t348438\t99\tATTAAGCCGTGGTGGATGTGCCATAGCGCACCGCAAAGTTAAGAAACCGAATATTGGGTTTAGTCTTGTTTCATAATTGTT\tDCDDDDDDDBADDDDDDDDDDDDDDDDDDDFFGHHHHHIGJJJGIFJIIHFJJIJJJJJJJJIJIJJIJJIJIJJJJJJIJ\tAS:i:0\tXN:i:0\tXM:i:0\tXO:i:0\tXG:i:0\tNM:i:0\tMD:Z:81\tYS:i:0\tYT:Z:DP\r\n",
      "SRR1363257.108\t99\tU00096.3\t2109327\t42\t80M\t=\t2109410\t164\tCCAAAAAATAGACGTTACTTTATCTTTACTATCTGCTGCTTTGGCAATACTCTGAGTTGCTGTGAGATTGAAACCATATT\tJIGIGIJJIIIGJJIJIJJJJJJJJJJIJJJJGIIJIIJGHHGEHFFDFFFEDEDC>CCDDDDDDDCDCCCCCDAACCCE\tAS:i:0\tXN:i:0\tXM:i:0\tXO:i:0\tXG:i:0\tNM:i:0\tMD:Z:80\tYS:i:0\tYT:Z:CP\r\n"
     ]
    }
   ],
   "source": [
    "!head -n 10 ../data/alignment.sam"
   ]
  },
  {
   "cell_type": "code",
   "execution_count": 21,
   "metadata": {},
   "outputs": [],
   "source": [
    "!$SAMTOOLS_DIR/samtools view -S -b ../data/alignment.sam > ../data/alignment.bam"
   ]
  },
  {
   "cell_type": "code",
   "execution_count": 22,
   "metadata": {
    "scrolled": true
   },
   "outputs": [
    {
     "name": "stdout",
     "output_type": "stream",
     "text": [
      "675562 + 0 in total (QC-passed reads + QC-failed reads)\r\n",
      "0 + 0 secondary\r\n",
      "0 + 0 supplementary\r\n",
      "0 + 0 duplicates\r\n",
      "654994 + 0 mapped (96.96% : N/A)\r\n",
      "675562 + 0 paired in sequencing\r\n",
      "337781 + 0 read1\r\n",
      "337781 + 0 read2\r\n",
      "590996 + 0 properly paired (87.48% : N/A)\r\n",
      "652610 + 0 with itself and mate mapped\r\n",
      "2384 + 0 singletons (0.35% : N/A)\r\n",
      "0 + 0 with mate mapped to a different chr\r\n",
      "0 + 0 with mate mapped to a different chr (mapQ>=5)\r\n"
     ]
    }
   ],
   "source": [
    "!$SAMTOOLS_DIR/samtools flagstat ../data/alignment.bam"
   ]
  },
  {
   "cell_type": "markdown",
   "metadata": {},
   "source": [
    "88.6% of read pairs has been successfully mapped. It looks 'okay'"
   ]
  },
  {
   "cell_type": "code",
   "execution_count": 23,
   "metadata": {},
   "outputs": [],
   "source": [
    "!$SAMTOOLS_DIR/samtools sort \\\n",
    "    ../data/alignment.bam \\\n",
    "    -o ../data/alignment_sorted.bam"
   ]
  },
  {
   "cell_type": "code",
   "execution_count": 24,
   "metadata": {},
   "outputs": [],
   "source": [
    "!$SAMTOOLS_DIR/samtools index ../data/alignment_sorted.bam"
   ]
  },
  {
   "cell_type": "markdown",
   "metadata": {},
   "source": [
    "# Variant calling"
   ]
  },
  {
   "cell_type": "code",
   "execution_count": 25,
   "metadata": {},
   "outputs": [],
   "source": [
    "!gunzip ../data/GCA_000005845.2_ASM584v2_genomic.fna.gz"
   ]
  },
  {
   "cell_type": "code",
   "execution_count": 26,
   "metadata": {},
   "outputs": [
    {
     "name": "stdout",
     "output_type": "stream",
     "text": [
      "[mpileup] 1 samples in 1 input files\r\n"
     ]
    }
   ],
   "source": [
    "!$SAMTOOLS_DIR/samtools mpileup \\\n",
    "    -f ../data/GCA_000005845.2_ASM584v2_genomic.fna \\\n",
    "    ../data/alignment_sorted.bam >  ../data/Ecoli.mpileup"
   ]
  },
  {
   "cell_type": "code",
   "execution_count": 27,
   "metadata": {},
   "outputs": [
    {
     "name": "stdout",
     "output_type": "stream",
     "text": [
      "U00096.3\t1\tA\t1\t^K.\tE\r\n",
      "U00096.3\t2\tG\t1\t.\tJ\r\n",
      "U00096.3\t3\tC\t1\t.\tJ\r\n",
      "U00096.3\t4\tT\t1\t.\tJ\r\n",
      "U00096.3\t5\tT\t2\t..\tJJ\r\n",
      "U00096.3\t6\tT\t2\t..\tJJ\r\n",
      "U00096.3\t7\tT\t3\t..^K.\tJJE\r\n",
      "U00096.3\t8\tC\t3\t...\tIJJ\r\n",
      "U00096.3\t9\tA\t3\t...\tGJJ\r\n",
      "U00096.3\t10\tT\t3\t...\tGJJ\r\n"
     ]
    }
   ],
   "source": [
    "!head -n 10 ../data/Ecoli.mpileup"
   ]
  },
  {
   "cell_type": "code",
   "execution_count": 28,
   "metadata": {},
   "outputs": [
    {
     "name": "stdout",
     "output_type": "stream",
     "text": [
      "Only SNPs will be reported\r\n",
      "Warning: No p-value threshold provided, so p-values will not be calculated\r\n",
      "Min coverage:\t8\r\n",
      "Min reads2:\t2\r\n",
      "Min var freq:\t0.2\r\n",
      "Min avg qual:\t15\r\n",
      "P-value thresh:\t0.01\r\n",
      "USAGE: java -jar VarScan.jar mpileup2cns [pileup file] OPTIONS\r\n",
      "\tmpileup file - The SAMtools mpileup file\r\n",
      "\r\n",
      "\tOPTIONS:\r\n",
      "\t--min-coverage\tMinimum read depth at a position to make a call [8]\r\n",
      "\t--min-reads2\tMinimum supporting reads at a position to call variants [2]\r\n",
      "\t--min-avg-qual\tMinimum base quality at a position to count a read [15]\r\n",
      "\t--min-var-freq\tMinimum variant allele frequency threshold [0.01]\r\n",
      "\t--min-freq-for-hom\tMinimum frequency to call homozygote [0.75]\r\n",
      "\t--p-value\tDefault p-value threshold for calling variants [99e-02]\r\n",
      "\t--strand-filter\tIgnore variants with >90% support on one strand [1]\r\n",
      "\t--output-vcf\tIf set to 1, outputs in VCF format\r\n",
      "\t--vcf-sample-list\tFor VCF output, a list of sample names in order, one per line\r\n",
      "\t--variants\tReport only variant (SNP/indel) positions [0]\r\n"
     ]
    }
   ],
   "source": [
    "!java -jar $VARSCAN_DIR/VarScan.v2.4.0.jar mpileup2snp -h"
   ]
  },
  {
   "cell_type": "code",
   "execution_count": 29,
   "metadata": {},
   "outputs": [
    {
     "name": "stdout",
     "output_type": "stream",
     "text": [
      "Only SNPs will be reported\n",
      "Warning: No p-value threshold provided, so p-values will not be calculated\n",
      "Min coverage:\t8\n",
      "Min reads2:\t2\n",
      "Min var freq:\t0.05\n",
      "Min avg qual:\t15\n",
      "P-value thresh:\t0.01\n",
      "Reading input from ../data/Ecoli.mpileup\n",
      "4634226 bases in pileup file\n",
      "5 variant positions (5 SNP, 0 indel)\n",
      "0 were failed by the strand-filter\n",
      "5 variant positions reported (5 SNP, 0 indel)\n"
     ]
    }
   ],
   "source": [
    "!java -jar $VARSCAN_DIR/VarScan.v2.4.0.jar \\\n",
    "    mpileup2snp ../data/Ecoli.mpileup --min-var-freq .05 \\\n",
    "    --variants \\\n",
    "    --output-vcf 1 > ../data/VarScan_results.vcf"
   ]
  },
  {
   "cell_type": "code",
   "execution_count": 30,
   "metadata": {
    "scrolled": true
   },
   "outputs": [
    {
     "name": "stdout",
     "output_type": "stream",
     "text": [
      "##fileformat=VCFv4.1\r\n",
      "##source=VarScan2\r\n",
      "##INFO=<ID=ADP,Number=1,Type=Integer,Description=\"Average per-sample depth of bases with Phred score >= 15\">\r\n",
      "##INFO=<ID=WT,Number=1,Type=Integer,Description=\"Number of samples called reference (wild-type)\">\r\n",
      "##INFO=<ID=HET,Number=1,Type=Integer,Description=\"Number of samples called heterozygous-variant\">\r\n",
      "##INFO=<ID=HOM,Number=1,Type=Integer,Description=\"Number of samples called homozygous-variant\">\r\n",
      "##INFO=<ID=NC,Number=1,Type=Integer,Description=\"Number of samples not called\">\r\n",
      "##FILTER=<ID=str10,Description=\"Less than 10% or more than 90% of variant supporting reads on one strand\">\r\n",
      "##FILTER=<ID=indelError,Description=\"Likely artifact due to indel reads at this position\">\r\n",
      "##FORMAT=<ID=GT,Number=1,Type=String,Description=\"Genotype\">\r\n",
      "##FORMAT=<ID=GQ,Number=1,Type=Integer,Description=\"Genotype Quality\">\r\n",
      "##FORMAT=<ID=SDP,Number=1,Type=Integer,Description=\"Raw Read Depth as reported by SAMtools\">\r\n",
      "##FORMAT=<ID=DP,Number=1,Type=Integer,Description=\"Quality Read Depth of bases with Phred score >= 15\">\r\n",
      "##FORMAT=<ID=RD,Number=1,Type=Integer,Description=\"Depth of reference-supporting bases (reads1)\">\r\n",
      "##FORMAT=<ID=AD,Number=1,Type=Integer,Description=\"Depth of variant-supporting bases (reads2)\">\r\n",
      "##FORMAT=<ID=FREQ,Number=1,Type=String,Description=\"Variant allele frequency\">\r\n",
      "##FORMAT=<ID=PVAL,Number=1,Type=String,Description=\"P-value from Fisher's Exact Test\">\r\n",
      "##FORMAT=<ID=RBQ,Number=1,Type=Integer,Description=\"Average quality of reference-supporting bases (qual1)\">\r\n",
      "##FORMAT=<ID=ABQ,Number=1,Type=Integer,Description=\"Average quality of variant-supporting bases (qual2)\">\r\n",
      "##FORMAT=<ID=RDF,Number=1,Type=Integer,Description=\"Depth of reference-supporting bases on forward strand (reads1plus)\">\r\n",
      "##FORMAT=<ID=RDR,Number=1,Type=Integer,Description=\"Depth of reference-supporting bases on reverse strand (reads1minus)\">\r\n",
      "##FORMAT=<ID=ADF,Number=1,Type=Integer,Description=\"Depth of variant-supporting bases on forward strand (reads2plus)\">\r\n",
      "##FORMAT=<ID=ADR,Number=1,Type=Integer,Description=\"Depth of variant-supporting bases on reverse strand (reads2minus)\">\r\n",
      "#CHROM\tPOS\tID\tREF\tALT\tQUAL\tFILTER\tINFO\tFORMAT\tSample1\r\n",
      "U00096.3\t482698\t.\tT\tA\t.\tPASS\tADP=12;WT=0;HET=0;HOM=1;NC=0\tGT:GQ:SDP:DP:RD:AD:FREQ:PVAL:RBQ:ABQ:RDF:RDR:ADF:ADR\t1/1:64:12:12:0:12:100%:3.698E-7:0:42:0:0:7:5\r\n",
      "U00096.3\t852762\t.\tA\tG\t.\tPASS\tADP=9;WT=0;HET=0;HOM=1;NC=0\tGT:GQ:SDP:DP:RD:AD:FREQ:PVAL:RBQ:ABQ:RDF:RDR:ADF:ADR\t1/1:46:9:9:0:9:100%:2.0568E-5:0:36:0:0:7:2\r\n",
      "U00096.3\t1905761\t.\tG\tA\t.\tPASS\tADP=10;WT=0;HET=0;HOM=1;NC=0\tGT:GQ:SDP:DP:RD:AD:FREQ:PVAL:RBQ:ABQ:RDF:RDR:ADF:ADR\t1/1:52:10:10:0:10:100%:5.4125E-6:0:38:0:0:10:0\r\n",
      "U00096.3\t4296060\t.\tC\tT\t.\tPASS\tADP=19;WT=0;HET=1;HOM=0;NC=0\tGT:GQ:SDP:DP:RD:AD:FREQ:PVAL:RBQ:ABQ:RDF:RDR:ADF:ADR\t0/1:23:19:19:12:7:36.84%:3.9926E-3:37:37:7:5:6:1\r\n",
      "U00096.3\t4390754\t.\tG\tT\t.\tPASS\tADP=10;WT=0;HET=0;HOM=1;NC=0\tGT:GQ:SDP:DP:RD:AD:FREQ:PVAL:RBQ:ABQ:RDF:RDR:ADF:ADR\t1/1:52:10:10:0:10:100%:5.4125E-6:0:36:0:0:6:4\r\n"
     ]
    }
   ],
   "source": [
    "!head -n 40 ../data/VarScan_results.vcf"
   ]
  },
  {
   "cell_type": "code",
   "execution_count": 31,
   "metadata": {},
   "outputs": [],
   "source": [
    "!gunzip ../data/GCA_000005845.2_ASM584v2_genomic.gff.gz"
   ]
  },
  {
   "cell_type": "code",
   "execution_count": 32,
   "metadata": {},
   "outputs": [
    {
     "name": "stdout",
     "output_type": "stream",
     "text": [
      "U00096.3\tGenbank\tregion\t1\t4641652\t.\t+\t.\tID=id0;Dbxref=taxon:511145;Is_circular=true;Name=ANONYMOUS;gbkey=Src;genome=chromosome;mol_type=genomic DNA;strain=K-12;substrain=MG1655\r\n",
      "U00096.3\tGenbank\tgene\t481254\t484403\t.\t-\t.\tID=gene477;Dbxref=ASAP:ABE-0001601,ECOCYC:EG11704,EcoGene:EG11704;Name=acrB;gbkey=Gene;gene=acrB;gene_biotype=protein_coding;gene_synonym=acrE,ECK0456;locus_tag=b0462\r\n",
      "U00096.3\tGenbank\tCDS\t481254\t484403\t.\t-\t0\tID=cds459;Parent=gene477;Dbxref=UniProtKB/Swiss-Prot:P31224,NCBI_GP:AAC73564.1,ASAP:ABE-0001601,ECOCYC:EG11704,EcoGene:EG11704;Name=AAC73564.1;gbkey=CDS;gene=acrB;orig_transcript_id=gnl|b0462|mrna.b0462;product=multidrug efflux pump RND permease AcrB;protein_id=AAC73564.1;transl_table=11\r\n"
     ]
    }
   ],
   "source": [
    "!cat ../data/GCA_000005845.2_ASM584v2_genomic.gff | awk '{ if ($4 <= 482698 && $5 >= 482698) { print $0 } }'"
   ]
  },
  {
   "cell_type": "code",
   "execution_count": 33,
   "metadata": {},
   "outputs": [],
   "source": [
    "fasta_lines = open(\"../data/GCA_000005845.2_ASM584v2_genomic.fna\", \"r\").readlines()\n",
    "genome_string = \"\".join([l.strip() for l in fasta_lines[1:]])"
   ]
  },
  {
   "cell_type": "code",
   "execution_count": 34,
   "metadata": {},
   "outputs": [
    {
     "data": {
      "text/html": [
       "\n",
       "        <iframe\n",
       "            width=\"1000\"\n",
       "            height=\"600\"\n",
       "            src=\"https://en.wikipedia.org/wiki/DNA_codon_table\"\n",
       "            frameborder=\"0\"\n",
       "            allowfullscreen\n",
       "        ></iframe>\n",
       "        "
      ],
      "text/plain": [
       "<IPython.lib.display.IFrame at 0x7efce159e550>"
      ]
     },
     "execution_count": 34,
     "metadata": {},
     "output_type": "execute_result"
    }
   ],
   "source": [
    "from IPython.display import IFrame\n",
    "\n",
    "IFrame(src=\"https://en.wikipedia.org/wiki/DNA_codon_table\", width=1000, height=600)"
   ]
  },
  {
   "cell_type": "code",
   "execution_count": 35,
   "metadata": {},
   "outputs": [
    {
     "name": "stdout",
     "output_type": "stream",
     "text": [
      "CTG CAG\n"
     ]
    }
   ],
   "source": [
    "codone_pos = (482698 - 481254) % 3\n",
    "codone_start = 482698 - codone_pos - 1\n",
    "codone = genome_string[codone_start:codone_start+3]\n",
    "print(codone, codone[:codone_pos] + \"A\" + codone[codone_pos+1:])"
   ]
  },
  {
   "cell_type": "markdown",
   "metadata": {},
   "source": [
    "CTG -> CAG means Leucine to Glutamine substitution. It is a missense mutation that potentially could explain differences in response to antibiotics."
   ]
  },
  {
   "cell_type": "code",
   "execution_count": 36,
   "metadata": {},
   "outputs": [
    {
     "name": "stdout",
     "output_type": "stream",
     "text": [
      "U00096.3\tGenbank\tregion\t1\t4641652\t.\t+\t.\tID=id0;Dbxref=taxon:511145;Is_circular=true;Name=ANONYMOUS;gbkey=Src;genome=chromosome;mol_type=genomic DNA;strain=K-12;substrain=MG1655\r\n",
      "U00096.3\tGenbank\tgene\t852725\t853064\t.\t-\t.\tID=gene842;Dbxref=ASAP:ABE-0047240,ECOCYC:G0-8881;Name=rybA;gbkey=Gene;gene=rybA;gene_biotype=ncRNA;gene_synonym=ECK0806;locus_tag=b4416\r\n",
      "U00096.3\tGenbank\tncRNA\t852725\t853064\t.\t-\t.\tID=rna30;Parent=gene842;Dbxref=ASAP:ABE-0047240,ECOCYC:G0-8881;gbkey=ncRNA;gene=rybA;product=small RNA RybA\r\n",
      "U00096.3\tGenbank\texon\t852725\t853064\t.\t-\t.\tID=id228;Parent=rna30;Dbxref=ASAP:ABE-0047240,ECOCYC:G0-8881;gbkey=ncRNA;gene=rybA;product=small RNA RybA\r\n"
     ]
    }
   ],
   "source": [
    "!cat ../data/GCA_000005845.2_ASM584v2_genomic.gff | awk '{ if ($4 <= 852762 && $5 >= 852762) { print $0 } }'"
   ]
  },
  {
   "cell_type": "code",
   "execution_count": 37,
   "metadata": {
    "scrolled": true
   },
   "outputs": [
    {
     "name": "stdout",
     "output_type": "stream",
     "text": [
      "AAA AGA\n"
     ]
    }
   ],
   "source": [
    "codone_pos = (852762 - 852725) % 3\n",
    "codone_start = 852762 - codone_pos - 1\n",
    "codone = genome_string[codone_start:codone_start+3]\n",
    "print(codone, codone[:codone_pos] + \"G\" + codone[codone_pos+1:])"
   ]
  },
  {
   "cell_type": "markdown",
   "metadata": {},
   "source": [
    "AAA -> AGA means Lysine to Arginine substitution. It is a conservative substitution."
   ]
  },
  {
   "cell_type": "code",
   "execution_count": 38,
   "metadata": {},
   "outputs": [
    {
     "name": "stdout",
     "output_type": "stream",
     "text": [
      "U00096.3\tGenbank\tregion\t1\t4641652\t.\t+\t.\tID=id0;Dbxref=taxon:511145;Is_circular=true;Name=ANONYMOUS;gbkey=Src;genome=chromosome;mol_type=genomic DNA;strain=K-12;substrain=MG1655\r\n",
      "U00096.3\tGenbank\tgene\t1905688\t1906254\t.\t+\t.\tID=gene1904;Dbxref=ASAP:ABE-0006065,ECOCYC:G6999,EcoGene:EG14012;Name=mntP;gbkey=Gene;gene=mntP;gene_biotype=protein_coding;gene_synonym=ECK1819,yebN;locus_tag=b1821\r\n",
      "U00096.3\tGenbank\tCDS\t1905688\t1906254\t.\t+\t0\tID=cds1844;Parent=gene1904;Dbxref=UniProtKB/Swiss-Prot:P76264,NCBI_GP:AAC74891.2,ASAP:ABE-0006065,ECOCYC:G6999,EcoGene:EG14012;Name=AAC74891.2;gbkey=CDS;gene=mntP;orig_transcript_id=gnl|b1821|mrna.b1821;product=Mn(2(+)) exporter;protein_id=AAC74891.2;transl_table=11\r\n"
     ]
    }
   ],
   "source": [
    "!cat ../data/GCA_000005845.2_ASM584v2_genomic.gff | awk '{ if ($4 <= 1905761 && $5 >= 1905761) { print $0 } }'"
   ]
  },
  {
   "cell_type": "code",
   "execution_count": 39,
   "metadata": {},
   "outputs": [
    {
     "name": "stdout",
     "output_type": "stream",
     "text": [
      "GGT GAT\n"
     ]
    }
   ],
   "source": [
    "codone_pos = (1905761 - 1905688) % 3\n",
    "codone_start = 1905761 - codone_pos - 1\n",
    "codone = genome_string[codone_start:codone_start+3]\n",
    "print(codone, codone[:codone_pos] + \"A\" + codone[codone_pos+1:])"
   ]
  },
  {
   "cell_type": "markdown",
   "metadata": {},
   "source": [
    "GGT -> GAT means Glycine to Aspartate substitution. It is a missense mutation that potentially could explain differences in response to antibiotics."
   ]
  },
  {
   "cell_type": "code",
   "execution_count": 40,
   "metadata": {},
   "outputs": [
    {
     "name": "stdout",
     "output_type": "stream",
     "text": [
      "U00096.3\tGenbank\tregion\t1\t4641652\t.\t+\t.\tID=id0;Dbxref=taxon:511145;Is_circular=true;Name=ANONYMOUS;gbkey=Src;genome=chromosome;mol_type=genomic DNA;strain=K-12;substrain=MG1655\r\n"
     ]
    }
   ],
   "source": [
    "!cat ../data/GCA_000005845.2_ASM584v2_genomic.gff | awk '{ if ($4 <= 4296060 && $5 >= 4296060) { print $0 } }'"
   ]
  },
  {
   "cell_type": "markdown",
   "metadata": {},
   "source": [
    "Here is just a substitution in a 'middle of nowhere' region. In fact, it could explain resistance too, but through different mechanisms, like regulation of gene expression. However evidence we've got are barely enough to say something about that."
   ]
  },
  {
   "cell_type": "code",
   "execution_count": 41,
   "metadata": {
    "scrolled": true
   },
   "outputs": [
    {
     "name": "stdout",
     "output_type": "stream",
     "text": [
      "U00096.3\tGenbank\tregion\t1\t4641652\t.\t+\t.\tID=id0;Dbxref=taxon:511145;Is_circular=true;Name=ANONYMOUS;gbkey=Src;genome=chromosome;mol_type=genomic DNA;strain=K-12;substrain=MG1655\r\n",
      "U00096.3\tGenbank\tgene\t4390457\t4391509\t.\t-\t.\tID=gene4314;Dbxref=ASAP:ABE-0013626,ECOCYC:G7841,EcoGene:EG12479;Name=rsgA;gbkey=Gene;gene=rsgA;gene_biotype=protein_coding;gene_synonym=ECK4157,yjeQ;locus_tag=b4161\r\n",
      "U00096.3\tGenbank\tCDS\t4390457\t4391509\t.\t-\t0\tID=cds4118;Parent=gene4314;Dbxref=UniProtKB/Swiss-Prot:P39286,NCBI_GP:AAC77121.2,ASAP:ABE-0013626,ECOCYC:G7841,EcoGene:EG12479;Name=AAC77121.2;gbkey=CDS;gene=rsgA;orig_transcript_id=gnl|b4161|mrna.b4161;product=ribosome small subunit-dependent GTPase A;protein_id=AAC77121.2;transl_table=11\r\n"
     ]
    }
   ],
   "source": [
    "!cat ../data/GCA_000005845.2_ASM584v2_genomic.gff | awk '{ if ($4 <= 4390754 && $5 >= 4390754) { print $0 } }'"
   ]
  },
  {
   "cell_type": "code",
   "execution_count": 42,
   "metadata": {
    "scrolled": true
   },
   "outputs": [
    {
     "name": "stdout",
     "output_type": "stream",
     "text": [
      "GGC TGC\n"
     ]
    }
   ],
   "source": [
    "codone_pos = (4390754 - 4390457) % 3\n",
    "codone_start = 4390754 - codone_pos - 1\n",
    "codone = genome_string[codone_start:codone_start+3]\n",
    "print(codone, codone[:codone_pos] + \"T\" + codone[codone_pos+1:])"
   ]
  },
  {
   "cell_type": "markdown",
   "metadata": {},
   "source": [
    "GGC -> TGC means Glycine to Cysteine substitution. It is a missense mutation that potentially could explain differences in response to antibiotics."
   ]
  }
 ],
 "metadata": {
  "anaconda-cloud": {},
  "kernelspec": {
   "display_name": "Python [conda env:anaconda3]",
   "language": "python",
   "name": "conda-env-anaconda3-py"
  },
  "language_info": {
   "codemirror_mode": {
    "name": "ipython",
    "version": 3
   },
   "file_extension": ".py",
   "mimetype": "text/x-python",
   "name": "python",
   "nbconvert_exporter": "python",
   "pygments_lexer": "ipython3",
   "version": "3.5.4"
  }
 },
 "nbformat": 4,
 "nbformat_minor": 2
}
